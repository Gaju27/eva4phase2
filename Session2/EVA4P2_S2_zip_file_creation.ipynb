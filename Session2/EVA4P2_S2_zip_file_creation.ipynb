{
  "nbformat": 4,
  "nbformat_minor": 0,
  "metadata": {
    "colab": {
      "name": "EVA4P2_S2_zip_file_creation.ipynb",
      "provenance": [],
      "collapsed_sections": [],
      "toc_visible": true,
      "machine_shape": "hm"
    },
    "kernelspec": {
      "name": "python3",
      "display_name": "Python 3"
    },
    "widgets": {
      "application/vnd.jupyter.widget-state+json": {
        "b8442149ba1041faa3947d39bc00935e": {
          "model_module": "@jupyter-widgets/controls",
          "model_name": "HBoxModel",
          "state": {
            "_view_name": "HBoxView",
            "_dom_classes": [],
            "_model_name": "HBoxModel",
            "_view_module": "@jupyter-widgets/controls",
            "_model_module_version": "1.5.0",
            "_view_count": null,
            "_view_module_version": "1.5.0",
            "box_style": "",
            "layout": "IPY_MODEL_b4dfe6b7a0cc451bb5f334f25e5f4911",
            "_model_module": "@jupyter-widgets/controls",
            "children": [
              "IPY_MODEL_f64974d556ec439e8a1785f313cc58ce",
              "IPY_MODEL_55aadb8989554791addf73d76dbcb7ac"
            ]
          }
        },
        "b4dfe6b7a0cc451bb5f334f25e5f4911": {
          "model_module": "@jupyter-widgets/base",
          "model_name": "LayoutModel",
          "state": {
            "_view_name": "LayoutView",
            "grid_template_rows": null,
            "right": null,
            "justify_content": null,
            "_view_module": "@jupyter-widgets/base",
            "overflow": null,
            "_model_module_version": "1.2.0",
            "_view_count": null,
            "flex_flow": null,
            "width": null,
            "min_width": null,
            "border": null,
            "align_items": null,
            "bottom": null,
            "_model_module": "@jupyter-widgets/base",
            "top": null,
            "grid_column": null,
            "overflow_y": null,
            "overflow_x": null,
            "grid_auto_flow": null,
            "grid_area": null,
            "grid_template_columns": null,
            "flex": null,
            "_model_name": "LayoutModel",
            "justify_items": null,
            "grid_row": null,
            "max_height": null,
            "align_content": null,
            "visibility": null,
            "align_self": null,
            "height": null,
            "min_height": null,
            "padding": null,
            "grid_auto_rows": null,
            "grid_gap": null,
            "max_width": null,
            "order": null,
            "_view_module_version": "1.2.0",
            "grid_template_areas": null,
            "object_position": null,
            "object_fit": null,
            "grid_auto_columns": null,
            "margin": null,
            "display": null,
            "left": null
          }
        },
        "f64974d556ec439e8a1785f313cc58ce": {
          "model_module": "@jupyter-widgets/controls",
          "model_name": "FloatProgressModel",
          "state": {
            "_view_name": "ProgressView",
            "style": "IPY_MODEL_3b2cc7461bca423caa568f4e108a7bfc",
            "_dom_classes": [],
            "description": "100%",
            "_model_name": "FloatProgressModel",
            "bar_style": "success",
            "max": 7574,
            "_view_module": "@jupyter-widgets/controls",
            "_model_module_version": "1.5.0",
            "value": 7574,
            "_view_count": null,
            "_view_module_version": "1.5.0",
            "orientation": "horizontal",
            "min": 0,
            "description_tooltip": null,
            "_model_module": "@jupyter-widgets/controls",
            "layout": "IPY_MODEL_2ee1565131594a1e894ba08b2c6e62c1"
          }
        },
        "55aadb8989554791addf73d76dbcb7ac": {
          "model_module": "@jupyter-widgets/controls",
          "model_name": "HTMLModel",
          "state": {
            "_view_name": "HTMLView",
            "style": "IPY_MODEL_41e9c6d660bd43fab109c8d891695f6d",
            "_dom_classes": [],
            "description": "",
            "_model_name": "HTMLModel",
            "placeholder": "​",
            "_view_module": "@jupyter-widgets/controls",
            "_model_module_version": "1.5.0",
            "value": " 7574/7574 [54:27&lt;00:00,  2.32it/s]",
            "_view_count": null,
            "_view_module_version": "1.5.0",
            "description_tooltip": null,
            "_model_module": "@jupyter-widgets/controls",
            "layout": "IPY_MODEL_87fdbca9a45f4740b151dc3fc5b70dd4"
          }
        },
        "3b2cc7461bca423caa568f4e108a7bfc": {
          "model_module": "@jupyter-widgets/controls",
          "model_name": "ProgressStyleModel",
          "state": {
            "_view_name": "StyleView",
            "_model_name": "ProgressStyleModel",
            "description_width": "initial",
            "_view_module": "@jupyter-widgets/base",
            "_model_module_version": "1.5.0",
            "_view_count": null,
            "_view_module_version": "1.2.0",
            "bar_color": null,
            "_model_module": "@jupyter-widgets/controls"
          }
        },
        "2ee1565131594a1e894ba08b2c6e62c1": {
          "model_module": "@jupyter-widgets/base",
          "model_name": "LayoutModel",
          "state": {
            "_view_name": "LayoutView",
            "grid_template_rows": null,
            "right": null,
            "justify_content": null,
            "_view_module": "@jupyter-widgets/base",
            "overflow": null,
            "_model_module_version": "1.2.0",
            "_view_count": null,
            "flex_flow": null,
            "width": null,
            "min_width": null,
            "border": null,
            "align_items": null,
            "bottom": null,
            "_model_module": "@jupyter-widgets/base",
            "top": null,
            "grid_column": null,
            "overflow_y": null,
            "overflow_x": null,
            "grid_auto_flow": null,
            "grid_area": null,
            "grid_template_columns": null,
            "flex": null,
            "_model_name": "LayoutModel",
            "justify_items": null,
            "grid_row": null,
            "max_height": null,
            "align_content": null,
            "visibility": null,
            "align_self": null,
            "height": null,
            "min_height": null,
            "padding": null,
            "grid_auto_rows": null,
            "grid_gap": null,
            "max_width": null,
            "order": null,
            "_view_module_version": "1.2.0",
            "grid_template_areas": null,
            "object_position": null,
            "object_fit": null,
            "grid_auto_columns": null,
            "margin": null,
            "display": null,
            "left": null
          }
        },
        "41e9c6d660bd43fab109c8d891695f6d": {
          "model_module": "@jupyter-widgets/controls",
          "model_name": "DescriptionStyleModel",
          "state": {
            "_view_name": "StyleView",
            "_model_name": "DescriptionStyleModel",
            "description_width": "",
            "_view_module": "@jupyter-widgets/base",
            "_model_module_version": "1.5.0",
            "_view_count": null,
            "_view_module_version": "1.2.0",
            "_model_module": "@jupyter-widgets/controls"
          }
        },
        "87fdbca9a45f4740b151dc3fc5b70dd4": {
          "model_module": "@jupyter-widgets/base",
          "model_name": "LayoutModel",
          "state": {
            "_view_name": "LayoutView",
            "grid_template_rows": null,
            "right": null,
            "justify_content": null,
            "_view_module": "@jupyter-widgets/base",
            "overflow": null,
            "_model_module_version": "1.2.0",
            "_view_count": null,
            "flex_flow": null,
            "width": null,
            "min_width": null,
            "border": null,
            "align_items": null,
            "bottom": null,
            "_model_module": "@jupyter-widgets/base",
            "top": null,
            "grid_column": null,
            "overflow_y": null,
            "overflow_x": null,
            "grid_auto_flow": null,
            "grid_area": null,
            "grid_template_columns": null,
            "flex": null,
            "_model_name": "LayoutModel",
            "justify_items": null,
            "grid_row": null,
            "max_height": null,
            "align_content": null,
            "visibility": null,
            "align_self": null,
            "height": null,
            "min_height": null,
            "padding": null,
            "grid_auto_rows": null,
            "grid_gap": null,
            "max_width": null,
            "order": null,
            "_view_module_version": "1.2.0",
            "grid_template_areas": null,
            "object_position": null,
            "object_fit": null,
            "grid_auto_columns": null,
            "margin": null,
            "display": null,
            "left": null
          }
        },
        "c46ae08e1b5245259f564ae92550da3f": {
          "model_module": "@jupyter-widgets/controls",
          "model_name": "HBoxModel",
          "state": {
            "_view_name": "HBoxView",
            "_dom_classes": [],
            "_model_name": "HBoxModel",
            "_view_module": "@jupyter-widgets/controls",
            "_model_module_version": "1.5.0",
            "_view_count": null,
            "_view_module_version": "1.5.0",
            "box_style": "",
            "layout": "IPY_MODEL_a95ac7f9a3804c7b8c5c506e63bfcf0b",
            "_model_module": "@jupyter-widgets/controls",
            "children": [
              "IPY_MODEL_36ea7ed84b784028b9920aa4d37ac940",
              "IPY_MODEL_affda333158042169a705d70ddee2756"
            ]
          }
        },
        "a95ac7f9a3804c7b8c5c506e63bfcf0b": {
          "model_module": "@jupyter-widgets/base",
          "model_name": "LayoutModel",
          "state": {
            "_view_name": "LayoutView",
            "grid_template_rows": null,
            "right": null,
            "justify_content": null,
            "_view_module": "@jupyter-widgets/base",
            "overflow": null,
            "_model_module_version": "1.2.0",
            "_view_count": null,
            "flex_flow": null,
            "width": null,
            "min_width": null,
            "border": null,
            "align_items": null,
            "bottom": null,
            "_model_module": "@jupyter-widgets/base",
            "top": null,
            "grid_column": null,
            "overflow_y": null,
            "overflow_x": null,
            "grid_auto_flow": null,
            "grid_area": null,
            "grid_template_columns": null,
            "flex": null,
            "_model_name": "LayoutModel",
            "justify_items": null,
            "grid_row": null,
            "max_height": null,
            "align_content": null,
            "visibility": null,
            "align_self": null,
            "height": null,
            "min_height": null,
            "padding": null,
            "grid_auto_rows": null,
            "grid_gap": null,
            "max_width": null,
            "order": null,
            "_view_module_version": "1.2.0",
            "grid_template_areas": null,
            "object_position": null,
            "object_fit": null,
            "grid_auto_columns": null,
            "margin": null,
            "display": null,
            "left": null
          }
        },
        "36ea7ed84b784028b9920aa4d37ac940": {
          "model_module": "@jupyter-widgets/controls",
          "model_name": "FloatProgressModel",
          "state": {
            "_view_name": "ProgressView",
            "style": "IPY_MODEL_4ec5fc978e7d48d19b92a17d9a810413",
            "_dom_classes": [],
            "description": "100%",
            "_model_name": "FloatProgressModel",
            "bar_style": "success",
            "max": 886,
            "_view_module": "@jupyter-widgets/controls",
            "_model_module_version": "1.5.0",
            "value": 886,
            "_view_count": null,
            "_view_module_version": "1.5.0",
            "orientation": "horizontal",
            "min": 0,
            "description_tooltip": null,
            "_model_module": "@jupyter-widgets/controls",
            "layout": "IPY_MODEL_3a96f6ba2e4c45eebad8f993335c7d3c"
          }
        },
        "affda333158042169a705d70ddee2756": {
          "model_module": "@jupyter-widgets/controls",
          "model_name": "HTMLModel",
          "state": {
            "_view_name": "HTMLView",
            "style": "IPY_MODEL_efaccecaddc343a68b805ae597ff67a4",
            "_dom_classes": [],
            "description": "",
            "_model_name": "HTMLModel",
            "placeholder": "​",
            "_view_module": "@jupyter-widgets/controls",
            "_model_module_version": "1.5.0",
            "value": " 886/886 [27:33&lt;00:00,  1.87s/it]",
            "_view_count": null,
            "_view_module_version": "1.5.0",
            "description_tooltip": null,
            "_model_module": "@jupyter-widgets/controls",
            "layout": "IPY_MODEL_8a4624f6e3bc44c9aa744d6e17d55e49"
          }
        },
        "4ec5fc978e7d48d19b92a17d9a810413": {
          "model_module": "@jupyter-widgets/controls",
          "model_name": "ProgressStyleModel",
          "state": {
            "_view_name": "StyleView",
            "_model_name": "ProgressStyleModel",
            "description_width": "initial",
            "_view_module": "@jupyter-widgets/base",
            "_model_module_version": "1.5.0",
            "_view_count": null,
            "_view_module_version": "1.2.0",
            "bar_color": null,
            "_model_module": "@jupyter-widgets/controls"
          }
        },
        "3a96f6ba2e4c45eebad8f993335c7d3c": {
          "model_module": "@jupyter-widgets/base",
          "model_name": "LayoutModel",
          "state": {
            "_view_name": "LayoutView",
            "grid_template_rows": null,
            "right": null,
            "justify_content": null,
            "_view_module": "@jupyter-widgets/base",
            "overflow": null,
            "_model_module_version": "1.2.0",
            "_view_count": null,
            "flex_flow": null,
            "width": null,
            "min_width": null,
            "border": null,
            "align_items": null,
            "bottom": null,
            "_model_module": "@jupyter-widgets/base",
            "top": null,
            "grid_column": null,
            "overflow_y": null,
            "overflow_x": null,
            "grid_auto_flow": null,
            "grid_area": null,
            "grid_template_columns": null,
            "flex": null,
            "_model_name": "LayoutModel",
            "justify_items": null,
            "grid_row": null,
            "max_height": null,
            "align_content": null,
            "visibility": null,
            "align_self": null,
            "height": null,
            "min_height": null,
            "padding": null,
            "grid_auto_rows": null,
            "grid_gap": null,
            "max_width": null,
            "order": null,
            "_view_module_version": "1.2.0",
            "grid_template_areas": null,
            "object_position": null,
            "object_fit": null,
            "grid_auto_columns": null,
            "margin": null,
            "display": null,
            "left": null
          }
        },
        "efaccecaddc343a68b805ae597ff67a4": {
          "model_module": "@jupyter-widgets/controls",
          "model_name": "DescriptionStyleModel",
          "state": {
            "_view_name": "StyleView",
            "_model_name": "DescriptionStyleModel",
            "description_width": "",
            "_view_module": "@jupyter-widgets/base",
            "_model_module_version": "1.5.0",
            "_view_count": null,
            "_view_module_version": "1.2.0",
            "_model_module": "@jupyter-widgets/controls"
          }
        },
        "8a4624f6e3bc44c9aa744d6e17d55e49": {
          "model_module": "@jupyter-widgets/base",
          "model_name": "LayoutModel",
          "state": {
            "_view_name": "LayoutView",
            "grid_template_rows": null,
            "right": null,
            "justify_content": null,
            "_view_module": "@jupyter-widgets/base",
            "overflow": null,
            "_model_module_version": "1.2.0",
            "_view_count": null,
            "flex_flow": null,
            "width": null,
            "min_width": null,
            "border": null,
            "align_items": null,
            "bottom": null,
            "_model_module": "@jupyter-widgets/base",
            "top": null,
            "grid_column": null,
            "overflow_y": null,
            "overflow_x": null,
            "grid_auto_flow": null,
            "grid_area": null,
            "grid_template_columns": null,
            "flex": null,
            "_model_name": "LayoutModel",
            "justify_items": null,
            "grid_row": null,
            "max_height": null,
            "align_content": null,
            "visibility": null,
            "align_self": null,
            "height": null,
            "min_height": null,
            "padding": null,
            "grid_auto_rows": null,
            "grid_gap": null,
            "max_width": null,
            "order": null,
            "_view_module_version": "1.2.0",
            "grid_template_areas": null,
            "object_position": null,
            "object_fit": null,
            "grid_auto_columns": null,
            "margin": null,
            "display": null,
            "left": null
          }
        },
        "44a0cede2c8f48fe853fc925d4e604bf": {
          "model_module": "@jupyter-widgets/controls",
          "model_name": "HBoxModel",
          "state": {
            "_view_name": "HBoxView",
            "_dom_classes": [],
            "_model_name": "HBoxModel",
            "_view_module": "@jupyter-widgets/controls",
            "_model_module_version": "1.5.0",
            "_view_count": null,
            "_view_module_version": "1.5.0",
            "box_style": "",
            "layout": "IPY_MODEL_91277b98f9f340b59b28a44f2cd2bc9f",
            "_model_module": "@jupyter-widgets/controls",
            "children": [
              "IPY_MODEL_0c0079e708bc4013ba3c8fcf3b83b37f",
              "IPY_MODEL_d051465527ab4fa1a387c6e4d1d8a728"
            ]
          }
        },
        "91277b98f9f340b59b28a44f2cd2bc9f": {
          "model_module": "@jupyter-widgets/base",
          "model_name": "LayoutModel",
          "state": {
            "_view_name": "LayoutView",
            "grid_template_rows": null,
            "right": null,
            "justify_content": null,
            "_view_module": "@jupyter-widgets/base",
            "overflow": null,
            "_model_module_version": "1.2.0",
            "_view_count": null,
            "flex_flow": null,
            "width": null,
            "min_width": null,
            "border": null,
            "align_items": null,
            "bottom": null,
            "_model_module": "@jupyter-widgets/base",
            "top": null,
            "grid_column": null,
            "overflow_y": null,
            "overflow_x": null,
            "grid_auto_flow": null,
            "grid_area": null,
            "grid_template_columns": null,
            "flex": null,
            "_model_name": "LayoutModel",
            "justify_items": null,
            "grid_row": null,
            "max_height": null,
            "align_content": null,
            "visibility": null,
            "align_self": null,
            "height": null,
            "min_height": null,
            "padding": null,
            "grid_auto_rows": null,
            "grid_gap": null,
            "max_width": null,
            "order": null,
            "_view_module_version": "1.2.0",
            "grid_template_areas": null,
            "object_position": null,
            "object_fit": null,
            "grid_auto_columns": null,
            "margin": null,
            "display": null,
            "left": null
          }
        },
        "0c0079e708bc4013ba3c8fcf3b83b37f": {
          "model_module": "@jupyter-widgets/controls",
          "model_name": "FloatProgressModel",
          "state": {
            "_view_name": "ProgressView",
            "style": "IPY_MODEL_89b5a4ed73bb471ba6267d69088acd44",
            "_dom_classes": [],
            "description": "100%",
            "_model_name": "FloatProgressModel",
            "bar_style": "success",
            "max": 2823,
            "_view_module": "@jupyter-widgets/controls",
            "_model_module_version": "1.5.0",
            "value": 2823,
            "_view_count": null,
            "_view_module_version": "1.5.0",
            "orientation": "horizontal",
            "min": 0,
            "description_tooltip": null,
            "_model_module": "@jupyter-widgets/controls",
            "layout": "IPY_MODEL_1b81d53122fe4084a3534b7b5a214c57"
          }
        },
        "d051465527ab4fa1a387c6e4d1d8a728": {
          "model_module": "@jupyter-widgets/controls",
          "model_name": "HTMLModel",
          "state": {
            "_view_name": "HTMLView",
            "style": "IPY_MODEL_2ef1a9334cd3422f9f11246722c9fd28",
            "_dom_classes": [],
            "description": "",
            "_model_name": "HTMLModel",
            "placeholder": "​",
            "_view_module": "@jupyter-widgets/controls",
            "_model_module_version": "1.5.0",
            "value": " 2823/2823 [19:48&lt;00:00,  2.38it/s]",
            "_view_count": null,
            "_view_module_version": "1.5.0",
            "description_tooltip": null,
            "_model_module": "@jupyter-widgets/controls",
            "layout": "IPY_MODEL_9fe433a26d894105bfccbd9b7812f639"
          }
        },
        "89b5a4ed73bb471ba6267d69088acd44": {
          "model_module": "@jupyter-widgets/controls",
          "model_name": "ProgressStyleModel",
          "state": {
            "_view_name": "StyleView",
            "_model_name": "ProgressStyleModel",
            "description_width": "initial",
            "_view_module": "@jupyter-widgets/base",
            "_model_module_version": "1.5.0",
            "_view_count": null,
            "_view_module_version": "1.2.0",
            "bar_color": null,
            "_model_module": "@jupyter-widgets/controls"
          }
        },
        "1b81d53122fe4084a3534b7b5a214c57": {
          "model_module": "@jupyter-widgets/base",
          "model_name": "LayoutModel",
          "state": {
            "_view_name": "LayoutView",
            "grid_template_rows": null,
            "right": null,
            "justify_content": null,
            "_view_module": "@jupyter-widgets/base",
            "overflow": null,
            "_model_module_version": "1.2.0",
            "_view_count": null,
            "flex_flow": null,
            "width": null,
            "min_width": null,
            "border": null,
            "align_items": null,
            "bottom": null,
            "_model_module": "@jupyter-widgets/base",
            "top": null,
            "grid_column": null,
            "overflow_y": null,
            "overflow_x": null,
            "grid_auto_flow": null,
            "grid_area": null,
            "grid_template_columns": null,
            "flex": null,
            "_model_name": "LayoutModel",
            "justify_items": null,
            "grid_row": null,
            "max_height": null,
            "align_content": null,
            "visibility": null,
            "align_self": null,
            "height": null,
            "min_height": null,
            "padding": null,
            "grid_auto_rows": null,
            "grid_gap": null,
            "max_width": null,
            "order": null,
            "_view_module_version": "1.2.0",
            "grid_template_areas": null,
            "object_position": null,
            "object_fit": null,
            "grid_auto_columns": null,
            "margin": null,
            "display": null,
            "left": null
          }
        },
        "2ef1a9334cd3422f9f11246722c9fd28": {
          "model_module": "@jupyter-widgets/controls",
          "model_name": "DescriptionStyleModel",
          "state": {
            "_view_name": "StyleView",
            "_model_name": "DescriptionStyleModel",
            "description_width": "",
            "_view_module": "@jupyter-widgets/base",
            "_model_module_version": "1.5.0",
            "_view_count": null,
            "_view_module_version": "1.2.0",
            "_model_module": "@jupyter-widgets/controls"
          }
        },
        "9fe433a26d894105bfccbd9b7812f639": {
          "model_module": "@jupyter-widgets/base",
          "model_name": "LayoutModel",
          "state": {
            "_view_name": "LayoutView",
            "grid_template_rows": null,
            "right": null,
            "justify_content": null,
            "_view_module": "@jupyter-widgets/base",
            "overflow": null,
            "_model_module_version": "1.2.0",
            "_view_count": null,
            "flex_flow": null,
            "width": null,
            "min_width": null,
            "border": null,
            "align_items": null,
            "bottom": null,
            "_model_module": "@jupyter-widgets/base",
            "top": null,
            "grid_column": null,
            "overflow_y": null,
            "overflow_x": null,
            "grid_auto_flow": null,
            "grid_area": null,
            "grid_template_columns": null,
            "flex": null,
            "_model_name": "LayoutModel",
            "justify_items": null,
            "grid_row": null,
            "max_height": null,
            "align_content": null,
            "visibility": null,
            "align_self": null,
            "height": null,
            "min_height": null,
            "padding": null,
            "grid_auto_rows": null,
            "grid_gap": null,
            "max_width": null,
            "order": null,
            "_view_module_version": "1.2.0",
            "grid_template_areas": null,
            "object_position": null,
            "object_fit": null,
            "grid_auto_columns": null,
            "margin": null,
            "display": null,
            "left": null
          }
        },
        "25cb558a5d1b4e76b6193102c64151d0": {
          "model_module": "@jupyter-widgets/controls",
          "model_name": "HBoxModel",
          "state": {
            "_view_name": "HBoxView",
            "_dom_classes": [],
            "_model_name": "HBoxModel",
            "_view_module": "@jupyter-widgets/controls",
            "_model_module_version": "1.5.0",
            "_view_count": null,
            "_view_module_version": "1.5.0",
            "box_style": "",
            "layout": "IPY_MODEL_d3e37337c89a407f89ff611ae628abae",
            "_model_module": "@jupyter-widgets/controls",
            "children": [
              "IPY_MODEL_9e49a5d3283f4d74b76aaf94dcc19f56",
              "IPY_MODEL_e8eb16ff97a344deb6303259ad281fb0"
            ]
          }
        },
        "d3e37337c89a407f89ff611ae628abae": {
          "model_module": "@jupyter-widgets/base",
          "model_name": "LayoutModel",
          "state": {
            "_view_name": "LayoutView",
            "grid_template_rows": null,
            "right": null,
            "justify_content": null,
            "_view_module": "@jupyter-widgets/base",
            "overflow": null,
            "_model_module_version": "1.2.0",
            "_view_count": null,
            "flex_flow": null,
            "width": null,
            "min_width": null,
            "border": null,
            "align_items": null,
            "bottom": null,
            "_model_module": "@jupyter-widgets/base",
            "top": null,
            "grid_column": null,
            "overflow_y": null,
            "overflow_x": null,
            "grid_auto_flow": null,
            "grid_area": null,
            "grid_template_columns": null,
            "flex": null,
            "_model_name": "LayoutModel",
            "justify_items": null,
            "grid_row": null,
            "max_height": null,
            "align_content": null,
            "visibility": null,
            "align_self": null,
            "height": null,
            "min_height": null,
            "padding": null,
            "grid_auto_rows": null,
            "grid_gap": null,
            "max_width": null,
            "order": null,
            "_view_module_version": "1.2.0",
            "grid_template_areas": null,
            "object_position": null,
            "object_fit": null,
            "grid_auto_columns": null,
            "margin": null,
            "display": null,
            "left": null
          }
        },
        "9e49a5d3283f4d74b76aaf94dcc19f56": {
          "model_module": "@jupyter-widgets/controls",
          "model_name": "FloatProgressModel",
          "state": {
            "_view_name": "ProgressView",
            "style": "IPY_MODEL_dec19170dc44496d8bb84a63dccd5019",
            "_dom_classes": [],
            "description": "100%",
            "_model_name": "FloatProgressModel",
            "bar_style": "success",
            "max": 3828,
            "_view_module": "@jupyter-widgets/controls",
            "_model_module_version": "1.5.0",
            "value": 3828,
            "_view_count": null,
            "_view_module_version": "1.5.0",
            "orientation": "horizontal",
            "min": 0,
            "description_tooltip": null,
            "_model_module": "@jupyter-widgets/controls",
            "layout": "IPY_MODEL_fdb851720c0340f5a3bfb7afcf559744"
          }
        },
        "e8eb16ff97a344deb6303259ad281fb0": {
          "model_module": "@jupyter-widgets/controls",
          "model_name": "HTMLModel",
          "state": {
            "_view_name": "HTMLView",
            "style": "IPY_MODEL_39b7340198e1401dabada7ee36962ea2",
            "_dom_classes": [],
            "description": "",
            "_model_name": "HTMLModel",
            "placeholder": "​",
            "_view_module": "@jupyter-widgets/controls",
            "_model_module_version": "1.5.0",
            "value": " 3828/3828 [27:26&lt;00:00,  2.32it/s]",
            "_view_count": null,
            "_view_module_version": "1.5.0",
            "description_tooltip": null,
            "_model_module": "@jupyter-widgets/controls",
            "layout": "IPY_MODEL_b47efdceeb7b452985faa24c8970bb70"
          }
        },
        "dec19170dc44496d8bb84a63dccd5019": {
          "model_module": "@jupyter-widgets/controls",
          "model_name": "ProgressStyleModel",
          "state": {
            "_view_name": "StyleView",
            "_model_name": "ProgressStyleModel",
            "description_width": "initial",
            "_view_module": "@jupyter-widgets/base",
            "_model_module_version": "1.5.0",
            "_view_count": null,
            "_view_module_version": "1.2.0",
            "bar_color": null,
            "_model_module": "@jupyter-widgets/controls"
          }
        },
        "fdb851720c0340f5a3bfb7afcf559744": {
          "model_module": "@jupyter-widgets/base",
          "model_name": "LayoutModel",
          "state": {
            "_view_name": "LayoutView",
            "grid_template_rows": null,
            "right": null,
            "justify_content": null,
            "_view_module": "@jupyter-widgets/base",
            "overflow": null,
            "_model_module_version": "1.2.0",
            "_view_count": null,
            "flex_flow": null,
            "width": null,
            "min_width": null,
            "border": null,
            "align_items": null,
            "bottom": null,
            "_model_module": "@jupyter-widgets/base",
            "top": null,
            "grid_column": null,
            "overflow_y": null,
            "overflow_x": null,
            "grid_auto_flow": null,
            "grid_area": null,
            "grid_template_columns": null,
            "flex": null,
            "_model_name": "LayoutModel",
            "justify_items": null,
            "grid_row": null,
            "max_height": null,
            "align_content": null,
            "visibility": null,
            "align_self": null,
            "height": null,
            "min_height": null,
            "padding": null,
            "grid_auto_rows": null,
            "grid_gap": null,
            "max_width": null,
            "order": null,
            "_view_module_version": "1.2.0",
            "grid_template_areas": null,
            "object_position": null,
            "object_fit": null,
            "grid_auto_columns": null,
            "margin": null,
            "display": null,
            "left": null
          }
        },
        "39b7340198e1401dabada7ee36962ea2": {
          "model_module": "@jupyter-widgets/controls",
          "model_name": "DescriptionStyleModel",
          "state": {
            "_view_name": "StyleView",
            "_model_name": "DescriptionStyleModel",
            "description_width": "",
            "_view_module": "@jupyter-widgets/base",
            "_model_module_version": "1.5.0",
            "_view_count": null,
            "_view_module_version": "1.2.0",
            "_model_module": "@jupyter-widgets/controls"
          }
        },
        "b47efdceeb7b452985faa24c8970bb70": {
          "model_module": "@jupyter-widgets/base",
          "model_name": "LayoutModel",
          "state": {
            "_view_name": "LayoutView",
            "grid_template_rows": null,
            "right": null,
            "justify_content": null,
            "_view_module": "@jupyter-widgets/base",
            "overflow": null,
            "_model_module_version": "1.2.0",
            "_view_count": null,
            "flex_flow": null,
            "width": null,
            "min_width": null,
            "border": null,
            "align_items": null,
            "bottom": null,
            "_model_module": "@jupyter-widgets/base",
            "top": null,
            "grid_column": null,
            "overflow_y": null,
            "overflow_x": null,
            "grid_auto_flow": null,
            "grid_area": null,
            "grid_template_columns": null,
            "flex": null,
            "_model_name": "LayoutModel",
            "justify_items": null,
            "grid_row": null,
            "max_height": null,
            "align_content": null,
            "visibility": null,
            "align_self": null,
            "height": null,
            "min_height": null,
            "padding": null,
            "grid_auto_rows": null,
            "grid_gap": null,
            "max_width": null,
            "order": null,
            "_view_module_version": "1.2.0",
            "grid_template_areas": null,
            "object_position": null,
            "object_fit": null,
            "grid_auto_columns": null,
            "margin": null,
            "display": null,
            "left": null
          }
        }
      }
    },
    "accelerator": "GPU"
  },
  "cells": [
    {
      "cell_type": "markdown",
      "metadata": {
        "id": "yH5zU8VwBY5u",
        "colab_type": "text"
      },
      "source": [
        "#### Installing python_resize_image package. Input images could be of various sizes. We are resizing this to 224x224 using python_resize_image package. This package will maintain the aspect ration and give the best fit. Reference : https://pypi.org/project/python-resize-image/ "
      ]
    },
    {
      "cell_type": "code",
      "metadata": {
        "id": "S5NGCX_3CRsT",
        "colab_type": "code",
        "colab": {
          "base_uri": "https://localhost:8080/",
          "height": 364
        },
        "outputId": "fd8d0210-32a5-4795-f67a-3eee9d081d12"
      },
      "source": [
        "! nvidia-smi"
      ],
      "execution_count": 1,
      "outputs": [
        {
          "output_type": "stream",
          "text": [
            "Wed Aug  5 09:54:04 2020       \n",
            "+-----------------------------------------------------------------------------+\n",
            "| NVIDIA-SMI 450.57       Driver Version: 418.67       CUDA Version: 10.1     |\n",
            "|-------------------------------+----------------------+----------------------+\n",
            "| GPU  Name        Persistence-M| Bus-Id        Disp.A | Volatile Uncorr. ECC |\n",
            "| Fan  Temp  Perf  Pwr:Usage/Cap|         Memory-Usage | GPU-Util  Compute M. |\n",
            "|                               |                      |               MIG M. |\n",
            "|===============================+======================+======================|\n",
            "|   0  Tesla P100-PCIE...  Off  | 00000000:00:04.0 Off |                    0 |\n",
            "| N/A   39C    P0    27W / 250W |      0MiB / 16280MiB |      0%      Default |\n",
            "|                               |                      |                 ERR! |\n",
            "+-------------------------------+----------------------+----------------------+\n",
            "                                                                               \n",
            "+-----------------------------------------------------------------------------+\n",
            "| Processes:                                                                  |\n",
            "|  GPU   GI   CI        PID   Type   Process name                  GPU Memory |\n",
            "|        ID   ID                                                   Usage      |\n",
            "|=============================================================================|\n",
            "|  No running processes found                                                 |\n",
            "+-----------------------------------------------------------------------------+\n"
          ],
          "name": "stdout"
        }
      ]
    },
    {
      "cell_type": "code",
      "metadata": {
        "id": "vtYwS1rMBZO1",
        "colab_type": "code",
        "colab": {
          "base_uri": "https://localhost:8080/",
          "height": 211
        },
        "outputId": "b7a4e422-4873-4fcf-e8ee-c5bed71bef1c"
      },
      "source": [
        "pip install python-resize-image"
      ],
      "execution_count": 2,
      "outputs": [
        {
          "output_type": "stream",
          "text": [
            "Collecting python-resize-image\n",
            "  Downloading https://files.pythonhosted.org/packages/bc/89/008481c95551992e1a77503eba490b75fd17c0a98e33dd4dc39e0b99e5e8/python_resize_image-1.1.19-py2.py3-none-any.whl\n",
            "Requirement already satisfied: requests>=2.19.1 in /usr/local/lib/python3.6/dist-packages (from python-resize-image) (2.23.0)\n",
            "Requirement already satisfied: Pillow>=5.1.0 in /usr/local/lib/python3.6/dist-packages (from python-resize-image) (7.0.0)\n",
            "Requirement already satisfied: certifi>=2017.4.17 in /usr/local/lib/python3.6/dist-packages (from requests>=2.19.1->python-resize-image) (2020.6.20)\n",
            "Requirement already satisfied: chardet<4,>=3.0.2 in /usr/local/lib/python3.6/dist-packages (from requests>=2.19.1->python-resize-image) (3.0.4)\n",
            "Requirement already satisfied: idna<3,>=2.5 in /usr/local/lib/python3.6/dist-packages (from requests>=2.19.1->python-resize-image) (2.10)\n",
            "Requirement already satisfied: urllib3!=1.25.0,!=1.25.1,<1.26,>=1.21.1 in /usr/local/lib/python3.6/dist-packages (from requests>=2.19.1->python-resize-image) (1.24.3)\n",
            "Installing collected packages: python-resize-image\n",
            "Successfully installed python-resize-image-1.1.19\n"
          ],
          "name": "stdout"
        }
      ]
    },
    {
      "cell_type": "markdown",
      "metadata": {
        "id": "nxJnHwaGB84M",
        "colab_type": "text"
      },
      "source": [
        "#### Importing necessary libraries"
      ]
    },
    {
      "cell_type": "code",
      "metadata": {
        "id": "YuELOTZJB4DD",
        "colab_type": "code",
        "colab": {}
      },
      "source": [
        "import os\n",
        "import random\n",
        "import math\n",
        "from PIL import Image\n",
        "import numpy as np\n",
        "from tqdm.notebook import tqdm"
      ],
      "execution_count": 3,
      "outputs": []
    },
    {
      "cell_type": "code",
      "metadata": {
        "id": "iMAFTrcgCOoS",
        "colab_type": "code",
        "colab": {
          "base_uri": "https://localhost:8080/",
          "height": 124
        },
        "outputId": "1a517c05-e917-48d0-fbc5-1dfa3985f1c1"
      },
      "source": [
        "from google.colab import drive\n",
        "drive.mount('/content/gdrive')"
      ],
      "execution_count": 4,
      "outputs": [
        {
          "output_type": "stream",
          "text": [
            "Go to this URL in a browser: https://accounts.google.com/o/oauth2/auth?client_id=947318989803-6bn6qk8qdgf4n4g3pfee6491hc0brc4i.apps.googleusercontent.com&redirect_uri=urn%3aietf%3awg%3aoauth%3a2.0%3aoob&response_type=code&scope=email%20https%3a%2f%2fwww.googleapis.com%2fauth%2fdocs.test%20https%3a%2f%2fwww.googleapis.com%2fauth%2fdrive%20https%3a%2f%2fwww.googleapis.com%2fauth%2fdrive.photos.readonly%20https%3a%2f%2fwww.googleapis.com%2fauth%2fpeopleapi.readonly\n",
            "\n",
            "Enter your authorization code:\n",
            "··········\n",
            "Mounted at /content/gdrive\n"
          ],
          "name": "stdout"
        }
      ]
    },
    {
      "cell_type": "markdown",
      "metadata": {
        "id": "n_Y38nQVEeY0",
        "colab_type": "text"
      },
      "source": [
        "#### Creating path names where images belong in gdrive location"
      ]
    },
    {
      "cell_type": "code",
      "metadata": {
        "id": "AtYYeXdkCQNL",
        "colab_type": "code",
        "colab": {}
      },
      "source": [
        "s2dataset_path = '/content/gdrive/My Drive/Session 2 Dataset'"
      ],
      "execution_count": 5,
      "outputs": []
    },
    {
      "cell_type": "code",
      "metadata": {
        "id": "EtPIgALoD0Rc",
        "colab_type": "code",
        "colab": {}
      },
      "source": [
        "flyingbirdspath = os.path.join(s2dataset_path, 'Flying Birds')\n",
        "largequadpath   = os.path.join(s2dataset_path, 'Large QuadCopters')\n",
        "smallquadpath   = os.path.join(s2dataset_path, 'Small QuadCopters')\n",
        "wingdronepath   = os.path.join(s2dataset_path, 'Winged Drones')"
      ],
      "execution_count": 7,
      "outputs": []
    },
    {
      "cell_type": "markdown",
      "metadata": {
        "id": "DvsFovsHEl6j",
        "colab_type": "text"
      },
      "source": [
        "#### Listing the filenames from each of the image folders"
      ]
    },
    {
      "cell_type": "code",
      "metadata": {
        "id": "tzl1_HsNEZQt",
        "colab_type": "code",
        "colab": {}
      },
      "source": [
        "flyingbirdslist = list(filter(lambda x: x.endswith('jpg'), os.listdir(flyingbirdspath)))\n",
        "largequadlist   = list(filter(lambda x: x.endswith('jpg'), os.listdir(largequadpath)))\n",
        "smallquadlist   = list(filter(lambda x: x.endswith('jpg'), os.listdir(smallquadpath)))\n",
        "wingdronelist   = list(filter(lambda x: x.endswith('jpg'), os.listdir(wingdronepath)))"
      ],
      "execution_count": 12,
      "outputs": []
    },
    {
      "cell_type": "code",
      "metadata": {
        "id": "YZxxGrKwFuh3",
        "colab_type": "code",
        "colab": {
          "base_uri": "https://localhost:8080/",
          "height": 87
        },
        "outputId": "cf0ec643-4fba-49f0-bea3-c30508f67953"
      },
      "source": [
        "print(f'Flyingbirds: {len(flyingbirdslist)}')\n",
        "print(f'Large Quad: {len(largequadlist)}')\n",
        "print(f'Small Quad: {len(smallquadlist)}')\n",
        "print(f'Wing Drone: {len(wingdronelist)}')"
      ],
      "execution_count": 13,
      "outputs": [
        {
          "output_type": "stream",
          "text": [
            "Flyingbirds: 7574\n",
            "Large Quad: 886\n",
            "Small Quad: 2823\n",
            "Wing Drone: 3828\n"
          ],
          "name": "stdout"
        }
      ]
    },
    {
      "cell_type": "code",
      "metadata": {
        "id": "vLK9W-_SGz4Y",
        "colab_type": "code",
        "colab": {}
      },
      "source": [
        "from zipfile import ZipFile\n",
        "zip_out = ZipFile('ThumbnailData_AnilBhatt.zip', mode = 'a')"
      ],
      "execution_count": 22,
      "outputs": []
    },
    {
      "cell_type": "code",
      "metadata": {
        "id": "fYfegdWeHJM1",
        "colab_type": "code",
        "colab": {
          "base_uri": "https://localhost:8080/",
          "height": 35
        },
        "outputId": "0b203122-31c0-4300-f507-c7b605cc2f35"
      },
      "source": [
        "flyingbirdspath"
      ],
      "execution_count": 23,
      "outputs": [
        {
          "output_type": "execute_result",
          "data": {
            "application/vnd.google.colaboratory.intrinsic+json": {
              "type": "string"
            },
            "text/plain": [
              "'/content/gdrive/My Drive/Session 2 Dataset/Flying Birds'"
            ]
          },
          "metadata": {
            "tags": []
          },
          "execution_count": 23
        }
      ]
    },
    {
      "cell_type": "markdown",
      "metadata": {
        "id": "ECRqAx9rJwCj",
        "colab_type": "text"
      },
      "source": [
        "#### Function to write the images from each folder to a zip file. Will resize the image to [224, 224] while converting to 'RGB'. Image naming convention will be like 'img00001.jpg'. We are achieveing this by giving - img{i:0>5d}.jpg"
      ]
    },
    {
      "cell_type": "code",
      "metadata": {
        "id": "hv2Xr6IVHfde",
        "colab_type": "code",
        "colab": {}
      },
      "source": [
        "from resizeimage import resizeimage\n",
        "def resize_and_writetozip(impath, imlist, imtype, zipfolder):\n",
        "  for i in tqdm(range(len(imlist))):\n",
        "      img = Image.open(os.path.join(impath, imlist[i])).convert('RGB')\n",
        "      img = resizeimage.resize_thumbnail(img, [224,224])\n",
        "      img.save('resized.jpg', img.format)\n",
        "      zipfolder.write('resized.jpg', f'Data/{imtype}/img{i:0>5d}.jpg')"
      ],
      "execution_count": 24,
      "outputs": []
    },
    {
      "cell_type": "markdown",
      "metadata": {
        "id": "n5lUhSXBLzXy",
        "colab_type": "text"
      },
      "source": [
        "#### Writing to zip from each folder -> closing the zip -> reopening again in append mode  "
      ]
    },
    {
      "cell_type": "code",
      "metadata": {
        "id": "l45fXfESKI1k",
        "colab_type": "code",
        "colab": {
          "base_uri": "https://localhost:8080/",
          "height": 104,
          "referenced_widgets": [
            "b8442149ba1041faa3947d39bc00935e",
            "b4dfe6b7a0cc451bb5f334f25e5f4911",
            "f64974d556ec439e8a1785f313cc58ce",
            "55aadb8989554791addf73d76dbcb7ac",
            "3b2cc7461bca423caa568f4e108a7bfc",
            "2ee1565131594a1e894ba08b2c6e62c1",
            "41e9c6d660bd43fab109c8d891695f6d",
            "87fdbca9a45f4740b151dc3fc5b70dd4"
          ]
        },
        "outputId": "a9df6020-a52f-437b-b8e1-9b533249d049"
      },
      "source": [
        "print(f'Writing images from {flyingbirdspath} to the folder \"Flying Birds\" inside zip file{out}')\n",
        "resize_and_writetozip(str(flyingbirdspath), flyingbirdslist, 'Flying Birds', zip_out)"
      ],
      "execution_count": 25,
      "outputs": [
        {
          "output_type": "stream",
          "text": [
            "Writing images from /content/gdrive/My Drive/Session 2 Dataset/Flying Birds to the folder \"Flying Birds\" inside zip file<zipfile.ZipFile filename='ThumbnailData_AnilBhatt.zip' mode='a'>\n"
          ],
          "name": "stdout"
        },
        {
          "output_type": "display_data",
          "data": {
            "application/vnd.jupyter.widget-view+json": {
              "model_id": "b8442149ba1041faa3947d39bc00935e",
              "version_minor": 0,
              "version_major": 2
            },
            "text/plain": [
              "HBox(children=(FloatProgress(value=0.0, max=7574.0), HTML(value='')))"
            ]
          },
          "metadata": {
            "tags": []
          }
        },
        {
          "output_type": "stream",
          "text": [
            "\n"
          ],
          "name": "stdout"
        }
      ]
    },
    {
      "cell_type": "code",
      "metadata": {
        "id": "g4zgiCYeXkEL",
        "colab_type": "code",
        "colab": {}
      },
      "source": [
        "zip_out.close()\n",
        "zip_out = ZipFile('ThumbnailData_AnilBhatt.zip', mode = 'a')"
      ],
      "execution_count": 27,
      "outputs": []
    },
    {
      "cell_type": "code",
      "metadata": {
        "id": "ts4nEE6RK1z8",
        "colab_type": "code",
        "colab": {}
      },
      "source": [
        "from time import time"
      ],
      "execution_count": 31,
      "outputs": []
    },
    {
      "cell_type": "code",
      "metadata": {
        "id": "S7H5r4g0Xe4e",
        "colab_type": "code",
        "colab": {
          "base_uri": "https://localhost:8080/",
          "height": 121,
          "referenced_widgets": [
            "c46ae08e1b5245259f564ae92550da3f",
            "a95ac7f9a3804c7b8c5c506e63bfcf0b",
            "36ea7ed84b784028b9920aa4d37ac940",
            "affda333158042169a705d70ddee2756",
            "4ec5fc978e7d48d19b92a17d9a810413",
            "3a96f6ba2e4c45eebad8f993335c7d3c",
            "efaccecaddc343a68b805ae597ff67a4",
            "8a4624f6e3bc44c9aa744d6e17d55e49"
          ]
        },
        "outputId": "27990d68-dac3-4b6e-948f-c75f6e1854bb"
      },
      "source": [
        "print(f'Writing images from {largequadlist} to the folder \"Large QuadCopters\" inside zip file{out}')\n",
        "t1 = time()\n",
        "resize_and_writetozip(str(largequadpath), largequadlist, 'Large QuadCopters', zip_out)\n",
        "t2 = time()\n",
        "print(f'Time took: {t2} - {t1} = {(t2-t1)/60:.2f}')"
      ],
      "execution_count": 32,
      "outputs": [
        {
          "output_type": "stream",
          "text": [
            "Writing images from ['Capture167.jpg', 'Capture168.jpg', 'Capture169.jpg', 'Capture170.jpg', 'Capture171.jpg', 'pexels-photo-442587.jpg', 'pexels-photo-336232.jpg', 'pexels-photo-207586.jpg', 'pexels-photo-916015.jpg', 'pexels-photo-1087180.jpg', 'pexels-photo-319968.jpg', 'drone-camera-4k-1080-539124.jpg', 'pexels-photo-392024.jpg', 'pexels-photo-442589.jpg', 'pexels-photo-1093232.jpg', 'pexels-photo-1574480.jpg', 'pexels-photo-724921.jpg', 'pexels-photo-2100075.jpg', 'pexels-photo-529598.jpg', 'pexels-photo-2218141.jpg', 'pexels-photo-274939.jpg', 'pexels-photo-1353896.jpg', 'pexels-photo-997134.jpg', 'pexels-photo-997122.jpg', 'pexels-photo-343238.jpg', 'pexels-photo-1034812.jpg', 'pexels-photo-1809576.jpg', 'pexels-photo-1093236.jpg', 'pexels-photo-2281073.jpg', 'pexels-photo-1379371.jpg', 'pexels-photo-175710.jpg', 'pexels-photo-388846.jpg', 'pexels-photo-1757697.jpg', 'pexels-photo-109003.jpg', 'pexels-photo-1308660.jpg', 'pexels-photo-739410.jpg', 'pexels-photo-997128.jpg', 'pexels-photo-1852984.jpg', 'pexels-photo-1087182.jpg', 'quadrocopter-1658967__340.jpg', 'drone-2028611__340.jpg', 'photo-1473968512647-3e447244af8f.jpg', 'photo-1467864453741-7faf938e3bf0.jpg', 'photo-1489087433598-048557455f41.jpg', 'photo-1473186639016-1451879a06f0.jpg', 'photo-1488263590619-bc1fff43b6c1.jpg', 'photo-1491738785019-dd6647a54f24.jpg', 'photo-1508444845599-5c89863b1c44.jpg', 'photo-1488462104523-514bea5f99b3.jpg', 'photo-1495811853829-7f743aca3770.jpg', 'photo-1487219116710-23ffcb172b2b.jpg', 'photo-1477899447710-90571e12f4ae.jpg', 'photo-1484666086787-6cd0ccd39860.jpg', 'photo-1478206880970-2c5995fdf196.jpg', 'photo-1499708544652-0e4c43899071.jpg', 'photo-1495594430525-e63434930a44.jpg', 'photo-1495810551032-2043a52a19c5.jpg', 'photo-1470083010285-12169927e64c.jpg', 'photo-1521405924368-64c5b84bec60.jpg', 'photo-1507724571015-2a7d95884528.jpg', 'photo-1487887235947-a955ef187fcc.jpg', 'photo-1479152471347-3f2e62a2b2a7.jpg', 'photo-1489395326921-8010373d5147.jpg', 'photo-1494261951946-b0c26b70410c.jpg', 'photo-1506429290503-47de7d2c94ca.jpg', 'photo-1517430939066-41484532ce67.jpg', 'photo-1516718879053-92023f9a9fa4.jpg', 'photo-1482169704817-5b66aafa1a01.jpg', 'photo-1519482859092-6e854b0f2c5d.jpg', 'photo-1474426466337-efb5a6b4fcf3.jpg', 'photo-1495269652876-12a814403455.jpg', 'photo-1521469035722-fe189792e7eb.jpg', 'photo-1496359255925-ff76e05c813b.jpg', 'photo-1511333122491-991715e06289.jpg', 'photo-1527862316562-c741a118ac51.jpg', 'photo-1506101752711-a2a758595bb2.jpg', 'photo-1482809029417-1f569c7b3757.jpg', 'photo-1508614589041-895b88991e3e.jpg', 'photo-1525065747067-8d26d5ce3eac.jpg', 'photo-1512365230237-7e1ea7bd4e91.jpg', 'photo-1523438927869-e5819c560724.jpg', 'photo-1541636765-2682acc27f49.jpg', 'photo-1512054435010-2fa7d5e298f6.jpg', 'photo-1529611934128-376c7bb1c88a.jpg', 'photo-1575751071140-a732546f7286.jpg', 'photo-1456615913800-c33540eac399.jpg', 'Capture1.jpg', 'photo-1514041884614-65858e220493.jpg', 'Capture2.jpg', 'Capture3.jpg', 'Capture4.jpg', 'Capture6.jpg', 'Capture5.jpg', 'Capture7.jpg', 'Capture8.jpg', '13.jpg', 'video15_98.jpg', 'video16_132.jpg', 'video16_410.jpg', 'video16_194.jpg', 'video18_126.jpg', 'video18_1020.jpg', 'FOHHL0KJ1GOUZC2.LARGE.jpg', 'video18_1225.jpg', 'images61.jpg', 'images90.jpg', 'drone-jumpbo-q6-wifi-fpv-large-size-quadcopter.jpg', 'Copy of 1d0b8ad28454a3fea2a252ec7bf1265b.jpg', 'Copy of 1e44f51f0155052ee9573e4ea115eafe.jpg', 'Copy of Wind8_Banner-768x540.jpg', 'Copy of 1-s2.0-S1877050917326881-main.jpg', 'Copy of 5d5603f9a310cf3e97977581.jpg', 'Copy of 5e0904c6855cc216cc357e32.jpg', 'Copy of 01.jpg', 'Copy of 5e5e933afee23d33674db068.jpg', 'Copy of 5cfee78dba3a73203028cac3.jpg', 'Copy of 5b812536a310add1c6988983.jpg', 'Copy of 3098168-swarm-of-unmanned-aircraft-system-uav-quadcopters-drones-photocase-stock-photo-large.jpg', 'Copy of 1414314625095_Image_galleryImage_Embargoed_to_0001_Monday_.jpg', 'Copy of 13.jpg', 'Copy of 8d1e64ce-5241-11e6-98ca-49b1c9e3ed10_1280x720.jpg', 'Copy of 262832-tacocopter.nbcnews-fp-1200-800.jpg', 'Copy of 49fd814f02cb8d29478326ddb56b03c2.jpg', 'Copy of 750px.jpg', 'Copy of 55c925f4dd0895f46e8b4600.jpg', 'Copy of 1485789563385-1406125825834130.jpg', 'Copy of 0882c9610f244e93f95338eb1715adda06a4f0d0.jpg', 'Copy of C3E1B3E7-6D83-4A1A-9D47-41176FB92BA3.jpg', 'Copy of AdobeStock_184914706-e1570036994971-1024x524.jpg', 'Copy of Amazon Prime Air Private Trial Flying-HIGH RES.jpg.jpg', 'Copy of agricultural-drones-in-india.jpg', 'Copy of 20150729162833-drone-wih-package.jpg', 'Copy of AAEqDns.jpg', 'Copy of Capture1.jpg', 'Copy of artists-conception-of-nasa-dual-quadcopter.jpg', 'Copy of Best-Surveillance-Drones1.jpg', 'Copy of Bluegrass.jpg', 'Copy of Capture9.jpg', 'Copy of Capture8.jpg', 'Copy of Capture4.jpg', 'Copy of Capture6.jpg', 'Copy of Capture3.jpg', 'Copy of Capture5.jpg', 'Copy of Capture7.jpg', 'Copy of Capture11.jpg', 'Copy of Capture10.jpg', 'Copy of Capture2.jpg', 'Copy of Capture14.jpg', 'Copy of Capture20.jpg', 'Copy of Capture19.jpg', 'Copy of Capture12.jpg', 'Copy of Capture18.jpg', 'Copy of Capture15.jpg', 'Copy of Capture21.jpg', 'Copy of Capture13.jpg', 'Copy of Capture16.jpg', 'Copy of Capture17.jpg', 'Copy of Capture29.jpg', 'Copy of Capture24.jpg', 'Copy of Capture23.jpg', 'Copy of Capture28.jpg', 'Copy of Capture22.jpg', 'Copy of Capture30.jpg', 'Copy of Capture25.jpg', 'Copy of Capture26.jpg', 'Copy of Capture27.jpg', 'Copy of Capture31.jpg', 'Copy of Capture37.jpg', 'Copy of Capture39.jpg', 'Copy of Capture34.jpg', 'Copy of Capture40.jpg', 'Copy of Capture38.jpg', 'Copy of Capture41.jpg', 'Copy of Capture32.jpg', 'Copy of Capture36.jpg', 'Copy of Capture33.jpg', 'Copy of Capture35.jpg', 'Copy of Capture51.jpg', 'Copy of Capture43.jpg', 'Copy of Capture45.jpg', 'Copy of Capture49.jpg', 'Copy of Capture50.jpg', 'Copy of Capture47.jpg', 'Copy of Capture46.jpg', 'Copy of Capture44.jpg', 'Copy of Capture48.jpg', 'Copy of Capture42.jpg', 'Copy of Capture53.jpg', 'Copy of Capture57.jpg', 'Copy of Capture59.jpg', 'Copy of Capture61.jpg', 'Copy of Capture54.jpg', 'Copy of Capture60.jpg', 'Copy of Capture58.jpg', 'Copy of Capture55.jpg', 'Copy of Capture56.jpg', 'Copy of Capture52.jpg', 'Copy of Capture64.jpg', 'Copy of Capture62.jpg', 'Copy of Capture69.jpg', 'Copy of Capture66.jpg', 'Copy of Capture63.jpg', 'Copy of Capture70.jpg', 'Copy of Capture65.jpg', 'Copy of Capture71.jpg', 'Copy of Capture68.jpg', 'Copy of Capture67.jpg', 'Copy of Capture72.jpg', 'Copy of Capture81.jpg', 'Copy of Capture78.jpg', 'Copy of Capture77.jpg', 'Copy of Capture73.jpg', 'Copy of Capture76.jpg', 'Copy of Capture80.jpg', 'Copy of Capture75.jpg', 'Copy of Capture74.jpg', 'Copy of Capture79.jpg', 'Copy of Capture89.jpg', 'Copy of Capture91.jpg', 'Copy of Capture86.jpg', 'Copy of Capture82.jpg', 'Copy of Capture83.jpg', 'Copy of Capture90.jpg', 'Copy of Capture87.jpg', 'Copy of Capture84.jpg', 'Copy of Capture88.jpg', 'Copy of Capture85.jpg', 'Copy of Capture92.jpg', 'Copy of Capture95.jpg', 'Copy of Capture97.jpg', 'Copy of Capture100.jpg', 'Copy of Capture96.jpg', 'Copy of Capture94.jpg', 'Copy of Capture93.jpg', 'Copy of Capture99.jpg', 'Copy of Capture101.jpg', 'Copy of Capture98.jpg', 'Copy of Capture102.jpg', 'Copy of Capture111.jpg', 'Copy of Capture106.jpg', 'Copy of Capture107.jpg', 'Copy of Capture110.jpg', 'Copy of Capture108.jpg', 'Copy of Capture103.jpg', 'Copy of Capture109.jpg', 'Copy of Capture105.jpg', 'Copy of Capture104.jpg', 'Copy of Capture116.jpg', 'Copy of Capture119.jpg', 'Copy of Capture112.jpg', 'Copy of Capture117.jpg', 'Copy of Capture113.jpg', 'Copy of Capture115.jpg', 'Copy of Capture114.jpg', 'Copy of Capture121.jpg', 'Copy of Capture118.jpg', 'Copy of Capture120.jpg', 'Copy of Capture128.jpg', 'Copy of Capture125.jpg', 'Copy of Capture131.jpg', 'Copy of Capture123.jpg', 'Copy of Capture122.jpg', 'Copy of Capture126.jpg', 'Copy of Capture129.jpg', 'Copy of Capture124.jpg', 'Copy of Capture130.jpg', 'Copy of Capture127.jpg', 'Copy of Capture133.jpg', 'Copy of Capture139.jpg', 'Copy of Capture137.jpg', 'Copy of Capture134.jpg', 'Copy of Capture140.jpg', 'Copy of Capture136.jpg', 'Copy of Capture135.jpg', 'Copy of Capture141.jpg', 'Copy of Capture132.jpg', 'Copy of Capture138.jpg', 'Copy of Capture149.jpg', 'Copy of Capture146.jpg', 'Copy of Capture148.jpg', 'Copy of Capture147.jpg', 'Copy of Capture145.jpg', 'Copy of Capture144.jpg', 'Copy of Capture143.jpg', 'Copy of Capture150.jpg', 'Copy of Capture142.jpg', 'Copy of Capture151.jpg', 'Copy of Capture156.jpg', 'Copy of Capture159.jpg', 'Copy of Capture158.jpg', 'Copy of Capture152.jpg', 'Copy of Capture154.jpg', 'Copy of Capture157.jpg', 'Copy of Capture153.jpg', 'Copy of Capture160.jpg', 'Copy of Capture155.jpg', 'Copy of Capture161.jpg', 'Copy of Capture163.jpg', 'Copy of Capture165.jpg', 'Copy of Capture167.jpg', 'Copy of Capture170.jpg', 'Copy of Capture168.jpg', 'Copy of Capture171.jpg', 'Copy of Capture164.jpg', 'Copy of Capture169.jpg', 'Copy of Capture162.jpg', 'Copy of Capture166.jpg', 'Copy of deeper-pars-air-sea-rescue-drone-rts.jpg', 'Copy of disaster-relief-drones.jpg', 'Copy of d382b711efa0409ca2bd1e89a111ca13.jpg', 'Copy of Cool-Drones.jpg', 'Copy of dc-Cover-h9kni241scvlr1q7b73a9qf9r5-20161122030729.Medi.jpg', 'Copy of download (1).jpg', 'Copy of convertawing-quadrotor.jpeg-696x557.jpg', 'Copy of CKcjSMzUwAAdOKs.jpg', 'Copy of DjMYmJ8XsAAT5nj.jpg', 'Copy of dims.jpg', 'Copy of download copy 4.jpg', 'Copy of download copy 2.jpg', 'Copy of download (2).jpg', 'Copy of download (4).jpg', 'Copy of download.jpg', 'Copy of download copy 3.jpg', 'Copy of download copy.jpg', 'Copy of download (6).jpg', 'Copy of download copy 5.jpg', 'Copy of download (5).jpg', 'Copy of dronerescue.jpg', 'Copy of drone-jumpbo-q6-wifi-fpv-large-size-quadcopter.jpg', 'Copy of Drone-wing.jpg', 'Copy of Drones-to-the-Rescue-How-Drones-Are-Helping-Disaster-Relief-Efforts.jpg', 'Copy of draganflyer-x6.jpg', 'Copy of drone-first-aid_193013387.jpg', 'Copy of drone-2028611__340.jpg', 'Copy of Drone-Tether-Surveillance-947x675-1.jpg', 'Copy of dron.jpg', 'Copy of drone-camera-4k-1080-539124.jpg', 'Copy of https___api.thedrive.com_wp-content_uploads_2018_02_ehang-hero-01.jpg', 'Copy of firefighting-drones (2).jpg', 'Copy of FOHHL0KJ1GOUZC2.LARGE.jpg', 'Copy of firefighting-drones.jpg', 'Copy of f932c88d-41d6-4659-b5ad-9abe24b5a46f-2060x1236.jpg', 'Copy of https___api.thedrive.com_wp-content_uploads_2018_02_projectwing-test-hero-01.jpg', 'Copy of firefighting-drones (1).jpg', 'Copy of Garuda-drone-pic.jpg', 'Copy of flexa1.jpg', 'Copy of Holy-Stone-HS400-Large-Quadcopter-FPV-Drone-.jpg', 'Copy of i (3)-2.jpg', 'Copy of i (3)-1.jpg', 'Copy of i (2).jpg', 'Copy of i (3).jpg', 'Copy of https___api.thedrive.com_wp-content_uploads_2018_08_ehang-bankruptcy-strategic-2019-hero-01.jpg', 'Copy of i (1)-2.jpg', 'Copy of i (2)-2.jpg', 'Copy of i (4)-1.jpg', 'Copy of i (1)-1.jpg', 'Copy of i (2)-1.jpg', 'Copy of i (5)-1.jpg', 'Copy of i (4).jpg', 'Copy of i (5).jpg', 'Copy of i (6).jpg', 'Copy of i (5)-2.jpg', 'Copy of i (7)-1.jpg', 'Copy of i (7)-2.jpg', 'Copy of i (6)-1.jpg', 'Copy of i (6)-2.jpg', 'Copy of i (4)-2.jpg', 'Copy of i (8).jpg', 'Copy of i (11).jpg', 'Copy of i (11)-1.jpg', 'Copy of i (9)-1.jpg', 'Copy of i (7).jpg', 'Copy of i (8)-1.jpg', 'Copy of i (9).jpg', 'Copy of i (10).jpg', 'Copy of i (10)-1.jpg', 'Copy of i (8)-2.jpg', 'Copy of i (12)-1.jpg', 'Copy of i (15)-1.jpg', 'Copy of i (14)-1.jpg', 'Copy of i (14).jpg', 'Copy of i (16).jpg', 'Copy of i (13).jpg', 'Copy of i (16)-1.jpg', 'Copy of i (13)-1.jpg', 'Copy of i (12).jpg', 'Copy of i (15).jpg', 'Copy of i (19)-1.jpg', 'Copy of i (21)-1.jpg', 'Copy of i (20)-1.jpg', 'Copy of i (17).jpg', 'Copy of i (17)-1.jpg', 'Copy of i (18)-1.jpg', 'Copy of i (21).jpg', 'Copy of i (18).jpg', 'Copy of i (20).jpg', 'Copy of i (19).jpg', 'Copy of i (26).jpg', 'Copy of i (24).jpg', 'Copy of i (22).jpg', 'Copy of i (22)-1.jpg', 'Copy of i (25).jpg', 'Copy of i (25)-1.jpg', 'Copy of i (23)-1.jpg', 'Copy of i (24)-1.jpg', 'Copy of i (27).jpg', 'Copy of i (23).jpg', 'Copy of i (28).jpg', 'Copy of i (32).jpg', 'Copy of i (31).jpg', 'Copy of i (34).jpg', 'Copy of i (30).jpg', 'Copy of i (33).jpg', 'Copy of i (37).jpg', 'Copy of i (29).jpg', 'Copy of i (35).jpg', 'Copy of i (36).jpg', 'Copy of i-2.jpg', 'Copy of image.jpg', 'Copy of image-asset copy.jpg', 'Copy of i (39).jpg', 'Copy of image16.jpg', 'Copy of image1-82.jpg', 'Copy of i (38).jpg', 'Copy of image-asset.jpg', 'Copy of i-1.jpg', 'Copy of images (2).jpg', 'Copy of imgingest-6471299197806401270.jpg', 'Copy of images90.jpg', 'Copy of main-qimg-ad3f571c014ef28bae42adc196bfa9cb.jpg', 'Copy of images copy 3.jpg', 'Copy of images61.jpg', 'Copy of images.jpg', 'Copy of images copy 4.jpg', 'Copy of images copy 2.jpg', 'Copy of images copy.jpg', 'Copy of malloy-hover.jpg', 'Copy of Natural-Disasters.jpg', 'Copy of MzUzNTgxOA.jpg', 'Copy of Marut-Drones-3.jpg', 'Copy of MzA2NTczMA.jpg', 'Copy of MzEyODI2Nw.jpg', 'Copy of P5243975.jpg', 'Copy of pexels-photo-175710.jpg', 'Copy of pexels-photo-109003.jpg', 'Copy of MzEyODIzMg.jpg', 'Copy of MzAxODUyMA.jpg', 'Copy of pexels-photo-336232.jpg', 'Copy of pexels-photo-442589.jpg', 'Copy of pexels-photo-207586.jpg', 'Copy of pexels-photo-529598.jpg', 'Copy of pexels-photo-274939.jpg', 'Copy of pexels-photo-319968.jpg', 'Copy of pexels-photo-392024.jpg', 'Copy of pexels-photo-442587.jpg', 'Copy of pexels-photo-343238.jpg', 'Copy of pexels-photo-388846.jpg', 'Copy of pexels-photo-916015.jpg', 'Copy of pexels-photo-1087182.jpg', 'Copy of pexels-photo-1087180.jpg', 'Copy of pexels-photo-724921.jpg', 'Copy of pexels-photo-1093232.jpg', 'Copy of pexels-photo-1034812.jpg', 'Copy of pexels-photo-997128.jpg', 'Copy of pexels-photo-997122.jpg', 'Copy of pexels-photo-739410.jpg', 'Copy of pexels-photo-997134.jpg', 'Copy of pexels-photo-1852984.jpg', 'Copy of pexels-photo-1379371.jpg', 'Copy of pexels-photo-1093236.jpg', 'Copy of pexels-photo-2218141.jpg', 'Copy of pexels-photo-1809576.jpg', 'Copy of pexels-photo-1353896.jpg', 'Copy of pexels-photo-1757697.jpg', 'Copy of pexels-photo-1308660.jpg', 'Copy of pexels-photo-1574480.jpg', 'Copy of pexels-photo-2100075.jpg', 'Copy of photo-1470083010285-12169927e64c.jpg', 'Copy of photo-1474426466337-efb5a6b4fcf3.jpg', 'Copy of photo-1473968512647-3e447244af8f.jpg', 'Copy of photo-1477899447710-90571e12f4ae.jpg', 'Copy of photo-1478206880970-2c5995fdf196.jpg', 'Copy of photo-1541636765-2682acc27f49.jpg', 'Copy of photo-1467864453741-7faf938e3bf0.jpg', 'Copy of photo-1456615913800-c33540eac399.jpg', 'Copy of photo-1473186639016-1451879a06f0.jpg', 'Copy of pexels-photo-2281073.jpg', 'Copy of photo-1489395326921-8010373d5147.jpg', 'Copy of photo-1488263590619-bc1fff43b6c1.jpg', 'Copy of photo-1484666086787-6cd0ccd39860.jpg', 'Copy of photo-1489087433598-048557455f41.jpg', 'Copy of photo-1479152471347-3f2e62a2b2a7.jpg', 'Copy of photo-1488462104523-514bea5f99b3.jpg', 'Copy of photo-1487887235947-a955ef187fcc.jpg', 'Copy of photo-1482809029417-1f569c7b3757.jpg', 'Copy of photo-1482169704817-5b66aafa1a01.jpg', 'Copy of photo-1487219116710-23ffcb172b2b.jpg', 'Copy of photo-1491738785019-dd6647a54f24.jpg', 'Copy of photo-1496359255925-ff76e05c813b.jpg', 'Copy of photo-1495810551032-2043a52a19c5.jpg', 'Copy of photo-1506429290503-47de7d2c94ca.jpg', 'Copy of photo-1499708544652-0e4c43899071.jpg', 'Copy of photo-1495811853829-7f743aca3770.jpg', 'Copy of photo-1506101752711-a2a758595bb2.jpg', 'Copy of photo-1495594430525-e63434930a44.jpg', 'Copy of photo-1495269652876-12a814403455.jpg', 'Copy of photo-1494261951946-b0c26b70410c.jpg', 'Copy of photo-1508444845599-5c89863b1c44.jpg', 'Copy of photo-1514041884614-65858e220493.jpg', 'Copy of photo-1519482859092-6e854b0f2c5d.jpg', 'Copy of photo-1512365230237-7e1ea7bd4e91.jpg', 'Copy of photo-1512054435010-2fa7d5e298f6.jpg', 'Copy of photo-1508614589041-895b88991e3e.jpg', 'Copy of photo-1517430939066-41484532ce67.jpg', 'Copy of photo-1511333122491-991715e06289.jpg', 'Copy of photo-1516718879053-92023f9a9fa4.jpg', 'Copy of photo-1507724571015-2a7d95884528.jpg', 'Copy of photo-1521469035722-fe189792e7eb.jpg', 'Copy of photo-1521405924368-64c5b84bec60.jpg', 'Copy of photo-1529611934128-376c7bb1c88a.jpg', 'Copy of photo-1525065747067-8d26d5ce3eac.jpg', 'Copy of quadcopters.jpg', 'Copy of pro_1001278_phppR4S3D5ce7e7760aaa54.05195579.jpg', 'Copy of quadcopters2.jpg', 'Copy of photo-1575751071140-a732546f7286.jpg', 'Copy of photo-1523438927869-e5819c560724.jpg', 'Copy of photo-1527862316562-c741a118ac51.jpg', 'Copy of quadrocopter-1658967__340.jpg', 'Copy of SM517-Human-Sized-Drone.00_00_10_00.Still004155809801.jpg', 'Copy of Screen-Shot-2019-08-27-at-6.03.40-PM-1068x546.jpg', 'Copy of scaneagle-military-drone-flares.jpg', 'Copy of Surveillance-quadcopter-with-all-up-weight-of-065-kg-chosen-for-design-analysis-see.jpg', 'Copy of Screen-Shot-2017-10-24-at-2.29.18-PM-e1508869812636.jpg', 'Copy of thumb.jpg', 'Copy of Screenshot-2019-07-26-at-07.38.24.jpg', 'Copy of Screen-Shot-2019-08-27-at-6.03 (1).40-PM-1068x546.jpg', 'Copy of two.jpg', 'Copy of ups1.jpg', 'Copy of uav-quadcopter copy.jpg', 'Copy of video16_132.jpg', 'Copy of video16_410.jpg', 'Copy of video18_1225.jpg', 'Copy of video16_194.jpg', 'Copy of video15_98.jpg', 'Copy of video18_1020.jpg', 'Copy of uav-quadcopter copy 2.jpg', 'Copy of video18_126.jpg', 'Copy of xFold-DragonH300-x12.jpg', 'Copy of yuneec-hero-01.jpg', 'Copy of volocopter.jpg', 'C3E1B3E7-6D83-4A1A-9D47-41176FB92BA3.jpg', '1e44f51f0155052ee9573e4ea115eafe.jpg', 'quadcopters2.jpg', 'Holy-Stone-HS400-Large-Quadcopter-FPV-Drone-.jpg', '3098168-swarm-of-unmanned-aircraft-system-uav-quadcopters-drones-photocase-stock-photo-large.jpg', '1414314625095_Image_galleryImage_Embargoed_to_0001_Monday_.jpg', 'download copy 5.jpg', '49fd814f02cb8d29478326ddb56b03c2.jpg', 'Screen-Shot-2019-08-27-at-6.03 (1).40-PM-1068x546.jpg', '55c925f4dd0895f46e8b4600.jpg', 'convertawing-quadrotor.jpeg-696x557.jpg', 'two.jpg', 'MzEyODI2Nw.jpg', 'disaster-relief-drones.jpg', 'Drones-to-the-Rescue-How-Drones-Are-Helping-Disaster-Relief-Efforts.jpg', 'deeper-pars-air-sea-rescue-drone-rts.jpg', 'dronerescue.jpg', 'Natural-Disasters.jpg', 'Best-Surveillance-Drones1.jpg', 'Surveillance-quadcopter-with-all-up-weight-of-065-kg-chosen-for-design-analysis-see.jpg', 'Drone-Tether-Surveillance-947x675-1.jpg', 'Screen-Shot-2017-10-24-at-2.29.18-PM-e1508869812636.jpg', 'Bluegrass.jpg', '750px.jpg', '5e0904c6855cc216cc357e32.jpg', 'agricultural-drones-in-india.jpg', 'uav-quadcopter copy 2.jpg', 'download copy 3.jpg', 'download copy 4.jpg', 'image-asset copy.jpg', 'images copy 4.jpg', 'Cool-Drones.jpg', 'artists-conception-of-nasa-dual-quadcopter.jpg', '262832-tacocopter.nbcnews-fp-1200-800.jpg', 'volocopter.jpg', 'image1-82.jpg', 'SM517-Human-Sized-Drone.00_00_10_00.Still004155809801.jpg', 'scaneagle-military-drone-flares.jpg', 'Screen-Shot-2019-08-27-at-6.03.40-PM-1068x546.jpg', 'xFold-DragonH300-x12.jpg', 'MzEyODIzMg.jpg', 'imgingest-6471299197806401270.jpg', 'image16.jpg', 'image.jpg', 'Drone-wing.jpg', 'image-asset.jpg', 'download (5).jpg', 'https___api.thedrive.com_wp-content_uploads_2018_02_ehang-hero-01.jpg', 'https___api.thedrive.com_wp-content_uploads_2018_08_ehang-bankruptcy-strategic-2019-hero-01.jpg', 'images.jpg', 'MzUzNTgxOA.jpg', '5d5603f9a310cf3e97977581.jpg', '5b812536a310add1c6988983.jpg', 'images copy.jpg', '1d0b8ad28454a3fea2a252ec7bf1265b.jpg', 'pro_1001278_phppR4S3D5ce7e7760aaa54.05195579.jpg', 'firefighting-drones.jpg', 'firefighting-drones (1).jpg', '8d1e64ce-5241-11e6-98ca-49b1c9e3ed10_1280x720.jpg', 'download copy.jpg', '5e5e933afee23d33674db068.jpg', 'Garuda-drone-pic.jpg', 'Marut-Drones-3.jpg', 'd382b711efa0409ca2bd1e89a111ca13.jpg', 'i (2).jpg', 'i (39).jpg', 'i (20).jpg', 'i (14).jpg', 'i (13).jpg', 'i (15).jpg', 'i (4).jpg', 'i (22).jpg', 'i (5).jpg', 'i (16).jpg', 'i (6).jpg', 'i (8).jpg', 'i (10).jpg', 'i (7).jpg', 'i (11).jpg', 'i (12).jpg', 'i (9).jpg', 'i (24).jpg', 'i (25).jpg', 'i (19).jpg', 'i (23).jpg', 'i (18).jpg', 'i (3).jpg', 'i (21).jpg', 'P5243975.jpg', 'i (17).jpg', 'yuneec-hero-01.jpg', 'i (4)-1.jpg', 'i (7)-1.jpg', 'i (2)-1.jpg', 'i (9)-1.jpg', 'i (6)-1.jpg', 'i (3)-1.jpg', 'i (11)-1.jpg', 'i (5)-1.jpg', 'i (12)-1.jpg', 'i (8)-1.jpg', 'i (10)-1.jpg', 'i (1)-1.jpg', 'i-1.jpg', 'i (37).jpg', 'i (16)-1.jpg', 'i (13)-1.jpg', 'i (26).jpg', 'i (19)-1.jpg', 'i (20)-1.jpg', 'i (38).jpg', 'i (21)-1.jpg', 'i (15)-1.jpg', 'i (27).jpg', 'i (25)-1.jpg', 'i (22)-1.jpg', 'i (23)-1.jpg', 'i (14)-1.jpg', 'i (30).jpg', 'i (33).jpg', 'i (35).jpg', 'i (31).jpg', 'i (18)-1.jpg', 'i (24)-1.jpg', 'i (36).jpg', 'i (17)-1.jpg', 'i (29).jpg', 'i (32).jpg', 'i (28).jpg', 'i (34).jpg', 'i (2)-2.jpg', 'i (7)-2.jpg', 'i (3)-2.jpg', 'i (4)-2.jpg', 'i (1)-2.jpg', 'i (6)-2.jpg', 'i (8)-2.jpg', 'i-2.jpg', 'i (5)-2.jpg', 'Wind8_Banner-768x540.jpg', '0882c9610f244e93f95338eb1715adda06a4f0d0.jpg', 'download.jpg', 'download (1).jpg', 'download (6).jpg', 'download (4).jpg', 'download (2).jpg', '1-s2.0-S1877050917326881-main.jpg', 'images copy 2.jpg', 'main-qimg-ad3f571c014ef28bae42adc196bfa9cb.jpg', 'uav-quadcopter copy.jpg', 'dron.jpg', 'flexa1.jpg', 'CKcjSMzUwAAdOKs.jpg', 'Screenshot-2019-07-26-at-07.38.24.jpg', 'draganflyer-x6.jpg', 'MzAxODUyMA.jpg', 'dc-Cover-h9kni241scvlr1q7b73a9qf9r5-20161122030729.Medi.jpg', 'download copy 2.jpg', 'images copy 3.jpg', '01.jpg', 'f932c88d-41d6-4659-b5ad-9abe24b5a46f-2060x1236.jpg', 'Amazon Prime Air Private Trial Flying-HIGH RES.jpg.jpg', 'drone-first-aid_193013387.jpg', 'AdobeStock_184914706-e1570036994971-1024x524.jpg', 'https___api.thedrive.com_wp-content_uploads_2018_02_projectwing-test-hero-01.jpg', '5cfee78dba3a73203028cac3.jpg', 'malloy-hover.jpg', 'MzA2NTczMA.jpg', '1485789563385-1406125825834130.jpg', 'quadcopters.jpg', '20150729162833-drone-wih-package.jpg', 'AAEqDns.jpg', 'thumb.jpg', 'images (2).jpg', 'DjMYmJ8XsAAT5nj.jpg', 'dims.jpg', 'Capture9.jpg', 'Capture10.jpg', 'Capture11.jpg', 'Capture12.jpg', 'Capture13.jpg', 'Capture14.jpg', 'Capture15.jpg', 'Capture16.jpg', 'Capture17.jpg', 'Capture18.jpg', 'Capture20.jpg', 'Capture19.jpg', 'Capture22.jpg', 'Capture21.jpg', 'Capture23.jpg', 'Capture24.jpg', 'Capture25.jpg', 'Capture26.jpg', 'Capture28.jpg', 'Capture27.jpg', 'Capture29.jpg', 'Capture30.jpg', 'Capture31.jpg', 'Capture32.jpg', 'Capture33.jpg', 'Capture34.jpg', 'Capture35.jpg', 'Capture38.jpg', 'Capture37.jpg', 'Capture36.jpg', 'Capture39.jpg', 'Capture40.jpg', 'Capture41.jpg', 'Capture42.jpg', 'Capture43.jpg', 'Capture44.jpg', 'Capture45.jpg', 'Capture47.jpg', 'Capture46.jpg', 'Capture50.jpg', 'Capture49.jpg', 'Capture48.jpg', 'Capture51.jpg', 'Capture52.jpg', 'Capture53.jpg', 'Capture54.jpg', 'Capture55.jpg', 'Capture57.jpg', 'Capture56.jpg', 'Capture60.jpg', 'Capture59.jpg', 'Capture58.jpg', 'Capture62.jpg', 'Capture61.jpg', 'Capture63.jpg', 'Capture64.jpg', 'Capture65.jpg', 'Capture66.jpg', 'Capture67.jpg', 'Capture68.jpg', 'Capture70.jpg', 'Capture69.jpg', 'Capture71.jpg', 'Capture72.jpg', 'Capture73.jpg', 'Capture74.jpg', 'Capture75.jpg', 'Capture77.jpg', 'Capture76.jpg', 'Capture79.jpg', 'Capture78.jpg', 'Capture80.jpg', 'Capture81.jpg', 'Capture82.jpg', 'Capture83.jpg', 'Capture84.jpg', 'Capture85.jpg', 'Capture86.jpg', 'Capture88.jpg', 'Capture87.jpg', 'Capture90.jpg', 'Capture89.jpg', 'Capture91.jpg', 'Capture92.jpg', 'Capture93.jpg', 'Capture94.jpg', 'Capture95.jpg', 'Capture96.jpg', 'Capture97.jpg', 'Capture98.jpg', 'Capture99.jpg', 'Capture100.jpg', 'Capture101.jpg', 'Capture103.jpg', 'Capture102.jpg', 'Capture104.jpg', 'Capture105.jpg', 'Capture106.jpg', 'Capture107.jpg', 'Capture108.jpg', 'Capture109.jpg', 'Capture110.jpg', 'Capture111.jpg', 'Capture112.jpg', 'Capture113.jpg', 'Capture114.jpg', 'Capture115.jpg', 'Capture117.jpg', 'Capture116.jpg', 'Capture118.jpg', 'Capture119.jpg', 'Capture120.jpg', 'Capture122.jpg', 'Capture121.jpg', 'Capture123.jpg', 'Capture124.jpg', 'Capture125.jpg', 'Capture126.jpg', 'Capture127.jpg', 'Capture128.jpg', 'Capture129.jpg', 'Capture130.jpg', 'Capture131.jpg', 'Capture132.jpg', 'Capture133.jpg', 'Capture134.jpg', 'Capture135.jpg', 'Capture136.jpg', 'Capture137.jpg', 'Capture138.jpg', 'Capture139.jpg', 'Capture140.jpg', 'Capture141.jpg', 'Capture142.jpg', 'Capture143.jpg', 'ups1.jpg', 'Capture144.jpg', 'firefighting-drones (2).jpg', 'Capture145.jpg', 'Capture146.jpg', 'Capture147.jpg', 'Capture149.jpg', 'Capture148.jpg', 'Capture150.jpg', 'Capture151.jpg', 'Capture152.jpg', 'Capture154.jpg', 'Capture153.jpg', 'Capture157.jpg', 'Capture156.jpg', 'Capture155.jpg', 'Capture158.jpg', 'Capture159.jpg', 'Capture160.jpg', 'Capture161.jpg', 'Capture165.jpg', 'Capture166.jpg', 'Capture163.jpg', 'Capture164.jpg', 'Capture162.jpg'] to the folder \"Large QuadCopters\" inside zip file<zipfile.ZipFile filename='ThumbnailData_AnilBhatt.zip' mode='a'>\n"
          ],
          "name": "stdout"
        },
        {
          "output_type": "display_data",
          "data": {
            "application/vnd.jupyter.widget-view+json": {
              "model_id": "c46ae08e1b5245259f564ae92550da3f",
              "version_minor": 0,
              "version_major": 2
            },
            "text/plain": [
              "HBox(children=(FloatProgress(value=0.0, max=886.0), HTML(value='')))"
            ]
          },
          "metadata": {
            "tags": []
          }
        },
        {
          "output_type": "stream",
          "text": [
            "\n",
            "Time took: 1596627429.4537125 - 1596627057.4984224 = 6.20\n"
          ],
          "name": "stdout"
        }
      ]
    },
    {
      "cell_type": "code",
      "metadata": {
        "id": "ci34wgLcX5aU",
        "colab_type": "code",
        "colab": {
          "base_uri": "https://localhost:8080/",
          "height": 35
        },
        "outputId": "aa0c32ea-1f88-4e5c-c6ab-a5b9e540ae04"
      },
      "source": [
        "zip_out.close()\n",
        "zip_out = ZipFile('ThumbnailData_AnilBhatt.zip', mode = 'a')"
      ],
      "execution_count": 29,
      "outputs": [
        {
          "output_type": "stream",
          "text": [
            "Time took: 0.466667\n"
          ],
          "name": "stdout"
        }
      ]
    },
    {
      "cell_type": "code",
      "metadata": {
        "id": "jnXz0qFFYAku",
        "colab_type": "code",
        "colab": {
          "base_uri": "https://localhost:8080/",
          "height": 121,
          "referenced_widgets": [
            "44a0cede2c8f48fe853fc925d4e604bf",
            "91277b98f9f340b59b28a44f2cd2bc9f",
            "0c0079e708bc4013ba3c8fcf3b83b37f",
            "d051465527ab4fa1a387c6e4d1d8a728",
            "89b5a4ed73bb471ba6267d69088acd44",
            "1b81d53122fe4084a3534b7b5a214c57",
            "2ef1a9334cd3422f9f11246722c9fd28",
            "9fe433a26d894105bfccbd9b7812f639"
          ]
        },
        "outputId": "c62e52fb-92b8-4389-f2f4-9e75c57b768b"
      },
      "source": [
        "print(f'Writing images from {smallquadlist} to the folder \"Small QuadCopters\" inside zip file{out}')\n",
        "t1 = time()\n",
        "resize_and_writetozip(str(smallquadpath), smallquadlist, 'Small QuadCopters', zip_out)\n",
        "t2 = time()\n",
        "print(f'Time took: {t2} - {t1} = {(t2-t1)/60:.2f} secs')"
      ],
      "execution_count": 33,
      "outputs": [
        {
          "output_type": "stream",
          "text": [
            "Writing images from ['OIP - 2020-07-21T024911.471.jpg', 'OIP - 2020-07-21T024911.268.jpg', 'OIP - 2020-07-21T024911.623.jpg', 'OIP - 2020-07-21T024911.564.jpg', 'OIP - 2020-07-21T030509.219.jpg', 'OIP - 2020-07-21T024911.665.jpg', 'OIP - 2020-07-21T030509.214.jpg', 'OIP - 2020-07-21T030509.225.jpg', 'OIP - 2020-07-21T030509.159.jpg', 'OIP - 2020-07-21T030509.170.jpg', 'OIP - 2020-07-21T030509.223.jpg', 'OIP - 2020-07-21T024911.546.jpg', 'OIP - 2020-07-21T030509.146.jpg', 'OIP - 2020-07-21T024911.577.jpg', 'OIP - 2020-07-21T030509.160.jpg', 'OIP - 2020-07-21T024911.608.jpg', 'OIP - 2020-07-21T030509.147.jpg', 'OIP - 2020-07-21T024911.548.jpg', 'OIP - 2020-07-21T030509.162.jpg', 'OIP - 2020-07-21T024911.547.jpg', 'OIP - 2020-07-21T030509.163.jpg', 'OIP - 2020-07-21T030509.202.jpg', 'OIP - 2020-07-21T030509.224.jpg', 'OIP (10).jpg', 'OIP (3).jpg', 'OIP - 2020-07-21T030509.226.jpg', 'OIP (5).jpg', 'OIP (15).jpg', 'OIP (6).jpg', 'OIP (7).jpg', 'OIP (13).jpg', 'OIP (4).jpg', 'OIP (11).jpg', 'OIP (9).jpg', 'OIP (17).jpg', 'OIP (12).jpg', 'OIP (1).jpg', 'OIP (8).jpg', 'OIP (2).jpg', 'OIP (21).jpg', 'OIP (22).jpg', 'OIP (30).jpg', 'OIP (29).jpg', 'OIP (27).jpg', 'OIP (18).jpg', 'OIP (20).jpg', 'OIP (23).jpg', 'OIP (33).jpg', 'OIP (26).jpg', 'OIP (36).jpg', 'OIP (31).jpg', 'OIP (34).jpg', 'OIP (35).jpg', 'OIP (24).jpg', 'OIP (19).jpg', 'OIP (32).jpg', 'OIP (25).jpg', 'OIP (40).jpg', 'OIP (42).jpg', 'OIP (37).jpg', 'OIP (45).jpg', 'OIP (50).jpg', 'OIP (43).jpg', 'OIP (38).jpg', 'OIP (41).jpg', 'OIP (48).jpg', 'OIP (49).jpg', 'OIP (46).jpg', 'OIP (47).jpg', 'OIP (44).jpg', 'OIP (95).jpg', 'OIP (76).jpg', 'OIP (93).jpg', 'OIP (64).jpg', 'OIP (66).jpg', 'OIP (73).jpg', 'OIP (97).jpg', 'OIP (77).jpg', 'OIP (53).jpg', 'OIP (105).jpg', 'OIP (52).jpg', 'OIP (92).jpg', 'OIP (112).jpg', 'OIP (101).jpg', 'OIP (54).jpg', 'OIP (67).jpg', 'OIP (51).jpg', 'OIP (57).jpg', 'OIP (85).jpg', 'OIP (94).jpg', 'OIP (58).jpg', 'OIP (56).jpg', 'OIP (63).jpg', 'OIP (106).jpg', 'OIP (78).jpg', 'OIP (98).jpg', 'OIP (70).jpg', 'OIP (110).jpg', 'OIP (59).jpg', 'OIP (61).jpg', 'OIP (103).jpg', 'OIP (99).jpg', 'OIP (87).jpg', 'OIP (90).jpg', 'OIP (60).jpg', 'OIP (74).jpg', 'OIP (69).jpg', 'OIP (91).jpg', 'OIP (72).jpg', 'OIP (55).jpg', 'OIP (80).jpg', 'OIP (62).jpg', 'OIP (114).jpg', 'OIP (65).jpg', 'OIP (82).jpg', 'OIP (84).jpg', 'OIP (79).jpg', 'OIP (68).jpg', 'OIP (75).jpg', 'OIP (107).jpg', 'OIP (108).jpg', 'OIP (104).jpg', 'OIP (100).jpg', 'OIP (96).jpg', 'OIP (102).jpg', 'OIP (71).jpg', 'OIP (86).jpg', 'OIP (83).jpg', 'OIP (111).jpg', 'OIP (145).jpg', 'OIP (176).jpg', 'OIP (141).jpg', 'OIP (153).jpg', 'OIP (171).jpg', 'OIP (169).jpg', 'OIP (151).jpg', 'OIP (174).jpg', 'OIP (125).jpg', 'OIP (170).jpg', 'OIP (167).jpg', 'OIP (143).jpg', 'OIP (148).jpg', 'OIP (117).jpg', 'OIP (139).jpg', 'OIP (129).jpg', 'OIP (116).jpg', 'OIP (149).jpg', 'OIP (121).jpg', 'OIP (118).jpg', 'OIP (138).jpg', 'OIP (132).jpg', 'OIP (133).jpg', 'OIP (163).jpg', 'OIP (127).jpg', 'OIP (161).jpg', 'OIP (134).jpg', 'OIP (137).jpg', 'OIP (142).jpg', 'OIP (165).jpg', 'OIP (115).jpg', 'OIP (147).jpg', 'OIP (155).jpg', 'OIP (166).jpg', 'OIP (177).jpg', 'OIP (124).jpg', 'OIP (175).jpg', 'OIP (164).jpg', 'OIP (131).jpg', 'OIP (179).jpg', 'OIP (122).jpg', 'OIP (173).jpg', 'OIP (154).jpg', 'OIP (157).jpg', 'OIP (162).jpg', 'OIP (160).jpg', 'OIP (126).jpg', 'OIP (109).jpg', 'OIP (120).jpg', 'OIP (128).jpg', 'OIP (135).jpg', 'OIP (130).jpg', 'OIP (119).jpg', 'OIP (140).jpg', 'OIP (158).jpg', 'OIP (123).jpg', 'OIP (146).jpg', 'OIP (180).jpg', 'OIP (172).jpg', 'OIP (136).jpg', 'OIP (144).jpg', 'OIP (159).jpg', 'th.jpg', 'OIP-9.jpg', 'OIP (195).jpg', 'OIP (196).jpg', 'OIP (198).jpg', 'OIP (285).jpg', 'OIP-3.jpg', 'OIP (192).jpg', 'OIP.jpg', 'OIP (197) (1).jpg', 'OIP (191).jpg', 'OIP (182).jpg', 'OIP (181).jpg', 'OIP (190).jpg', 'OIP (274).jpg', 'OIP (296).jpg', 'OIP (194).jpg', 'OIP-100.jpg', 'OIP (199).jpg', 'OIP (193).jpg', 'OIP (189).jpg', 'OIP (184).jpg', 'OIP (186).jpg', 'OIP (183).jpg', 'OIP-11.jpg', 'OIP-23.jpg', 'OIP-5.jpg', 'OIP (185).jpg', 'OIP-1.jpg', 'OIP (187).jpg', 'OIP-10.jpg', 'OIP (188).jpg', '55-70451-practice-1413997836.jpg', '6fec6a8e6f9be9342da45b56263598d9.jpg', '3902a4e94c9a8518f3855b6397080a7b (1).jpg', '692727ada956bdbc5a579a7d1ca817f7 (1).jpg', 'drones-pose-increasing-risks-to-aircraft.jpg', 'OIP (14).jpg', 'down2.jpg', 'hqdefault (2).jpg', 'HTB1TYSrsfuSBuNkHFqDq6xfhVXaa.jpg', 'Autumn_Drone_-cropped-.jpg', 'mavic-pro-quadcopter-drone-is-seen-on-flight-at-the-news-pho.jpg', 'djiphantom.jpg', 'Drone-resized.jpg', 'images_srilanka1.jpg', 'images_srilanka2.jpg', 'images_srilanka3.jpg', 'images_srilanka4.jpg', 'images_srilanka5.jpg', 'images_srilanka6.jpg', 'images_srilanka7.jpg', 'images_srilanka8.jpg', 'images_russia1.jpg', 'images_russia22.jpg', 'images_srilanka9.jpg', 'images_srilanka10.jpg', 'stock1.jpg', 'stock3.jpg', 'stock4.jpg', 'stock5.jpg', 'stock6.jpg', 'stock8.jpg', 'stock9.jpg', 'stock10.jpg', 'stock11.jpg', 'stock12.jpg', 'stock21.jpg', 'stock22.jpg', 'stock23.jpg', 'stock24.jpg', 'stock32.jpg', 'stock35.jpg', 'unmanned1.jpg', 'unmmaned2.jpg', 'Drone-resized1.jpg', 'unmanned2.jpg', 'unmanned10.jpg', 'unmanned23.jpg', '8075668-3x4-large10.jpg', 'people-drone.jpg', '4k-shoot.jpg', 'regulatory-10.jpg', 'drone-germany.jpg', 'drone_image.jpg', 'drone2.jpg', 'unmanned100.jpg', 'manufactured-20.jpg', 'people-drone-1.jpg', 'small-drone-10.jpg', 'drone-100.jpg', 'small-20.jpg', 'chicago-10.jpg', 'sunset-10.jpg', 'drones-mountain.jpg', 'high-range.jpg', 'mini-1.jpg', 'drone-germany-10.jpg', 'drone-sunset.jpg', 'hovering-1.jpg', 'hovering-10.jpg', 'uk-done.jpg', 'drone-uk.jpg', 'uk-drone-2.jpg', 'drone-uk-1.jpg', 'teah-student.jpg', 'bottom-drone.jpg', 'top-drone.jpg', 'second-hand.jpg', 'small-shape-drone.jpg', 'djia.jpg', 'drone-bottom.jpg', 'side-quad.jpg', 'side-quad-10.jpg', 'survelliance.jpg', 'lesson-quad.jpg', 'drone-deals.jpg', 'djia-uk.jpg', 'small-25.jpg', 'small-100.jpg', 'download (1) (1).jpg', 'aachen-1.jpg', 'aachen-2.jpg', 'aachen-3.jpg', 'drone-homeowner.jpg', 'defense-drones.jpg', 'uav.jpg', 'uav-3.jpg', 'agricultural-1.jpg', 'assist-1.jpg', 'hqdefault.jpg', 'imperial-speeder-bike-quadcopter-drone-by-adam-woodworth-9.jpg', 'maxresdefault.jpg', '05d5IEKZUlFuYKN0GkVH5qV-1..v_1569469961.jpg', 'DJI-Mavic-Pro-788x443.jpg', 'how-long-drones-fly-1280x720.jpg', 'drones (1).jpg', 'mg_9797-1.jpg', 'typhoon (1).jpg', 'bgr-best-drone-phantom4-2 (1).jpg', 'Cannabis-delivery-drone-Seattle (1).jpg', 'DJIMavic24-920x613 (1).jpg', 'Mini-compressed-1 (1).jpg', 'weQ7Ht9ngsXteqzbUHWiHD-1200-80 (1).jpg', 'download.jpg', 'download (1).jpg', 'download (2).jpg', 'download (3).jpg', 'download (4).jpg', 'download (5).jpg', 'download (6).jpg', 'download (7).jpg', 'download (8).jpg', 'download (9).jpg', 'download (10).jpg', 'download (11).jpg', 'download (12).jpg', 'download (13).jpg', 'download (14).jpg', 'download (15).jpg', 'download (16).jpg', 'download (17).jpg', 'download (18).jpg', 'downloadpn.jpg.jpg', 'download (19).jpg', 'download (20).jpg', 'download (21).jpg', 'download (22).jpg', 'download (23).jpg', 'download (24).jpg', 'download (25).jpg', 'download (26).jpg', 'download (27).jpg', 'download (28).jpg', 'download (29).jpg', 'download (30).jpg', 'download (31).jpg', 'download (32).jpg', 'download (33).jpg', 'download (34).jpg', 'download (35).jpg', 'download (36).jpg', 'download (37).jpg', 'download (38).jpg', 'download (39).jpg', 'download (40).jpg', 'download (41).jpg', 'download (42).jpg', 'download (43).jpg', 'download (44).jpg', 'download (45).jpg', 'download (46).jpg', 'download (47).jpg', 'download (48).jpg', 'download (49).jpg', 'download (50).jpg', 'download (51).jpg', 'download (52).jpg', 'download (53).jpg', 'download (54).jpg', 'download (55).jpg', 'download (56).jpg', 'downloaded.jpg', 'download (57).jpg', 'download (58).jpg', 'download (59).jpg', 'download (60).jpg', 'download (61).jpg', 'download (62).jpg', 'download (63).jpg', 'download (64).jpg', 'download (65).jpg', 'download (66).jpg', 'download (67).jpg', 'download (68).jpg', 'images(439)_copter.jpg', 'images(462)_copter.jpg', 'images(456)_copter.jpg', 'images(495)_copter.jpg', 'images(433)_copter.jpg', 'images(429)_copter.jpg', 'images(480)_copter.jpg', 'images(437)_copter.jpg', 'images(465)_copter.jpg', 'images(432)_copter.jpg', 'images(483)_copter.jpg', 'images(493)_copter.jpg', 'images(488)_copter.jpg', 'images(461)_copter.jpg', 'images(508)_copter.jpg', 'images(484)_copter.jpg', 'images(477)_copter.jpg', 'images(438)_copter.jpg', 'images(458)_copter.jpg', 'images(435)_copter.jpg', 'images(436)_copter.jpg', 'images(468)_copter.jpg', 'images(442)_copter.jpg', 'images(427)_copter.jpg', 'images(457)_copter.jpg', 'images(459)_copter.jpg', 'images(496)_copter.jpg', 'images(469)_copter.jpg', 'images(463)_copter.jpg', 'images(445)_copter.jpg', 'images(502)_copter.jpg', 'images(479)_copter.jpg', 'images(434)_copter.jpg', 'images(431)_copter.jpg', 'images(471)_copter.jpg', 'images(535)_copter.jpg', 'images(532)_copter.jpg', 'images(540)_copter.jpg', 'images(523)_copter.jpg', 'images(542)_copter.jpg', 'images(529)_copter.jpg', 'images(531)_copter.jpg', 'images(548)_copter.jpg', 'images(521)_copter.jpg', 'images(537)_copter.jpg', 'images(534)_copter.jpg', 'images(528)_copter.jpg', 'images(538)_copter.jpg', 'images(539)_copter.jpg', 'images(527)_copter.jpg', 'images(541)_copter.jpg', 'images(514)_copter.jpg', 'images(513)_copter.jpg', 'images(519)_copter.jpg', 'images(522)_copter.jpg', 'images(518)_copter.jpg', 'images(510)_copter.jpg', 'images(545)_copter.jpg', 'images(544)_copter.jpg', 'images(511)_copter.jpg', 'images(533)_copter.jpg', 'images(524)_copter.jpg', 'images(536)_copter.jpg', 'images(509)_copter.jpg', 'images(516)_copter.jpg', 'images(517)_copter.jpg', 'images(520)_copter.jpg', 'images(526)_copter.jpg', 'images(547)_copter.jpg', 'images(546)_copter.jpg', 'images(515)_copter.jpg', 'images(530)_copter.jpg', 'dji-drone-phantom.jpg', 'DJI-drone.jpg', 'a8973765bcdf59f8d976f98676bfea42.jpg', 'aeryonskyrangerspecphoto.jpg', 'drone1.jpg', 'computing-20200427-feature-dji-mavic-air-2-s.jpg', 'A9825232.jpg', '43-3-col-rotary-drone.jpg', '130265-drones-buyer-s-guide-the-best-drones-2020-top-rated-q.jpg', '_104617027_mediaitem104617026.jpg', '001_cabcera-1-fabricante-de-drones-situado-en-espana-europa-.jpg', '9ad74ebcc3d83e86bcc0098026ed5e9f_XL.jpg', 'drone-over-water-getty-510x510-c-ar1.jpg', '220px-Md4-200.jpg', 'drone-flying-over-sea-bermeo-spain-X16W5M.jpg', '1l-image-Magni-Multi-Rotor-Micro-Drone.jpg', 'iStock-823978716.jpg', 'gettyimages-642112459-1024x1024.jpg', '184.jpg', '223.jpg', '20.jpg', '24.jpg', '150.jpg', '190.jpg', '304.jpg', '271.jpg', '191.jpg', '219.jpg', '261.jpg', '218.jpg', '183.jpg', '207.jpg', '198.jpg', '305.jpg', '225.jpg', '258.jpg', '114.jpg', '173.jpg', '179.jpg', '14.jpg', '113.jpg', '128.jpg', '167.jpg', '307.jpg', '18.jpg', '21.jpg', '171.jpg', '192.jpg', '170.jpg', '289.jpg', '230.jpg', '172.jpg', '217.jpg', '211.jpg', '215.jpg', '17.jpg', '178.jpg', '301.jpg', '153.jpg', '295.jpg', '303.jpg', '36.jpg', '339.jpg', 'drone-156.jpg', '73.jpg', 'drone-34.jpg', '320.jpg', '311.jpg', '51.jpg', 'drone-35.jpg', 'drone-199.jpg', 'drone-71.jpg', 'drone-10.jpg', 'drone-171.jpg', 'drone-44.jpg', 'drone-26.jpg', 'drone-7.jpg', '346.jpg', 'drone-81.jpg', 'drone-75.jpg', 'drone-201.jpg', 'drone-165.jpg', 'drone-189.jpg', 'drone-65.jpg', 'drone-217.jpg', 'drone-191.jpg', 'drone-113.jpg', '90.jpg', '82.jpg', 'drone-211.jpg', 'drone-95.jpg', 'drone-12.jpg', 'drone-204.jpg', '337.jpg', 'drone-105.jpg', 'drone-47.jpg', '37.jpg', 'drone-164.jpg', 'drone-177.jpg', 'drone-73.jpg', 'drone-89.jpg', 'drone-188.jpg', 'drone-162.jpg', 'drone-9.jpg', 'drone-21.jpg', 'drone-198.jpg', 'drone-94.jpg', 'drone-108.jpg', '70.jpg', 'drone-11.jpg', 'drone-25.jpg', '88.jpg', '71.jpg', 'drone-161.jpg', 'drone-115.jpg', '69.jpg', 'drone-28.jpg', 'drone-59.jpg', '355.jpg', '9.jpg', '310.jpg', 'drone-218.jpg', '98.jpg', '54.jpg', 'drone-158.jpg', 'drone-97.jpg', 'drone-106.jpg', 'drone-155.jpg', 'drone-205.jpg', '57.jpg', '347.jpg', 'drone-196.jpg', 'drone-178.jpg', '68.jpg', 'drone-86.jpg', '351.jpg', 'drone-84.jpg', 'drone-185.jpg', 'drone-114.jpg', '62.jpg', 'drone-190.jpg', '87.jpg', '340.jpg', '329.jpg', 'drone-102.jpg', 'drone-40.jpg', '318.jpg', 'drone-197.jpg', 'drone-131.jpg', 'OIP (197).jpg', 'download (2) (1).jpg', 'download (4) (1).jpg', 'download (5) (1).jpg', 'download (10) (1).jpg', 'download (6) (1).jpg', 'download (9) (1).jpg', 'download (8) (1).jpg', 'download (11) (1).jpg', 'download (14) (1).jpg', 'download (12) (1).jpg', 'download (13) (1).jpg', 'download (15) (1).jpg', 'download (17) (1).jpg', 'download (16) (1).jpg', 'download (19) (1).jpg', 'download (18) (1).jpg', 'download (21) (1).jpg', 'download (22) (1).jpg', 'download (24) (1).jpg', 'download (20) (1).jpg', 'download (23) (1).jpg', 'download (26) (1).jpg', 'images (1).jpg', 'images - 2020-07-22T003809.771.jpg', 'download (29) (1).jpg', 'download (27) (1).jpg', 'download (30) (1).jpg', 'download (25) (1).jpg', 'images (4).jpg', 'images (9).jpg', 'images (3).jpg', 'images (12).jpg', 'images (6).jpg', 'images (10).jpg', 'images (11).jpg', 'images (7).jpg', 'images (2).jpg', 'images (15).jpg', 'images (13).jpg', 'images (16).jpg', 'images (18).jpg', 'images (17).jpg', 'images (14).jpg', 'images (21).jpg', 'images (19).jpg', 'images (20).jpg', 'images (22).jpg', 'images (26).jpg', 'images (27).jpg', 'images (23).jpg', 'images (24).jpg', 'images (28).jpg', 'images (29).jpg', 'images (31).jpg', 'images (30).jpg', 'images (36).jpg', 'images (33).jpg', 'images (37).jpg', 'images (35).jpg', 'images (43).jpg', 'images (45).jpg', 'images (41).jpg', 'images (40).jpg', 'images (42).jpg', 'images (44).jpg', 'images (46).jpg', 'images (38).jpg', 'images (47).jpg', 'images (50).jpg', 'images (48).jpg', 'images (49).jpg', 'images (54).jpg', 'images (55).jpg', 'images (56).jpg', 'images (51).jpg', 'images (52).jpg', 'images (58).jpg', 'images (57).jpg', 'images (60).jpg', 'images (62).jpg', 'images (59).jpg', 'images (63).jpg', 'images (64).jpg', 'images (61).jpg', 'images (69).jpg', 'images (68).jpg', 'images (65).jpg', 'images (70).jpg', 'images (66).jpg', 'images (74).jpg', 'images (73).jpg', 'images (71).jpg', 'images (77).jpg', 'images (78).jpg', 'images (75).jpg', 'images (76).jpg', 'images (81).jpg', 'images (80).jpg', 'images (79).jpg', 'images (83).jpg', 'images (84).jpg', 'images (82).jpg', 'images (90).jpg', 'images (89).jpg', 'images (85).jpg', 'images (87).jpg', 'images (86).jpg', 'images (88).jpg', 'images (94).jpg', 'images (96).jpg', 'images (92).jpg', 'images (95).jpg', 'images (91).jpg', 'images (93).jpg', 'images (101).jpg', 'images (98).jpg', 'images (97).jpg', 'images (100).jpg', 'images (103).jpg', 'images (107).jpg', 'images (104).jpg', 'images (106).jpg', 'images (105).jpg', 'images (108).jpg', 'images (110).jpg', 'images (115).jpg', 'images (114).jpg', 'images (113).jpg', 'images (109).jpg', 'images (112).jpg', 'images (111).jpg', 'images (119).jpg', 'images (118).jpg', 'images (122).jpg', 'images (116).jpg', 'images (120).jpg', 'images (117).jpg', 'images (124).jpg', 'images (127).jpg', 'images (123).jpg', 'images (129).jpg', 'images (125).jpg', 'images (128).jpg', 'images (131).jpg', 'OIP - 2020-07-21T024555.367.jpg', 'OIP - 2020-07-21T024555.380.jpg', 'OIP - 2020-07-21T024555.366.jpg', 'images (130).jpg', 'images.jpg', 'OIP - 2020-07-21T024555.382.jpg', 'OIP - 2020-07-21T024555.381.jpg', 'OIP - 2020-07-21T024555.406.jpg', 'OIP - 2020-07-21T024555.405.jpg', 'OIP - 2020-07-21T024555.408.jpg', 'OIP - 2020-07-21T024555.407.jpg', 'OIP - 2020-07-21T024555.412.jpg', 'OIP - 2020-07-21T024555.436.jpg', 'OIP - 2020-07-21T024555.459.jpg', 'OIP - 2020-07-21T024555.409.jpg', 'OIP - 2020-07-21T024555.467.jpg', 'OIP - 2020-07-21T024555.435.jpg', 'OIP - 2020-07-21T024555.554.jpg', 'OIP - 2020-07-21T024555.572.jpg', 'OIP - 2020-07-21T024555.469.jpg', 'OIP - 2020-07-21T024555.468.jpg', 'OIP - 2020-07-21T024555.567.jpg', 'OIP - 2020-07-21T024555.580.jpg', 'OIP - 2020-07-21T024556.070.jpg', 'OIP - 2020-07-21T024555.789.jpg', 'OIP - 2020-07-21T024555.792.jpg', 'OIP - 2020-07-21T024555.791.jpg', 'OIP - 2020-07-21T024555.790.jpg', 'OIP - 2020-07-21T024556.069.jpg', 'OIP - 2020-07-21T024556.092.jpg', 'OIP - 2020-07-21T024556.093.jpg', 'OIP - 2020-07-21T024556.117.jpg', 'OIP - 2020-07-21T024556.106.jpg', 'OIP - 2020-07-21T024556.071.jpg', 'OIP - 2020-07-21T024556.094.jpg', 'OIP - 2020-07-21T024556.115.jpg', 'OIP - 2020-07-21T024556.183.jpg', 'OIP - 2020-07-21T024556.218.jpg', 'OIP - 2020-07-21T024556.186.jpg', 'OIP - 2020-07-21T024556.182.jpg', 'OIP - 2020-07-21T024556.185.jpg', 'OIP - 2020-07-21T024556.217.jpg', 'OIP - 2020-07-21T024556.235.jpg', 'OIP - 2020-07-21T024556.260.jpg', 'OIP - 2020-07-21T024556.261.jpg', 'OIP - 2020-07-21T024556.259.jpg', 'OIP - 2020-07-21T024556.402.jpg', 'OIP - 2020-07-21T024556.398.jpg', 'OIP - 2020-07-21T024556.258.jpg', 'OIP - 2020-07-21T024556.407.jpg', 'OIP - 2020-07-21T024556.406.jpg', 'OIP - 2020-07-21T024556.419.jpg', 'OIP - 2020-07-21T024556.421.jpg', 'OIP - 2020-07-21T024556.420.jpg', 'OIP - 2020-07-21T024556.450.jpg', 'OIP - 2020-07-21T024556.496.jpg', 'OIP - 2020-07-21T024556.426.jpg', 'OIP - 2020-07-21T024556.423.jpg', 'OIP - 2020-07-21T024556.478.jpg', 'OIP - 2020-07-21T024556.586.jpg', 'OIP - 2020-07-21T024556.424.jpg', 'OIP - 2020-07-21T024556.422.jpg', 'OIP - 2020-07-21T024556.588.jpg', 'OIP - 2020-07-21T024556.752.jpg', 'OIP - 2020-07-21T024556.753.jpg', 'OIP - 2020-07-21T024556.587.jpg', 'OIP - 2020-07-21T024556.760.jpg', 'OIP - 2020-07-21T024556.802.jpg', 'OIP - 2020-07-21T024556.788.jpg', 'OIP - 2020-07-21T024556.856.jpg', 'OIP - 2020-07-21T024556.757.jpg', 'OIP - 2020-07-21T024556.758.jpg', 'OIP - 2020-07-21T024556.789.jpg', 'OIP - 2020-07-21T024556.859.jpg', 'OIP - 2020-07-21T024556.873.jpg', 'OIP - 2020-07-21T024556.861.jpg', 'OIP - 2020-07-21T024556.886.jpg', 'OIP - 2020-07-21T024556.862.jpg', 'OIP - 2020-07-21T024556.860.jpg', 'OIP - 2020-07-21T024557.042.jpg', 'OIP - 2020-07-21T024556.888.jpg', 'OIP - 2020-07-21T024556.909.jpg', 'OIP - 2020-07-21T024557.044.jpg', 'OIP - 2020-07-21T024556.903.jpg', 'OIP - 2020-07-21T024556.904.jpg', 'OIP - 2020-07-21T024556.908.jpg', 'OIP - 2020-07-21T024556.887.jpg', 'OIP - 2020-07-21T024557.088.jpg', 'OIP - 2020-07-21T024557.045.jpg', 'OIP - 2020-07-21T024557.175.jpg', 'OIP - 2020-07-21T024557.177.jpg', 'OIP - 2020-07-21T024557.199.jpg', 'OIP - 2020-07-21T024557.197.jpg', 'OIP - 2020-07-21T024557.198.jpg', 'OIP - 2020-07-21T024557.195.jpg', 'OIP - 2020-07-21T024557.319.jpg', 'OIP - 2020-07-21T024557.200.jpg', 'OIP - 2020-07-21T024557.323.jpg', 'OIP - 2020-07-21T024557.201.jpg', 'OIP - 2020-07-21T024557.324.jpg', 'OIP - 2020-07-21T024557.329.jpg', 'OIP - 2020-07-21T024557.327.jpg', 'OIP - 2020-07-21T024557.335.jpg', 'OIP - 2020-07-21T024557.421.jpg', 'OIP - 2020-07-21T024557.336.jpg', 'OIP - 2020-07-21T024557.422.jpg', 'OIP - 2020-07-21T024557.343.jpg', 'OIP - 2020-07-21T024557.345.jpg', 'OIP - 2020-07-21T024557.423.jpg', 'OIP - 2020-07-21T024557.424.jpg', 'OIP - 2020-07-21T024557.455.jpg', 'OIP - 2020-07-21T024557.456.jpg', 'OIP - 2020-07-21T024557.425.jpg', 'OIP - 2020-07-21T024557.557.jpg', 'OIP - 2020-07-21T024557.544.jpg', 'OIP - 2020-07-21T024557.561.jpg', 'OIP - 2020-07-21T024557.562.jpg', 'OIP - 2020-07-21T024557.560.jpg', 'OIP - 2020-07-21T024557.537.jpg', 'OIP - 2020-07-21T024557.564.jpg', 'OIP - 2020-07-21T024557.649.jpg', 'OIP - 2020-07-21T024557.648.jpg', 'OIP - 2020-07-21T024557.647.jpg', 'OIP - 2020-07-21T024557.563.jpg', 'OIP - 2020-07-21T024557.645.jpg', 'OIP - 2020-07-21T024557.644.jpg', 'OIP - 2020-07-21T024557.759.jpg', 'OIP - 2020-07-21T024557.767.jpg', 'OIP - 2020-07-21T024557.895.jpg', 'OIP - 2020-07-21T024557.751.jpg', 'OIP - 2020-07-21T024557.686.jpg', 'OIP - 2020-07-21T024557.753.jpg', 'OIP - 2020-07-21T024557.764.jpg', 'OIP - 2020-07-21T024557.687.jpg', 'OIP - 2020-07-21T024557.752.jpg', 'OIP - 2020-07-21T024557.683.jpg', 'OIP - 2020-07-21T024557.748.jpg', 'OIP - 2020-07-21T024557.765.jpg', 'OIP - 2020-07-21T024557.685.jpg', 'OIP - 2020-07-21T024557.766.jpg', 'OIP - 2020-07-21T024557.680.jpg', 'OIP - 2020-07-21T024557.713.jpg', 'OIP - 2020-07-21T024557.717.jpg', 'OIP - 2020-07-21T024557.702.jpg', 'OIP - 2020-07-21T024911.469.jpg', 'OIP - 2020-07-21T024911.477.jpg', 'OIP - 2020-07-21T024911.238.jpg', 'OIP - 2020-07-21T024911.472.jpg', 'OIP - 2020-07-21T024911.308.jpg', 'OIP - 2020-07-21T024911.496.jpg', 'OIP - 2020-07-21T024911.467.jpg', 'OIP - 2020-07-21T024911.463.jpg', 'OIP - 2020-07-21T024911.441.jpg', 'OIP - 2020-07-21T024911.442.jpg', 'OIP - 2020-07-21T024911.440.jpg', 'OIP - 2020-07-21T024911.473.jpg', 'OIP - 2020-07-21T024911.464.jpg', 'OIP - 2020-07-21T024911.500.jpg', 'OIP - 2020-07-21T024911.497.jpg', 'OIP - 2020-07-21T024911.462.jpg', 'OIP - 2020-07-21T024911.324.jpg', 'OIP - 2020-07-21T024911.278.jpg', 'be028d3832db35f8f2534ad6dedcee5c.jpg', '1d3aa6bc1859a48617dc29e0a086f590.jpg', 'e3b8731f40088f4258343e42a9d1e297.jpg', '6ffcc455dfecca7d715d7f01f143d44c.jpg', '8dbbcda790a644a09888c809b74a9bae.jpg', 'saved_resource(2)_copter.jpg', 'saved_resource(3)_copter.jpg', 'saved_resource.jpg_copter.jpg', 'saved_resource(1)_copter.jpg', 'saved_resource(5)_copter.jpg', 'saved_resource(11)_copter.jpg', 'saved_resource(10)_copter.jpg', 'saved_resource(21)_copter.jpg', 'saved_resource(31)_copter.jpg', 'saved_resource(29)_copter.jpg', 'saved_resource(39)_copter.jpg', 'saved_resource(56)_copter.jpg', 'saved_resource(57)_copter.jpg', 'saved_resource(67)_copter.jpg', 'saved_resource(69)_copter.jpg', 'saved_resource(71)_copter.jpg', 'saved_resource(73)_copter.jpg', 'saved_resource(74)_copter.jpg', 'saved_resource(77)_copter.jpg', 'saved_resource(79)_copter.jpg', 'saved_resource(78)_copter.jpg', 'saved_resource(76)_copter.jpg', 'saved_resource(87)_copter.jpg', 'saved_resource(88)_copter.jpg', 'saved_resource(94)_copter.jpg', 'saved_resource(104)_copter.jpg', 'saved_resource(107)_copter.jpg', 'saved_resource(108)_copter.jpg', 'saved_resource(118)_copter.jpg', 'saved_resource(130)_copter.jpg', 'saved_resource(134)_copter.jpg', 'saved_resource(143)_copter.jpg', 'saved_resource(141)_copter.jpg', 'saved_resource(144)_copter.jpg', 'saved_resource(145)_copter.jpg', 'saved_resource(148)_copter.jpg', 'saved_resource(149)_copter.jpg', 'saved_resource(156)_copter.jpg', 'saved_resource(157)_copter.jpg', 'saved_resource(161)_copter.jpg', 'saved_resource(162)_copter.jpg', 'saved_resource(160)_copter.jpg', 'saved_resource(167)_copter.jpg', 'saved_resource(169)_copter.jpg', 'saved_resource(171)_copter.jpg', 'saved_resource(186)_copter.jpg', 'saved_resource(193)_copter.jpg', 'saved_resource(195)_copter.jpg', 'saved_resource(203)_copter.jpg', 'saved_resource(206)_copter.jpg', 'saved_resource(209)_copter.jpg', 'saved_resource(214)_copter.jpg', 'saved_resource(219)_copter.jpg', 'saved_resource(226)_copter.jpg', 'saved_resource(235)_copter.jpg', 'saved_resource(236)_copter.jpg', 'saved_resource(240)_copter.jpg', 'saved_resource(242)_copter.jpg', 'saved_resource(251)_copter.jpg', 'saved_resource(247)_copter.jpg', 'saved_resource(262)_copter.jpg', 'saved_resource(263)_copter.jpg', 'saved_resource(290)_copter.jpg', 'saved_resource(299)_copter.jpg', 'saved_resource(297)_copter.jpg', 'saved_resource(316)_copter.jpg', 'saved_resource(314)_copter.jpg', 'saved_resource(317)_copter.jpg', 'saved_resource(327)_copter.jpg', 'saved_resource(326)_copter.jpg', 'saved_resource(329)_copter.jpg', 'saved_resource(332)_copter.jpg', 'saved_resource(338)_copter.jpg', 'saved_resource(336)_copter.jpg', 'saved_resource(346)_copter.jpg', 'saved_resource(347)_copter.jpg', 'saved_resource(356)_copter.jpg', 'saved_resource(367)_copter.jpg', 'saved_resource(369)_copter.jpg', 'saved_resource(371)_copter.jpg', 'saved_resource(370)_copter.jpg', 'saved_resource(373)_copter.jpg', 'saved_resource(394)_copter.jpg', 'saved_resource(393)_copter.jpg', 'saved_resource(404)_copter.jpg', 'saved_resource(405)_copter.jpg', 'saved_resource(415)_copter.jpg', 'saved_resource(425)_copter.jpg', 'saved_resource(431)_copter.jpg', 'saved_resource(435)_copter.jpg', 'saved_resource(433)_copter.jpg', 'saved_resource(436)_copter.jpg', 'saved_resource(438)_copter.jpg', 'saved_resource(446)_copter.jpg', 'saved_resource(464)_copter.jpg', 'saved_resource(481)_copter.jpg', 'saved_resource(483)_copter.jpg', 'saved_resource(487)_copter.jpg', 'saved_resource(501)_copter.jpg', 'saved_resource(500)_copter.jpg', 'saved_resource(504)_copter.jpg', 'saved_resource(507)_copter.jpg', 'saved_resource(513)_copter.jpg', 'saved_resource(521)_copter.jpg', 'saved_resource(526)_copter.jpg', 'saved_resource(524)_copter.jpg', 'saved_resource(538)_copter.jpg', 'saved_resource(562)_copter.jpg', 'saved_resource(578)_copter.jpg', 'saved_resource(558)_copter.jpg', 'saved_resource(582)_copter.jpg', 'saved_resource(660)_copter.jpg', 'saved_resource(592)_copter.jpg', 'saved_resource(652)_copter.jpg', 'saved_resource(585)_copter.jpg', 'saved_resource(595)_copter.jpg', 'saved_resource(591)_copter.jpg', 'saved_resource(593)_copter.jpg', 'saved_resource(690)_copter.jpg', 'saved_resource(749)_copter.jpg', 'saved_resource(838)_copter.jpg', 'saved_resource(839)_copter.jpg', 'saved_resource(843)_copter.jpg', 'saved_resource(840)_copter.jpg', 'saved_resource(841)_copter.jpg', 'saved_resource(849)_copter.jpg', 'drone-is-flown-for-recreational-purposes-in-the-sky-above-ne.jpg', '960x0.jpg', 'images(34)_copter.jpg', 'images(29)_copter.jpg', 'images(8)_copter.jpg', 'images(6)_copter.jpg', 'images(20)_copter.jpg', 'images(55)_copter.jpg', 'images(32)_copter.jpg', 'images(59)_copter.jpg', 'images(22)_copter.jpg', 'images(24)_copter.jpg', 'images(49)_copter.jpg', 'images(26)_copter.jpg', 'images(19)_copter.jpg', 'images(27)_copter.jpg', 'images(28)_copter.jpg', 'images(35)_copter.jpg', 'images(39)_copter.jpg', 'images(23)_copter.jpg', 'images(57)_copter.jpg', 'images(52)_copter.jpg', 'images(30)_copter.jpg', 'images(4)_copter.jpg', 'images(61)_copter.jpg', 'images(2)_copter.jpg', 'images(50)_copter.jpg', 'images(18)_copter.jpg', 'images(31)_copter.jpg', 'images(13)_copter.jpg', 'images(11)_copter.jpg', 'images(1)_copter.jpg', 'images(47)_copter.jpg', 'images(53)_copter.jpg', 'images(60)_copter.jpg', 'images(16)_copter.jpg', 'images(3)_copter.jpg', 'images(58)_copter.jpg', 'images(25)_copter.jpg', 'images(42)_copter.jpg', 'images(17)_copter.jpg', 'images(37)_copter.jpg', 'images(38)_copter.jpg', 'images(5)_copter.jpg', 'images(46)_copter.jpg', 'images(15)_copter.jpg', 'images(44)_copter.jpg', 'images(10)_copter.jpg', 'images(45)_copter.jpg', 'images(14)_copter.jpg', 'images_copter.jpg', 'images(43)_copter.jpg', 'images(36)_copter.jpg', 'images(7)_copter.jpg', 'images(9)_copter.jpg', 'images(33)_copter.jpg', 'images(56)_copter.jpg', 'images(40)_copter.jpg', 'images(65)_copter.jpg', 'images(91)_copter.jpg', 'images(116)_copter.jpg', 'images(98)_copter.jpg', 'images(74)_copter.jpg', 'images(68)_copter.jpg', 'images(113)_copter.jpg', 'images(103)_copter.jpg', 'images(118)_copter.jpg', 'images(101)_copter.jpg', 'images(95)_copter.jpg', 'images(77)_copter.jpg', 'images(69)_copter.jpg', 'images(110)_copter.jpg', 'images(72)_copter.jpg', 'images(80)_copter.jpg', 'images(114)_copter.jpg', 'images(123)_copter.jpg', 'images(121)_copter.jpg', 'images(79)_copter.jpg', 'images(133)_copter.jpg', 'images(124)_copter.jpg', 'images(85)_copter.jpg', 'images(97)_copter.jpg', 'images(119)_copter.jpg', 'images(130)_copter.jpg', 'images(102)_copter.jpg', 'images(90)_copter.jpg', 'images(86)_copter.jpg', 'images(83)_copter.jpg', 'images(88)_copter.jpg', 'images(126)_copter.jpg', 'images(82)_copter.jpg', 'images(108)_copter.jpg', 'images(64)_copter.jpg', 'images(70)_copter.jpg', 'images(89)_copter.jpg', 'images(78)_copter.jpg', 'images(84)_copter.jpg', 'images(131)_copter.jpg', 'images(104)_copter.jpg', 'images(67)_copter.jpg', 'images(134)_copter.jpg', 'images(96)_copter.jpg', 'images(129)_copter.jpg', 'images(92)_copter.jpg', 'images(87)_copter.jpg', 'images(136)_copter.jpg', 'images(127)_copter.jpg', 'images(62)_copter.jpg', 'images(73)_copter.jpg', 'images(122)_copter.jpg', 'images(109)_copter.jpg', 'images(112)_copter.jpg', 'images(128)_copter.jpg', 'images(66)_copter.jpg', 'images(76)_copter.jpg', 'images(125)_copter.jpg', 'images(99)_copter.jpg', 'images(111)_copter.jpg', 'images(132)_copter.jpg', 'images(71)_copter.jpg', 'images(100)_copter.jpg', 'images(106)_copter.jpg', 'images(94)_copter.jpg', 'images(157)_copter.jpg', 'images(189)_copter.jpg', 'images(151)_copter.jpg', 'images(191)_copter.jpg', 'images(212)_copter.jpg', 'images(156)_copter.jpg', 'images(219)_copter.jpg', 'images(201)_copter.jpg', 'images(148)_copter.jpg', 'images(200)_copter.jpg', 'images(143)_copter.jpg', 'images(194)_copter.jpg', 'images(176)_copter.jpg', 'images(206)_copter.jpg', 'images(178)_copter.jpg', 'images(195)_copter.jpg', 'images(159)_copter.jpg', 'images(213)_copter.jpg', 'images(171)_copter.jpg', 'images(142)_copter.jpg', 'images(152)_copter.jpg', 'images(173)_copter.jpg', 'images(202)_copter.jpg', 'images(214)_copter.jpg', 'images(140)_copter.jpg', 'images(172)_copter.jpg', 'images(207)_copter.jpg', 'images(166)_copter.jpg', 'images(158)_copter.jpg', 'images(174)_copter.jpg', 'images(141)_copter.jpg', 'images(167)_copter.jpg', 'images(160)_copter.jpg', 'images(216)_copter.jpg', 'images(185)_copter.jpg', 'images(190)_copter.jpg', 'images(155)_copter.jpg', 'images(162)_copter.jpg', 'images(208)_copter.jpg', 'images(182)_copter.jpg', 'images(146)_copter.jpg', 'images(139)_copter.jpg', 'images(196)_copter.jpg', 'images(204)_copter.jpg', 'images(137)_copter.jpg', 'images(187)_copter.jpg', 'images(149)_copter.jpg', 'images(203)_copter.jpg', 'images(218)_copter.jpg', 'images(199)_copter.jpg', 'images(150)_copter.jpg', 'images(197)_copter.jpg', 'images(205)_copter.jpg', 'images(154)_copter.jpg', 'images(198)_copter.jpg', 'images(144)_copter.jpg', 'images(217)_copter.jpg', 'images(169)_copter.jpg', 'images(215)_copter.jpg', 'images(225)_copter.jpg', 'images(224)_copter.jpg', 'images(280)_copter.jpg', 'images(255)_copter.jpg', 'images(269)_copter.jpg', 'images(264)_copter.jpg', 'images(246)_copter.jpg', 'images(270)_copter.jpg', 'images(230)_copter.jpg', 'images(257)_copter.jpg', 'images(249)_copter.jpg', 'images(260)_copter.jpg', 'images(229)_copter.jpg', 'images(250)_copter.jpg', 'images(283)_copter.jpg', 'images(267)_copter.jpg', 'images(236)_copter.jpg', 'images(221)_copter.jpg', 'images(256)_copter.jpg', 'images(271)_copter.jpg', 'images(275)_copter.jpg', 'images(299)_copter.jpg', 'images(265)_copter.jpg', 'images(235)_copter.jpg', 'images(254)_copter.jpg', 'images(290)_copter.jpg', 'images(300)_copter.jpg', 'images(262)_copter.jpg', 'images(261)_copter.jpg', 'images(276)_copter.jpg', 'images(227)_copter.jpg', 'images(279)_copter.jpg', 'images(231)_copter.jpg', 'images(301)_copter.jpg', 'images(239)_copter.jpg', 'images(294)_copter.jpg', 'images(234)_copter.jpg', 'images(253)_copter.jpg', 'images(244)_copter.jpg', 'images(291)_copter.jpg', 'images(278)_copter.jpg', 'images(295)_copter.jpg', 'images(259)_copter.jpg', 'images(285)_copter.jpg', 'images(293)_copter.jpg', 'images(238)_copter.jpg', 'images(226)_copter.jpg', 'images(286)_copter.jpg', 'images(266)_copter.jpg', 'images(241)_copter.jpg', 'images(233)_copter.jpg', 'images(232)_copter.jpg', 'images(268)_copter.jpg', 'images(277)_copter.jpg', 'images(258)_copter.jpg', 'images(243)_copter.jpg', 'images(252)_copter.jpg', 'images(237)_copter.jpg', 'images(302)_copter.jpg', 'images(251)_copter.jpg', 'images(223)_copter.jpg', 'images(281)_copter.jpg', 'images(306)_copter.jpg', 'images(340)_copter.jpg', 'images(373)_copter.jpg', 'images(314)_copter.jpg', 'images(351)_copter.jpg', 'images(363)_copter.jpg', 'images(338)_copter.jpg', 'images(350)_copter.jpg', 'images(309)_copter.jpg', 'images(370)_copter.jpg', 'images(320)_copter.jpg', 'images(366)_copter.jpg', 'images(360)_copter.jpg', 'images(303)_copter.jpg', 'images(365)_copter.jpg', 'images(362)_copter.jpg', 'images(328)_copter.jpg', 'images(337)_copter.jpg', 'images(369)_copter.jpg', 'images(345)_copter.jpg', 'images(319)_copter.jpg', 'images(327)_copter.jpg', 'images(317)_copter.jpg', 'images(356)_copter.jpg', 'images(357)_copter.jpg', 'images(374)_copter.jpg', 'images(361)_copter.jpg', 'images(305)_copter.jpg', 'images(307)_copter.jpg', 'images(358)_copter.jpg', 'images(364)_copter.jpg', 'images(329)_copter.jpg', 'images(322)_copter.jpg', 'images(311)_copter.jpg', 'images(359)_copter.jpg', 'images(355)_copter.jpg', 'images(304)_copter.jpg', 'images(368)_copter.jpg', 'images(330)_copter.jpg', 'images(331)_copter.jpg', 'images(342)_copter.jpg', 'images(341)_copter.jpg', 'images(371)_copter.jpg', 'images(315)_copter.jpg', 'images(354)_copter.jpg', 'images(313)_copter.jpg', 'images(376)_copter.jpg', 'images(352)_copter.jpg', 'images(325)_copter.jpg', 'images(343)_copter.jpg', 'images(332)_copter.jpg', 'images(326)_copter.jpg', 'images(333)_copter.jpg', 'images(344)_copter.jpg', 'images(12)_copter.jpg', 'images(54)_copter.jpg', 'images(117)_copter.jpg', 'images(93)_copter.jpg', 'images(164)_copter.jpg', 'images(120)_copter.jpg', 'images(81)_copter.jpg', 'images(105)_copter.jpg', 'images(75)_copter.jpg', 'images(135)_copter.jpg', 'images(145)_copter.jpg', 'images(163)_copter.jpg', 'images(245)_copter.jpg', 'images(193)_copter.jpg', 'images(220)_copter.jpg', 'images(192)_copter.jpg', 'images(177)_copter.jpg', 'images(247)_copter.jpg', 'images(188)_copter.jpg', 'images(168)_copter.jpg', 'images(186)_copter.jpg', 'images(181)_copter.jpg', 'images(242)_copter.jpg', 'images(180)_copter.jpg', 'images(248)_copter.jpg', 'images(211)_copter.jpg', 'images(170)_copter.jpg', 'images(183)_copter.jpg', 'images(222)_copter.jpg', 'images(209)_copter.jpg', 'images(287)_copter.jpg', 'images(298)_copter.jpg', 'images(272)_copter.jpg', 'images(321)_copter.jpg', 'images(310)_copter.jpg', 'images(263)_copter.jpg', 'images(288)_copter.jpg', 'images(335)_copter.jpg', 'images(316)_copter.jpg', 'images(324)_copter.jpg', 'images(284)_copter.jpg', 'images(336)_copter.jpg', 'images(312)_copter.jpg', 'images(318)_copter.jpg', 'images(267) 2_copter.jpg', 'images(378)_copter.jpg', 'images(396)_copter.jpg', 'images(419)_copter.jpg', 'images(408)_copter.jpg', 'images(413)_copter.jpg', 'images(422)_copter.jpg', 'images(405)_copter.jpg', 'images(380)_copter.jpg', 'images(412)_copter.jpg', 'images(410)_copter.jpg', 'images(392)_copter.jpg', 'images(349)_copter.jpg', 'images(421)_copter.jpg', 'images(347)_copter.jpg', 'images(367)_copter.jpg', 'images(418)_copter.jpg', 'images(416)_copter.jpg', 'images(389)_copter.jpg', 'images(377)_copter.jpg', 'images(402)_copter.jpg', 'images(424)_copter.jpg', 'images(401)_copter.jpg', 'images(382)_copter.jpg', 'images(379)_copter.jpg', 'images(384)_copter.jpg', 'images(390)_copter.jpg', 'images(414)_copter.jpg', 'images(425)_copter.jpg', 'images(407)_copter.jpg', 'images(399)_copter.jpg', 'images(395)_copter.jpg', 'images(386)_copter.jpg', 'images(372)_copter.jpg', 'images(417)_copter.jpg', 'images(403)_copter.jpg', 'images(391)_copter.jpg', 'images(385)_copter.jpg', 'images(400)_copter.jpg', 'images(404)_copter.jpg', 'images(381)_copter.jpg', 'images(346)_copter.jpg', 'images(375)_copter.jpg', 'images(426)_copter.jpg', 'images(415)_copter.jpg', 'images(423)_copter.jpg', 'images(499)_copter.jpg', 'images(455)_copter.jpg', 'images(501)_copter.jpg', 'images(467)_copter.jpg', 'images(452)_copter.jpg', 'images(478)_copter.jpg', 'images(485)_copter.jpg', 'images(503)_copter.jpg', 'images(441)_copter.jpg', 'images(491)_copter.jpg', 'images(430)_copter.jpg', 'images(492)_copter.jpg', 'images(507)_copter.jpg', 'images(481)_copter.jpg', 'images(497)_copter.jpg', 'images(476)_copter.jpg', 'images(475)_copter.jpg', 'images(506)_copter.jpg', 'images(449)_copter.jpg', 'images(428)_copter.jpg', 'images(460)_copter.jpg', 'images(454)_copter.jpg', 'images(504)_copter.jpg', 'images(489)_copter.jpg', '186a2f30361a1bd9f60176ed67868cb8.jpg', 'camera-drone-flying-1336185.jpg', '222GrGP9VsgczVEDy9Jnge-1200-80.jpg', '10885104-3x4-xlarge.jpg', '220px-Autumn_Drone_-cropped-.jpg', '530169-autel-robotics-evo.jpg', 'drone (1).jpg', 'dominos-pizza-delivery-drone-by-flirtey-airborne.jpg', 'file-20170425-13411-1u4p9dz.jpg', 'image-20161219-24303-n6pu7v.jpg', '10663976-3x4-xlarge.jpg', '8075668-3x4-large.jpg', 'Drone.jpg', '8dd2d0ea-fa53-492e-8782-d3bfe27673de.jpg', '6-Amazing-Ways-Machine-Learning-Can-Transform-Farming-Image.jpg', '1200px-Quadcopter_camera_drone_in_flight.jpg', 'img.jpg', 'dreamstime_l_100755092-696x489.jpg', '1772ab7991e9decfa4e625ca3eefd352.jpg', '6b98a6edd8fbc410a5296f9ed663d929.jpg', '13ae10376c7f78633bf88ce570d13108.jpg', 'e69f09fd6a36027fd7dd99495541193a.jpg', 'f3078465310603bcc708be5f2175aff5.jpg', '2fb2a3b011f9263e23f40181ca916b42.jpg', '4d674dd5d246a0d7fa27019ef89bbf10.jpg', '6f18700e695b1e2276e824421fac96f3.jpg', '010c4a5d09f5f68b1896bb2c3d4df3c4.jpg', '1ee9796509c20dcd8e56aa849b1a8735.jpg', 'd425bf92d27268135bb03457c4bbdba2 (1).jpg', 'd425bf92d27268135bb03457c4bbdba2.jpg', '9ead50a49bf2a7c21e1e426cb4de8b09.jpg', '30bd33e9c307ed9e66d1b55d5ee7a742.jpg', 'ef7bafbe4d77ee2e8aa52a1a4d718d72.jpg', 'b74599e268c67a8871d8256587499c59.jpg', 'b1f847fede9f413f7eceb57b0e22e91a.jpg', 'd2d9dc8bca945958bb4f741385097359.jpg', 'ed9a44126cb51116518e3cfb5a4e2f26.jpg', 'ec64bf49623abd35af5263a75cbccef8.jpg', '0a68b66d69c0014a80d012888eb88206.jpg', '3f3da822fca6dc31dd580b3347fed150.jpg', '9de97c3c9d55db428d098f65a4c694f3.jpg', '81ab1c8ad8e26ec78331196a8314c964.jpg', 'b2d7192d5680997fa933d26354381535.jpg', '74ba8f79ec5425712e0165a8543bfc1e.jpg', 'fb398c25495c74d30bba013924fca244.jpg', '2d78fa0aa20dd10c02e185788a8d121d.jpg', 'c1ed86f6a20564b64dc58b897de2b75d.jpg', '5494abe4a25eeedfa61cdc7052fadb92.jpg', 'd4a2d81bbbb51819953b05bd10825435.jpg', 'd437031279a407e2098777c3a44aa072 (1).jpg', 'd437031279a407e2098777c3a44aa072.jpg', '2076c1378c7434898fbdf27c3e3e38b2.jpg', '150a86ab699e341d22c13dbae24a1a29.jpg', '38c61955b9dcceaaebbad25dda6c90ef.jpg', '160e3be3dbf816c97d3e0cc18654b621.jpg', '983bdca48f0e927ea3e27b43d2da7a29.jpg', '816a9e46e631b97bf9b65ebe255d6a05.jpg', '00775ad05499272c5437933ef5e2fa73.jpg', '282c65f5c4a777ce48e892fcd3033a7f.jpg', '924660d1c0a6ee2d73fb63e51e92143a.jpg', 'c1043bf2e6398677aec474bbc2a25dfa.jpg', '9b5563d19fae2688305716cdefa4fe04.jpg', 'f4384b3b670a313c9f3f4660a6a124d9.jpg', '67824e96c9c7bdcd5774e395f6a4c1e9.jpg', '8c55767b3457385ac9a7f893b7130bae.jpg', '0d16459fa336278558d4dd009b773e60.jpg', 'bb45cd6fc39c7fbb5b8da23641a4046b.jpg', 'b240620bd307f2c8e9b67b4c60424ecf.jpg', '3d1e33d4b398f1afba03a9378289bab9.jpg', '977e8bd32d2152aa7fb7b866951458bf.jpg', 'e5b0cb21cdcd5f5c1e1505c477c854a3.jpg', 'b679b0fd38a2fde22db45421c47d8366.jpg', '535f68ce9fcc2a40609b574b4140a1d9.jpg', 'c16150e550ea6892212f8954012216c2.jpg', '3aaa68fc981bc7ee1fe27f8c445690e7.jpg', 'bf82cec02c4af4cef5e0bf7c9f97e11b.jpg', '63bbd08a259842694487dddd30fc354c.jpg', '0f8d76f87903cfcd1f113e04288c75a0.jpg', '0d7c010a9a4e4cd3c6f321f229212682.jpg', '652f43d763d584dfe8311827bc99b8ac.jpg', 'e062001898b8d9cd0b2a9ec63a209191.jpg', '7d8402bcc96c81776e0b0c1ebb5fa04c.jpg', 'daccba8eb0c1fdfee003947970edb0ab (1).jpg', 'daccba8eb0c1fdfee003947970edb0ab.jpg', 'c6989cbbe471d5647514af4208d72314.jpg', 'c75b400d36492fe9282e39f0600a08b9.jpg', 'f906eb4ffcc2779f808745f1fbcd012d.jpg', '5acb2a9e08d073595d507d416ea6f0df.jpg', '9f30800d4ebec7281e47739ba69e0f12.jpg', 'cb0afc4a081f90d6dce854559c00da86.jpg', '922a161f9538b4e91b0177ebac7f1ece.jpg', 'da3a5abb78ac00de357e38a9ac8df942 (1).jpg', 'da3a5abb78ac00de357e38a9ac8df942.jpg', '2d3ed4c5b232955ebfd8e5e720612712.jpg', 'd8cf32783c9c0484b9f4aa530055b5b6.jpg', 'aca5c86611d752082e35a928dc772756.jpg', '8f7ba1be42fa90099c0a8f9951cd4952.jpg', '7ed22e0531af703547943d91a5f9c079.jpg', '60c9b01def53f94a30fcf93476c731bb.jpg', '9ace56951634c15469a24190e6fbfed1.jpg', '452c2d786b11531c23b8b350b788f085.jpg', '3fed131af450301bc38ef1683d0510e4.jpg', '9dd1ab197b4dcd5d9190bc06a2ce1cca.jpg', 'b8ae84daeaef031ddee9e6d5a643c922.jpg', '7a7598162bf86b185920d6964d227ecb.jpg', 'a4ab8a8a32f3184512047737757aee0e.jpg', 'ccaec76ee93b607a65c3b12bda0b2d8c.jpg', '2119bd70659b621d2af376c1bbc26b0a.jpg', '538e6f2868eaebe16aa6f707787de42b.jpg', '7ea92a36d270b5a52ea647fbf94fa25e.jpg', '7dfc44ec31309ed8a9ff3c7633cb8396.jpg', '8aa316caf6c9f8f551abb184715d19c8.jpg', '9e7c06191c61ae02bae5dd757b0b922b.jpg', '1fbf62d867e282a6236c7630dce5edab.jpg', '6974404ce7f7ced6ff3dace25fea36f5.jpg', '4bd58a7fa74b086d99627c41a15ea86f.jpg', 'f3ccda6ee74c0beaa2a0889d302c04e9.jpg', '8cc5498a24ec90cab9a13519cdb74b92.jpg', '5addc75a32915c0fd8cb07c55f993f14.jpg', '43f81979421bd221e00ab82483eba27b.jpg', '3145501438f4025fd4de3de00a8feadc.jpg', 'b88450efa01d7fe8dbc23933f89ea8c9.jpg', '7db2cc446e18cb03b5918293ad0cf042.jpg', 'd30ca86a548d8a97b03d99ed0f632a8e (1).jpg', 'd30ca86a548d8a97b03d99ed0f632a8e.jpg', '4db1aaedde63ffbefcc0524659542303.jpg', 'e6522d93637052cac37e2f75e3931a19.jpg', '191f49e5140ce0a6a18c378fea4289fa.jpg', 'ea4479b2effb3d7fda1d3fddcb7de0b9.jpg', '4f900cc7f66486945fac0de5334b7627.jpg', '46731a1ad3572c994f691cbbb4529d20.jpg', '2ba3b0d43aa5559d862bda3a7788b106.jpg', 'bd89df30269184785db9ec98c97399d9.jpg', 'd2a2195808cc57ba7941883b645fad68.jpg', '5bbfd49eadef7ffa4850ed25ab4464a5.jpg', '9d04e1254bac381bc4682a3d198683c8.jpg', '08d00d8fbb637ac3ec67bb2edfa4b089.jpg', '04ad315b50bebbf5ae1bcb5ec70b73f3.jpg', 'a418d1b17c7530b8848f690796b02463.jpg', 'a04d01fd3820c9af5ab711f6347c1d0d.jpg', '7db1c9eac4cbffdc40a0da29248d072d.jpg', 'e322b358d0aa99635b7982c9f73febb9.jpg', 'a3ef6b22c441667f5984d101368b2bdd.jpg', '6c6388a5f3aa80667d15972422139079.jpg', '0bbcc2c2f18ab6ad7f1023d99dd409d1.jpg', '641900f23c6efe701e3854213bfbfafd.jpg', '52fa808ce20e0046adc62f5757915ea7.jpg', 'ccopter-flying-farmyard-no-face-agricultural-new-technologies-innovations-concept-horizontal-view-copy-text-ccopter-123814887.jpg', 'ccopter-flying-farmyard-no-face-agricultural-new-technologies-innovations-concept-horizontal-view-copy-text-ccopter-123815050.jpg', 'ccopter-flying-farmyard-no-face-agricultural-new-technologies-innovations-concept-ccopter-flying-farmyard-no-face-123816116.jpg', 'ccopter-flying-farmyard-no-face-agricultural-new-technologies-innovations-concept-ccopter-flying-farmyard-no-face-123816232.jpg', 'uav-drone-copter-flying-high-resolution-digital-camera-close-up-137390552.jpg', 'uav-drone-copter-flying-high-resolution-digital-camera-close-up-137390636.jpg', 'drone-flying-air-over-summer-forest-one-small-116159835.jpg', 'quadrocopter-camera-flying-blue-sky-digital-drone-digital-unmanned-quadrocopter-115703787.jpg', 'child-playing-drone-outdoors-summer-day-kid-using-drone-controller-to-navigate-drone-106739022.jpg', 'drone-flying-against-blue-sky-one-104388075.jpg', 'flying-drone-blue-sky-background-137601330.jpg', 'flying-drone-blue-sky-background-137601302.jpg', 'flying-drone-blue-sky-background-137601232.jpg', 'flying-drone-blue-sky-background-137601373.jpg', 'flying-drone-blue-sky-background-137601383.jpg', 'flying-drone-blue-sky-background-137601313.jpg', 'flying-drone-blue-sky-background-137601374.jpg', 'flying-drone-blue-sky-background-137601315.jpg', 'flying-drone-blue-sky-background-137601346.jpg', 'flying-drone-blue-sky-background-137601297.jpg', 'flying-drone-blue-sky-background-137601438.jpg', 'flying-drone-blue-sky-background-137601358.jpg', 'flying-drone-blue-sky-background-137601308.jpg', 'flying-drone-blue-sky-background-137601379.jpg', 'flying-drone-blue-sky-background-137601359.jpg', 'flying-drone-blue-sky-background-137601349.jpg', 'flying-drone-blue-sky-background-137601329.jpg', 'flying-drone-blue-sky-background-137601269.jpg', 'flying-drone-blue-sky-background-flying-drone-blue-sky-background-137601279.jpg', 'modern-remote-control-air-drone-fly-high-sky-modern-remote-control-air-drone-fly-high-action-camera-blue-sky-pine-tree-107237952.jpg', 'close-up-quadrocopter-outdoors-drone-sky-close-up-quadrocopter-outdoors-99364679.jpg', 'quadrocopters-camera-flight-sky-81626540.jpg', 'white-quadrocopter-blue-sky-compact-drone-controlled-wireless-remote-86334330.jpg', 'kose-uuemoisa-estonia-july-drone-dji-mavic-pro-flyin-flying-under-poppy-field-95864380.jpg', 'quadrocopter-drone-camera-modern-rc-drone-copter-flying-against-green-blurred-background-95374560.jpg', 'editorial-photo-dji-phantom-drone-flight-mounted-gopro-hero-black-edition-st-louis-missouri-december-digital-camera-53176219.jpg', 'flying-white-quadrocopters-over-field-wheat-flying-gadget-video-flight-quadrocopters-white-against-blue-sky-101675526.jpg', 'flight-quadrocopters-white-against-blue-sky-clouds-russia-poltavskaya-village-may-flying-white-quadrocopters-dji-phantom-101675430.jpg', 'drone-quadrocopter-phantom-professional-st-petersburg-russia-may-high-resolution-digital-camera-designed-chinese-company-72709861.jpg', 'drone-k-camera-flying-close-up-68391381.jpg', 'abstract-conceptual-child-playing-drone-remote-sensi-sensing-happiness-modern-dangerous-toy-108336920.jpg', 'drone-air-flying-against-blue-sky-clouds-flight-94857403.jpg', 'drone-air-flying-against-blue-sky-clouds-flight-94857293.jpg', 'drone-air-flying-against-blue-sky-clouds-flight-94857284.jpg', 'drone-air-flying-against-blue-sky-clouds-flight-94857218.jpg', 'abstract-conceptual-child-playing-drone-remote-sensing-la-felicità-di-un-bambino-con-giocattolo-moderno-e-pericoloso-107771953.jpg', 'abstract-conceptual-child-playing-drone-remote-sensi-abstract-conceptual-child-playing-drone-remote-sensing-107402827.jpg', 'abstract-conceptual-child-playing-drone-remote-sensi-sensing-happiness-modern-dangerous-toy-107029632.jpg', 'abstract-conceptual-child-playing-drone-remote-sensi-abstract-conceptual-child-playing-drone-remote-sensing-105090442.jpg', 'abstract-conceptual-child-playing-drone-remote-sensi-sensing-la-felicità-di-un-bambino-con-giocattolo-moderno-e-105425999.jpg', 'man-holds-remote-controller-his-hands-copter-flying-background-drone-hovers-behind-pilot-suset-96312673.jpg', 'man-holds-remote-controller-his-hands-copter-flying-background-drone-hovers-behind-pilot-suset-96312436.jpg', 'man-holds-remote-controller-his-hands-copter-flying-background-drone-hovers-behind-pilot-suset-96140595.jpg', 'quadrocopter-hovering-blue-sky-white-drone-sunny-day-91327068.jpg', 'quadrocopter-compact-drone-cloudy-sky-white-controlled-wireless-remote-86334452.jpg', 'white-drone-quad-copter-k-digital-camera-flying-close-up-68256116.jpg', 'quadrocopter-cloudy-sky-compact-drone-white-controlled-wireless-remote-86334312.jpg', 'drone-k-camera-flying-close-up-68391380.jpg', 'drone-k-camera-flying-close-up-68391370.jpg', 'drone-k-camera-flying-close-up-68391171.jpg', 'drone-k-camera-flying-close-up-68391159.jpg', 'drone-k-camera-flying-close-up-68391166.jpg', 'drone-k-camera-flying-close-up-68391144.jpg', 'drone-k-camera-flying-close-up-68391131.jpg', 'drone-k-camera-flying-close-up-68391085.jpg', 'drone-k-camera-flying-close-up-68391101.jpg', 'drone-k-camera-flying-close-up-68391062.jpg', 'drone-k-camera-flying-close-up-68391066.jpg', 'drone-k-camera-flying-close-up-68391055.jpg', 'drone-k-camera-flying-close-up-68391070.jpg', 'drone-k-camera-flying-close-up-68391034.jpg', 'drone-k-camera-flying-close-up-68391018.jpg', 'drone-k-camera-flying-close-up-68391016.jpg', 'white-quadrocopter-blue-cloudy-sky-compact-drone-controlled-wireless-remote-86334614.jpg', 'drone-camera-bali-sea-indonesia-one-76692704.jpg', 'digital-unmanned-quadrocopter-camera-flying-blue-sky-drone-78203261.jpg', 'flying-white-quadrocopters-over-field-wheat-flying-gadget-video-flying-white-quadrocopters-over-field-wheat-101675426.jpg', 'drone-road-patrol-service-police-istra-russia-may-90728572.jpg', 'drone-quadrocopter-phantom-professional-st-petersburg-russia-may-high-resolution-digital-camera-designed-chinese-company-72712683.jpg', 'drone-quadrocopter-phantom-professional-st-petersburg-russia-may-high-resolution-digital-camera-designed-chinese-company-72710927.jpg', 'drone-quadrocopter-phantom-professional-st-petersburg-russia-may-high-resolution-digital-camera-designed-chinese-company-72710442.jpg', 'rone-quadrocopter-phantom-cloudy-sky-st-petersburg-russia-may-drone-professional-high-resolution-digital-camera-designed-72554799.jpg', 'drone-phantom-professional-top-view-st-petersburg-russia-may-quadrocopter-high-resolution-digital-camera-designed-72553718.jpg', 'drone-phantom-professional-fluing-blue-sky-st-petersburg-russia-may-quadrocopter-high-resolution-digital-camera-designed-72553185.jpg', 'drone-phantom-professional-fluing-sky-st-petersburg-russia-may-quadrocopter-high-resolution-digital-camera-designed-72553136.jpg', 'flying-drone-takes-photo-group-people-st-petersburg-russia-may-quadrocopter-phantom-professional-high-resolution-72552858.jpg', 'white-quadrocopter-sky-under-wireless-control-blue-drone-controlled-remote-72505231.jpg', 'white-quadrocopter-flying-blue-sky-closeup-photo-drone-controlled-wireless-remote-72505239.jpg', 'white-quadrocopter-blue-cloudy-sky-drone-controlled-wireless-remote-72506091.jpg', 'flying-white-quadrocopters-over-field-wheat-russia-poltavskaya-village-may-dji-phantom-gadget-video-75029073.jpg', 'white-drone-quadrocopter-photo-camera-flying-bright-sky-69072253.jpg', 'editorial-photo-dji-phantom-drone-flight-mounted-gopro-hero-black-edition-st-louis-missouri-december-digital-camera-53166324.jpg', 'white-quadrocopter-flying-blue-sky-spy-drone-controlled-wireless-remote-72505279 (1).jpg', 'quadrocopters-silhouette-against-background-sunset-flying-drones-evening-sky-100299327.jpg', 'north-shore-bonsai-pipeline-hawaii-sunset-drone-flying-radio-controlled-quad-copter-flys-as-sun-sets-64011990.jpg', 'drone-high-resolution-camera-flying-close-up-70458203.jpg', 'drone-high-resolution-camera-flying-close-up-70456733.jpg', 'editorial-photo-dji-phantom-drone-flight-mounted-gopro-hero-black-edition-st-louis-missouri-december-digital-camera-53176200.jpg', 'white-drone-equipped-high-resolution-k-video-camera-hovering-mid-air-65852091.jpg', 'white-drone-equipped-high-resolution-k-video-camera-hovering-mid-air-65993129.jpg', 'white-drone-equipped-high-resolution-k-video-camera-hovering-mid-air-65993075.jpg', 'white-drone-equipped-high-resolution-k-video-camera-hovering-mid-air-65993039.jpg', 'white-drone-equipped-high-resolution-k-video-camera-hovering-mid-air-64661434.jpg', 'white-drone-equipped-high-resolution-k-video-camera-hovering-mid-air-64661341.jpg', 'white-drone-equipped-high-resolution-k-video-camera-hovering-mid-air-64661305.jpg', 'white-drone-equipped-high-resolution-k-video-camera-hovering-mid-air-64661288.jpg', 'a4f9f206f39a312038e4350432c68832.jpg', '24c9cbb0f1c4b7b69a3d40353822aa9d.jpg', 'bd8128882d5e125bc0706bd1f84a826e.jpg', '87ed7a22c9f4088099d98d98b3ee4dce.jpg', '6eea78e8b6eb32864b425d10d0c1cf3d.jpg', 'f1ed516d2ae29abd7e589104ca009392.jpg', '1da63c8207b372798b021b475614b65c.jpg', '72f33f080abde57dfd9895eb06ce559d.jpg', '6e146239bc4d42f780e4d8d0d38ca730.jpg', 'c3334f05d25032a714281d6fe5caa79c.jpg', 'eb9dbc2571b461b38c88420e310b75ee.jpg', 'cbaeba993a2166e31fe523c10e03f2d1.jpg', '9fe5fcbc41e5d26e346b890486f22b7b.jpg', '6eb63be6ac9bb4ef380f50c3c9062cb0.jpg', 'f347d80f9d324aa36e352d08f62bef18.jpg', 'af07fc09500227d97bdad90bcd3af3df.jpg', '5655a787b0988e9ba58f7dbaf414b20c.jpg', 'c68f69de9f913c8a86b4f729bfe84da8.jpg', '87978f7a16af430d9b0e12f333d61451.jpg', 'ddc3fc92c6c0171f2c66caf5972482fd (1).jpg', 'ddc3fc92c6c0171f2c66caf5972482fd.jpg', '1f2c6a2671550941d048c6d5c0f6fd49.jpg', '27b5635a00e364cce27e6a0ffffeb21a.jpg', '9a34dc791b873da15d74edbb8430f8b0.jpg', '3af57cd71f538cbd0b796da74994f1e7.jpg', '54d1303df22033d4793ec5473dbfaadd.jpg', '4b599e64fb2026e5b4388cdb065afa0e.jpg', 'f7db2811b9d3e6d9e56ee18a17835ca9.jpg', '8c471c87c5488cb6e0b42bf2b3e36423.jpg', '3fe388a7dedac9871c06e1744c582a99.jpg', '346c14fc1f5244948518e0053666e3f9.jpg', '73edf784ca271ca5f78485033e04a2ec.jpg', 'fa353e5e16aeb5fdab1415f21e4df8c2.jpg', '8b6af29f96b4c86bf6f0971e32fadaae.jpg', '26b6f2c4b79d4e578b84dbc250a373ee.jpg', 'f8f2c0f67f1e019d9302c03ba9aeff54.jpg', 'ce07c434e973663a81bfc62f2bc00def.jpg', 'a7c2d6108ec27234ba7bb8c691a5fc02.jpg', 'f9b7307094ae469d48ce27aa055d3a68.jpg', '227f30e12adc7a2223151e74d1dd91f3.jpg', '6a185c5e108ee1b991c69840131b4991.jpg', '5b3cd8f159177c98a8c792cb804e2adc.jpg', 'f003b8b1fc2a27a3de1b7b809be350ba.jpg', '9c20bdbfa9dc3b23461f57c350912667.jpg', '1a589e11a0f7ea295b6b04c30709aff8.jpg', '68f1f561e896a6323d6b3428845aa522.jpg', '2f5f02ad1dc6fabd2805e740e3fa3559.jpg', '0f7d1cafe7df5c0a3cd2fe7ff947ec86.jpg', '5ccbbeae6d3462c5cac93ff356435f8e.jpg', 'efc579b9baa8362bea05cfd01697d64e.jpg', '4dff7d1b3116293fdefe241c77146dc3.jpg', '16f882c404191cbf1b4e2f1391039e25.jpg', '004ae2547b68090a425152477a4b6a8f.jpg', 'e9a8125cbaadfed3d6bec9bc5af307c0.jpg', '061dbeacb9271f9f0baa37ebd23c1693.jpg', 'c6ab6dd354e9c0255347b98b0790ce4b.jpg', '19b89c421604b9cee6c23c41e4f1c353.jpg', 'abe20e25085119882955315975cee3d4.jpg', '15fdc7cb825ff330dde037936a16ab78.jpg', '46bf48fb7876134a018ba9756949f397.jpg', '8de3d41c9f18e5dc771c920d544f56b8.jpg', '85436664a894dcccefda5db531ba3edd.jpg', 'df2c58d0b56a6f11791c3e5acd229a52 (1).jpg', 'df2c58d0b56a6f11791c3e5acd229a52.jpg', '7a0d4c43b46940a3f95bc6ff121f1b8b.jpg', '91efc452cd8d0f5d5399a0e94d5c712d.jpg', '6b6f59eda204c2cd7f62e24a562ca83e.jpg', 'ac02d5bdd7bcfc045b47e1009001fb5c.jpg', '34a596d110f686c298700303ad474023.jpg', '21d853137a51103404f6932142367898.jpg', 'a9b773135cb071980e5ac46e12747b4e.jpg', '98f7d468bcd8f1651ac7f6d59a8bb2d9.jpg', '6816ce44e1ffc715aa9e730a14e61e1b.jpg', '260f10c6e6c23dcdba637d2a3ddcd57c.jpg', '5f1c5a1b44d7e3a1c99c33501a74425a.jpg', '02ed9ae5439864cbd1c78b258edf7e8a.jpg', '00e82e80b4b62137ef682eb2d21d7f48.jpg', '3f0c3774a9527d16fd08fdcf2b4e5264.jpg', 'a798a7ddc59b7fbf412d7a8f449ea66b.jpg', '88cf7b90d38fb2ab27c6eca621182b2c.jpg', 'f40f1e663a952c83a07e84855b2929da.jpg', 'fe2e6d9be93247c5114b3f5527737606.jpg', '37a257a960c3829d786fb0532a1a8302.jpg', 'f3a8682d33dab70fef09272582fe4fd0.jpg', '14b5b118b6b03c9fab2e37a360c65b2b.jpg', '8b798a3202a1f8b7c808c158d2b57963.jpg', 'd1359506a9697cf3c1bc0c3c68b2d4f0.jpg', 'c8cd8a67abc3eb760d8a39064e9bbd79.jpg', '7a4200479286d46dd015339ec1f98fd4.jpg', '2436f2c31fcd57fe4721dd19b5720e58.jpg', '156a04f4db017ecfa4bf98f60d06ba9e.jpg', '94899c2077b984870369dcd43dc73503.jpg', '74113bbb32ae290eaa99050306b809c8.jpg', '1b648452997e6ad71e65f5650e3e1856.jpg', '6d0905ae9a3e181504d62920d9955819.jpg', '2078198550a605ece0b13b1ec5269d45.jpg', 'b1608a40606a357437533e4053748f20.jpg', 'd4d777b702ef19e2c23b64089b6b7472.jpg', 'UAV_cropped.jpg', '7-Phantom-Pro-Double-Sensor-2.jpg', 'unnamed.jpg', 'agras_mg-1.jpg', 'Agri-Tech_Drone-Lead.jpg', 'droneteal01.jpg', 'DroneHP_GettyImages-599365398.jpg', 'b4f606faacb951b3c8355fcff63939d0.jpg', 'b5bb995e83bb1712e59a7dd97edbef8d.jpg', 'f17000c8d2295febaf1b00f6a863665f.jpg', '29e328d62261c34acbab8f95e1d8809a.jpg', 'ff0523ace96330a78d937496c8d5c84c.jpg', '8ac201f4eafcaba87c766f6310bdb3f8.jpg', 'acd0a8beef3086ea4d331c270a7d782e.jpg', '4f8ad0e1f3814334556198e5c1b61eb3.jpg', 'd9fb60aaad89363702dfee7900b5a94f.jpg', '702b2504305f567fc2a1d245aad1e244.jpg', 'dji-drone-5.jpg', 'what-is-drone-technology-and-how-does-it-work.jpg', 'civilian-drone.jpg', 'posti_drone_testilento-1045_46606-1940x1293.jpg', 'Drone-with-camera-in-flight.jpg', 'Brian-Mullins-photography-drone-reference-4.jpg', 'image-for-drone-blog.jpg', '_C1_1044.jpg', '12518_1000x1000.jpg', 'drone-flying-G.jpg', 'DronesTeaser.jpg', 's960_s960_drone-960.jpg', 'yuneec.jpg', '308076_55ab_3.jpg', 'gleim_drones_drone.jpg', 'drone-delivery.jpg', 'drone-urban-area-ts.jpg', 'DJI-Phantom-4-Pro-drone-review-9.jpg', 'fiveawesomeu.jpg', 'DSC06891.jpg', 'drone-overview.jpg', '51111_drone_plus_black_a_2.jpg', 'Walkera-QR-X350-Quadcopter-Hovering.jpg', '1Drone_900x900_72dpi.jpg', 'o-DRONE-facebook.jpg', 'DJI-Phantom-3-drone-1188x792.jpg', '3dr-solo-drone-inflightfront-1500x1000.jpg', 'drone-2hynaxc.jpg', 'drone-674237_1280.jpg', 'drone-reuters-lg.jpg', 'drone-e1479484607690.jpg', 'video_drone_3259439k.jpg', 'police-drone.jpg', 'SAM_0095.jpg', 'PersonalDrones_header.jpg', 'shutterstock_681721870-1-825x465.jpg', 'drone_1521564438.jpg', 'drone-3198326_1920-1.jpg', 'skeye-mini-drone-with-hd-camera-16.jpg', 'flying-drone-above-clouds-1091337401-1068x601.jpg', 'IMG_4968-900x600.jpg', 'drones.jpg', 'GettyImages-485983748.jpg', 'Drone-2.jpg', 'rawImage.jpg', 'UploadsNewsArticle4946842main.jpg', '35476.jpg', 'drones-for-sale.jpg', 'foqh-fxhytwu5772740.jpg', '283e37bcc2d64d3f.jpg', 'sku_219612_11.jpg', 'HTB1VbkpGFXXXXcRXXXXq6xXFXXXt.jpg', '201507221404148977.jpg', 'IMG_1287-Version-2-640x320.jpg', 'SY%2BX25%2BCar%2Bmode.jpg', 'BLH8675_a5.jpg', 'xCam-5.jpg', 'img01-quadcopter-flying.jpg', 'depositphotos_171782468-stock-video-quadcopter-flying-in-the-blue.jpg', 'quadcopter-drone-k-video-camera-flying-air-creative-abstract-d-render-illustration-professional-remote-controlled-84582320.jpg', 'quadcopter-drone-k-video-camera-flying-air-creative-abstract-d-render-illustration-professional-remote-controlled-84158774.jpg', '1.jpg', 'faa-drones.jpg', '160504135202-dronescan-south-african-startup-super-169.jpg', '55a8fa45c36188ae1a8b45a7.jpg', 'Drone-Homemade-Homemade-drone-with-a-GoPro-on-the-gimble-736x500.jpg', '1454293832269.jpg', '451783798.jpg', 'dji-phantom-drone-flight-novi-sad-serbia-may-quadcopter-flying-k-video-camera-against-blue-sky-sunset-74513780.jpg', 'dji-phantom-3-standard-in-flight.jpg', 'DJI-Phantom-4-Pro-first-flight-DR-flying-back-corner-2.jpg', 'DJI-Phantom-4-Pro-first-flight-DR-flying-front-2.jpg', 'DJI-Phantom-4-Pro-first-flight-DR-flying-front.jpg', 'DJI-Phantom-4-Pro-first-flight-DR-flying-back.jpg', 'phantom_2_vision_release.jpg', 'DJI-Phantom-3-New-02.jpg', '21470840220_cd1e4e6457_b.jpg', 'DJI_Phantom_4_in_Flight_March_2016.jpg', 'dji-phantom-4.jpg', 'DJI-Phantom-3-New-01.jpg', 'DJI-Phantom-3-Standard.jpg', 'djiphantom4head2.jpg', 'dji_phantom_4_2.jpg', 'dji-phantom-4-810x455.jpg', 'DJI-Phantom-3-Professional-are-flying.jpg', 'DJI-Phantom-3-New-03.jpg', 'dji-phantom.jpg', 'DJI-Phantom-4-Pro-first-flight-DR-flying-back-corner-3-300x169.jpg', 'DJI-Phantom-4-Pro-first-flight-DR-flying-corner.jpg', 'dji-phantom-vision-2-plus-004.jpg', 'dji-phantom-3-4k-video-img4.jpg', 'e017ecbbef792a34edc6aab2782717b8.jpg', 'dji-phantom-3-4k-video-img6.jpg', '14121110551111.jpg', 'dji-phantom-3-4k-video-img3.jpg', 'T1_y1PXqFhXXXXXXXX_%21%210-item_pic.jpg', 'IMGP3724.jpg', 'Skytech_M68R_Max_Fly_Sky.jpg', 'flying-quadcopter.jpg', 'flying-drone-mounted-camera-quadcopter-sky-gopro-digital-video-photo-productions-42013196.jpg', 'quadcopter-drone-flying-blue-sky-niedernhausen-germany-december-th-dji-phantom-127243145.jpg', 'niedernhausen-germany-april-dji-phantom-standard-q-quadcopter-flying-blue-sky-low-angle-view-90318067.jpg', 'neidlingen-germany-february-front-view-dji-phantom-pro-quadcopter-drone-flying-blue-sky-white-dji-phantom-pro-quadcopter-141561898.jpg', 'quadcopter-drone-flying-blue-sky-niedernhausen-germany-juner-th-dji-phantom-cloudy-127243129.jpg', 'niedernhausen-germany-april-th-quadcopter-drone-dji-phantom-flying-blue-sky-quadcopter-drone-flying-blue-sky-127243120.jpg', 'niedernhausen-germany-april-9th-2017-quadcopter-drone-dji-phantom-flying-into-blue-sky-ppm4xt.jpg', 'niedernhausen-germany-february-dji-phantom-standa-standard-quadcopter-flying-front-wintry-vegetation-front-view-closeup-90219975.jpg', 'flying-dji-phantom-pro-drone-minsk-belarus-december-dji-phantom-pro-drone-fly-winter-gray-sky-low-heaght-105469344.jpg', 'X25-drone-RC-Quadcopter-2-in-1.jpg', 'tuhfJDEwLmFsaWNkbi5jb20vaTEvMjIwMDgxODYzNzM4Ny9PMUNOMDFwakZVSW4yNFJJSFBmY3RGa18hITIyMDA4MTg2MzczODckOQ.jpg', '96c8c910812b7c15413c42445dade4b1.jpg', '1200px-Quadcopter_camera_drone_in_flight (1).jpg', 'DJI-Mavic-Air.jpg', '71563656_2553195774738891_1441535228064563200_o.jpg', 'GGzHQ6yeTitTa3HKqtTsvF.jpg', 'drone-quad.jpg', 'Drones.jpg', 'EnieHensel_PhotoBy_Duncan_Brake_small.jpg', 'file-20180202-162066-1cj3sym.jpg', 'auckland-new-zealand-may-editorial-photo-dji-phantom-standar.jpg', 'dji-mavic-mini-drone-quadcopter-inflight-in-flight-hovering-.jpg', 'DJI-Mavic-Air-in-Air.jpg', '1dcb5f7d90e07325c831d61d85e1aba8.jpg', 'drone-insurance-basics-thumbnail.jpg', 'Stinger-X210-racer-frame-26.jpg', '1200px-Autumn_Drone_-cropped-.jpg', 'drone-regulations-what-you-need-to-know_87jp.jpg', 'Australian-drone-pilot-fined.jpg', '8472500-3x4-xlarge.jpg', '4X-UHJ_Agridrones_d.jpg', 'Drones-disinfect-Australia--800x311.jpg', 'grey-flying-drone-not-high-small-hight-making-low-shoots-some-place-159879312.jpg', 'grey-flying-drone-not-high-small-grey-drone-flying-not-hight-making-low-shoots-some-place-159879319.jpg', 'small-grey-drone-flying-not-hight-making-low-shoots-some-place-grey-flying-drone-not-high-159879318.jpg', 'small-grey-drone-flying-not-hight-making-low-shoots-some-place-grey-flying-drone-not-high-159879285.jpg', 'grey-flying-drone-not-high-small-hight-making-low-shoots-some-place-159879284.jpg', 'grey-flying-drone-not-high-small-grey-drone-flying-not-hight-making-low-shoots-some-place-159879734.jpg', 'small-grey-drone-flying-not-hight-making-low-shoots-some-place-grey-flying-drone-not-high-159879697.jpg', 'grey-flying-drone-not-high-small-grey-drone-flying-not-hight-making-low-shoots-some-place-159879556.jpg', 'small-grey-drone-flying-not-hight-making-low-shoots-some-place-grey-flying-drone-not-high-159879558.jpg', 'small-grey-drone-flying-not-hight-making-low-shoots-some-place-high-159879554.jpg', 'small-grey-drone-flying-not-hight-making-low-shoots-some-place-grey-flying-drone-not-high-159879549.jpg', 'small-grey-drone-flying-not-hight-making-low-shoots-some-place-grey-flying-drone-not-high-159879553.jpg', 'small-grey-drone-flying-not-hight-making-low-shoots-some-place-grey-flying-drone-not-high-159879322.jpg', 'grey-flying-drone-not-high-small-hight-making-low-shoots-some-place-159879337.jpg', 'grey-flying-drone-not-high-small-hight-making-low-shoots-some-place-159879323.jpg', 'small-grey-drone-flying-not-hight-making-low-shoots-some-place-grey-flying-drone-not-high-159879291.jpg', 'grey-flying-drone-not-high-small-grey-drone-flying-not-hight-making-low-shoots-some-place-159879290.jpg', 'grey-flying-drone-not-high-small-hight-making-low-shoots-some-place-159879282.jpg', 'small-grey-drone-flying-not-hight-making-low-shoots-some-place-grey-flying-drone-not-high-159879283.jpg', 'drone-flying-view-side-small-95655165.jpg', 'drone-quadrocopter-white-quadcopter-flight-small-camcorder-59788647.jpg', 'small-modern-drone-hovering-taking-picture-sunset-small-modern-drone-taking-picture-lake-sunset-112460156.jpg', 'russian-military-helicopter-mi-small-height-tyumen-russia-june-army-games-engineering-formula-contest-highest-military-137874836.jpg', 'drone-flight-coming-straight-you-small-flying-above-remote-grasslands-rural-area-134952499.jpg', 'drone-flying-view-bottom-small-trees-background-95655229.jpg', 'tyumen-russia-june-army-games-engineering-formula-contest-highest-military-engineering-school-ground-military-helicopter-mi-132371776.jpg', 'drone-quadrocopter-white-quadcopter-flight-small-camcorder-59787910.jpg', 'drone-quadrocopter-white-quadcopter-flight-small-camcorder-59783074.jpg', 'drone-quadrocopter-white-quadcopter-flight-small-camcorder-59782687.jpg', 'small-compact-drone-flying-against-blue-clear-sky-background-bright-sunny-day-127897095.jpg', 'man-remote-controller-operating-flying-drone-quad-copter-modern-small-aircraft-aerial-video-making-city-landscape-129364254.jpg', 'back-view-small-compact-drone-flying-against-sun-clear-sky-background-bright-sunny-day-127905500.jpg', 'back-view-small-compact-drone-flying-against-sun-clear-sky-background-bright-sunny-day-128288117.jpg', 'modern-rc-drone-quadcopter-camera-flying-mountain-vysoke-tatry-slovakia-small-dron-landing-trail-modern-rc-125085424.jpg', 'drone-hovered-over-water-quadcopter-view-above-small-smart-hovering-air-surface-circles-caused-flow-sensors-123879457.jpg', 'man-remote-controller-operating-flying-drone-quad-copter-modern-small-aircraft-aerial-video-making-man-remote-128027258.jpg', 'small-smart-drone-quadrocopter-flying-white-sky-green-trees-technology-photo-video-shooting-oe-future-124290246.jpg', 'dynjandi-waterfall-little-quadcopter-fliyng-around-westfjords-iceland-49559238.jpg', 'dynjandi-waterfall-little-quadcopter-fliyng-around-westfjords-iceland-49559216.jpg', 'drone-flying-outer-space-white-small-69326061.jpg', 'dynjandi-waterfall-little-quadcopter-fliyng-around-westfjords-iceland-49559203.jpg', 'small-modern-drone-hovering-taking-picture-sunset-small-modern-drone-taking-picture-lake-sunset-116634797.jpg', 'small-modern-drone-taking-picture-lake-sunset-small-modern-drone-hovering-taking-picture-sunset-112461457.jpg', 'small-modern-drone-taking-picture-lake-sunset-small-modern-drone-hovering-taking-picture-sunset-112461447.jpg', 'small-modern-drone-hovering-taking-picture-sunset-small-modern-drone-taking-picture-lake-sunset-112461414.jpg', 'small-modern-drone-taking-picture-lake-sunset-small-modern-drone-hovering-taking-picture-sunset-112461379.jpg', 'farmer-holds-remote-controller-his-hands-quadcopter-flying-background-drone-hovers-behind-copter-pilot-120713302.jpg', 'farmer-holds-remote-controller-his-hands-copter-flying-background-drone-hovers-behind-pilot-wheat-field-no-122419207.jpg', 'farmer-holds-remote-controller-his-hands-quadcopter-flying-background-drone-hovers-behind-copter-pilot-122419176.jpg', 'point-view-shot-man-holding-remote-controller-his-hands-taking-aerial-photo-video-quadcopter-flying-copter-96316701.jpg', 'small-modern-drone-hovering-against-blue-sky-grey-83603850.jpg', 'close-up-small-modern-drone-taking-photo-hovering-against-blue-sky-80416613.jpg', 'close-up-small-modern-drone-taking-photo-hovering-against-blue-sky-80416547.jpg', 'small-modern-drone-hovering-taking-picture-sunset-mountains-80416522.jpg', 'small-modern-drone-hovering-taking-picture-sunset-mountains-80416509.jpg', 'quadcopter-quadrotor-drone-green-background-unmanned-radio-controlled-aircraft-flying-foliage-76652520.jpg', 'white-drone-controlled-wireless-remote-quadcopter-blue-sky-compact-bottom-view-86334587.jpg', 'white-drone-hovering-bright-blue-sky-guatape-colombia-march-flying-radio-controlled-dji-phantom-quadcopter-taking-clear-59201447.jpg', 'dji-phantom-quadcopter-drone-flight-gopro-camera-photo-quadrocopter-hero-black-attached-to-gimbal-49972702.jpg', 'white-flying-dron-camera-blue-sky-background-quadrocopter-127100760.jpg', 'uav-drone-flying-blue-sky-183542252.jpg', 'drone-remote-controller-fly-sky-92996419.jpg', 'dji-mavic-pro-dorne-flight-phayao-thailand-february-standing-outdoor-first-foldable-drone-ever-made-92472642.jpg', 'dji-mavic-pro-dorne-flight-phayao-thailand-february-standing-outdoor-first-foldable-drone-ever-made-92472668.jpg', 'drone-flying-field-white-camera-concept-technology-171470319.jpg', 'camera-white-drone-hovering-bright-blue-sky-66768590.jpg', 'drone-flying-blue-sky-white-camera-concept-technology-171471658.jpg', 'investigation-crops-help-drone-agriculture-bright-sun-summer-day-flight-operated-low-altitude-flowering-field-123062457.jpg', 'drones-unmanned-vehicles-53821897.jpg', 'dji-mavic-pro-dorne-flight-phayao-thailand-february-standing-outdoor-first-foldable-drone-ever-made-92867367.jpg', 'white-drone-equipped-high-resolution-k-video-camera-hovering-mid-air-64661418.jpg', 'white-drone-hovering-bright-blue-sky-tech-166489950.jpg', 'drone-digital-camera-flying-sky-modern-technology-aerial-video-photography-172177241.jpg', 'flight-drone-sky-cloudy-sunny-copy-space-drone-sky-copy-space-123062455.jpg', 'drone-sky-copy-space-flight-drone-sky-cloudy-sunny-space-copying-123062452.jpg', 'drone-sky-copy-space-flight-cloudy-sunny-copying-123062446.jpg', 'drone-fly-room-near-ceiling-145221814.jpg', 'drone-flying-n-air-close-up-cloudy-sky-background-94078431.jpg', 'drone-flying-over-plowed-field-drone-flying-over-plowed-field-agriculture-127189596.jpg', 'drone-fly-sky-blue-88524748.jpg', 'white-drone-flys-air-inside-resident-playing-motion-blur-throtles-copter-145222083.jpg', 'drone-flys-blur-household-background-145221859.jpg', 'drone-flys-air-inside-resident-playing-motion-blur-throtles-copter-145221809.jpg', 'white-quadrocopter-flying-over-sea-manually-operated-despite-wind-151281920.jpg', 'white-quadrocopter-flying-over-sea-manually-operated-despite-wind-white-quadrocopter-flying-over-sea-manually-operated-151282392.jpg', 'white-quadrocopter-flying-over-sea-manually-operated-despite-wind-151282286.jpg', 'white-quadrocopter-flying-over-sea-manually-operated-despite-wind-white-quadrocopter-flying-over-sea-manually-operated-151282080.jpg', 'white-quadrocopter-flying-over-sea-manually-operated-despite-wind-151281988.jpg', 'drone-high-resolution-digital-camera-sky-141449176.jpg', 'drone-blue-sky-quadrocopter-hovered-air-97370052.jpg', 'drone-blue-sky-quadrocopter-hovered-air-97369996.jpg', 'drone-blue-sky-quadrocopter-hovered-air-97369787.jpg', 'drone-blue-sky-quadrocopter-hovered-air-97369750.jpg', 'white-flying-drone-camera-green-trees-background-quadrocopter-127100758.jpg', 'white-flying-drone-camera-green-trees-background-white-flying-drone-camera-green-trees-background-quadrocopter-127101096.jpg', 'katrineholm-sweden-august-dji-phantom-professional-warning-coloration-flight-phantom-professional-100866400.jpg', 'drone-flying-over-plowed-field-autumn-drone-flying-over-plowed-field-autumn-season-127189664.jpg', 'white-flying-quadrocopter-camera-green-forest-background-141836104.jpg', 'white-flying-quadrocopter-camera-green-forest-background-141836096.jpg', 'white-flying-quadrocopter-camera-green-forest-background-141836091.jpg', 'white-flying-quadrocopter-camera-green-forest-background-141836084.jpg', 'drone-hovering-blue-sky-bright-97994311.jpg', 'drone-flying-over-ground-taking-pictures-its-built-camera-dron-rising-to-capture-images-high-resolution-133808914.jpg', 'drone-flying-over-hovering-bright-blue-sky-new-technology-aero-photo-shooting-118540168.jpg', 'drone-uav-flying-overhead-blue-sky-drone-uav-flying-overhead-blue-sky-stabilised-camera-118650151.jpg', 'drone-flying-over-ground-taking-pictures-its-built-camera-dron-rising-to-capture-images-high-resolution-133809287.jpg', 'dron-rising-ground-to-capture-images-its-built-high-resolution-camera-drone-flying-over-ground-taking-133809070.jpg', 'drone-digital-camera-flying-sky-modern-technology-aerial-video-photography-129350956.jpg', 'drone-camera-flying-blue-sky-165590893.jpg', 'drone-camera-flying-blue-sky-165590774.jpg', 'flying-drone-sky-camera-48183820.jpg', 'white-drone-flying-far-away-blue-sky-background-114819515.jpg', 'white-flying-quadrocopter-blue-sky-background-drone-white-flying-quadrocopter-camera-blue-sky-background-127100890.jpg', 'white-flying-drone-camera-blue-sky-background-white-flying-drone-blue-sky-background-quadrocopter-127101135.jpg', 'white-flying-drone-blue-sky-background-quadrocopter-white-flying-drone-camera-blue-sky-background-127100885.jpg', 'white-flying-dron-blue-sky-background-quadrocopter-white-flying-dron-camera-blue-sky-background-127100837.jpg', 'drone-quadrocopter-camera-flying-over-forest-drone-sky-uav-quadrocopter-camera-flying-over-forest-118650242.jpg', 'drone-fly-sky-blue-88524547.jpg', 'drone-quad-copter-spy-flies-door-banquet-hall-cafe-drone-quad-copter-spy-flies-door-104386467 (1).jpg', 'drone-quad-copter-spy-flies-door-banquet-hall-cafe-background-stage-nobody-helicopter-104386428 (1).jpg', 'drone-quad-copter-spy-flies-door-banquet-hall-cafe-background-stage-nobody-helicopter-blades-motion-handle-104386271 (1).jpg', 'white-drone-hovering-bright-blue-sky-66768211.jpg', 'white-quadrocopter-fly-inside-party-tent-dark-background-club-light-soffits-white-quadrocopter-fly-inside-party-tent-104386609.jpg', 'white-quadrocopter-fly-inside-party-tent-dark-background-club-light-soffits-take-photos-record-footage-white-104386493.jpg', 'drone-camera-flying-blue-sky-160241230.jpg', 'quadrocopters-camera-flight-sky-92657377.jpg', 'quadrocopter-drone-camera-flies-sky-technologies-73552942.jpg', 'phantom-professional-katrineholm-sweden-august-dji-warning-coloration-flight-100866278.jpg', 'katrineholm-sweden-august-dji-phantom-professional-warning-coloration-flight-phantom-professional-100866163.jpg', 'phantom-professional-katrineholm-sweden-august-dji-warning-coloration-flight-100866160.jpg', 'phantom-professional-katrineholm-sweden-august-dji-phantom-professional-warning-coloration-flight-100866247.jpg', 'hi-tech-multicopter-drone-camera-brushless-gimbal-autopilot-44182426.jpg', 'abstract-conceptual-child-playing-drone-remote-sensing-la-felicità-di-un-bambino-con-giocattolo-moderno-e-pericoloso-135911140.jpg', 'pancevo-serbia-dji-mavic-air-flying-mid-clo-cloudy-day-smallest-foldable-drone-k-capability-110560196.jpg', 'drone-camera-flying-blue-sky-drone-camera-flying-blue-sky-126172006.jpg', 'drone-camera-flying-blue-sky-drone-camera-flying-blue-sky-126171914.jpg', 'drone-flying-natural-environment-copyspace-67894199.jpg', 'quadrocopter-drone-camera-small-blue-sky-53673122.jpg', 'drone-fly-sky-blue-88524587.jpg', 'camera-white-drone-hovering-bright-blue-sky-66767731.jpg', 'drone-flying-outdoors-midflight-closeup-outdoor-172824167.jpg', 'white-drone-equipped-high-resolution-k-video-camera-hovering-mid-air-64083579.jpg', 'dji-mavic-pro-dorne-flight-phayao-thailand-february-standing-outdoor-first-foldable-drone-ever-made-92472718.jpg', 'abstract-conceptual-child-playing-drone-remote-sensi-sensing-la-felicità-di-un-bambino-con-giocattolo-moderno-e-110324144.jpg', 'abstract-conceptual-child-playing-drone-remote-sensi-sensing-happiness-modern-dangerous-toy-109758220.jpg', 'dji-phantom-quadrocopter-action-against-sky-laukaa-finland-may-drone-laukaa-finland-scania-exhibition-93345145.jpg', 'drone-flying-outdoors-midflight-closeup-outdoor-150809310.jpg', 'drone-fly-sky-blue-88524575.jpg', 'drone-flying-outdoors-midflight-closeup-outdoor-140925127.jpg', 'pancevo-serbia-dji-mavic-air-drone-flying-mid-cloudy-day-snow-background-smallest-foldable-k-capability-111266246.jpg', 'pancevo-serbia-dji-mavic-air-drone-flying-mid-cloudy-day-blured-gray-house-background-smallest-foldable-k-capability-111266159.jpg', 'pancevo-serbia-dji-mavic-air-drone-flying-mid-air-cloudy-day-blured-gray-house-background-smallest-foldable-drone-111266130.jpg', 'pancevo-serbia-dji-mavic-air-drone-flying-mid-air-isolated-white-bacground-smallest-foldable-drone-k-capability-pancevo-111266094.jpg', 'pancevo-serbia-dji-mavic-air-drone-flying-mid-air-pancevo-serbia-dji-mavic-air-drone-flying-mid-air-isolated-white-bacground-111266064.jpg', 'pancevo-serbia-dji-mavic-air-drone-flying-mid-air-pancevo-serbia-dji-mavic-air-drone-flying-mid-air-isolated-white-bacground-111266070.jpg', 'pancevo-serbia-dji-mavic-air-drone-flying-mid-111265977.jpg', 'uav-drone-copter-flying-high-resolution-digital-camera-uav-drone-copter-flying-high-resolution-digital-camera-close-up-110886196.jpg', 'uav-drone-copter-flying-high-resolution-digital-camera-close-up-110886219.jpg', 'uav-drone-copter-flying-high-resolution-digital-camera-close-up-uav-drone-copter-flying-high-resolution-digital-camera-110886102.jpg', 'uav-drone-copter-flying-high-resolution-digital-camera-uav-drone-copter-flying-high-resolution-digital-camera-close-up-110886059.jpg', 'uav-drone-copter-flying-high-resolution-digital-camera-close-up-uav-drone-copter-flying-high-resolution-digital-camera-110886017.jpg', 'drone-flying-outdoors-budapest-hungary-september-dji-mavic-pro-midflight-featuring-camera-designed-hasselblad-major-upgrade-172835030.jpg', 'budapest-hungary-september-dji-mavic-pro-drone-midflight-featuring-camera-designed-hasselblad-major-upgrade-over-previous-161627229.jpg', 'flying-drone-sky-camera-48183694.jpg', 'dron-dj-phantom-fly-blue-sky-49673869.jpg', 'drone-fly-sky-blue-88524732.jpg', 'white-drone-equipped-high-resolution-k-video-camera-hovering-mid-air-64661933.jpg', 'white-drone-equipped-high-resolution-k-video-camera-hovering-mid-air-64661929.jpg', 'drone-equipped-high-resolution-k-video-camera-white-64662119.jpg', 'white-drone-equipped-high-resolution-k-video-camera-hovering-mid-air-64661235.jpg', 'white-drone-equipped-high-resolution-k-video-camera-hovering-mid-air-64661981.jpg', 'white-drone-equipped-high-resolution-k-video-camera-hovering-mid-air-64661949.jpg', 'drone-fly-sky-blue-88524559.jpg', 'drone-fly-sky-blue-88524792.jpg', 'drone-fly-sky-blue-88524754.jpg', 'drone-fly-sky-blue-88524769.jpg', 'drone-fly-sky-blue-88524737.jpg', 'drone-fly-sky-blue-88524751.jpg', 'drone-fly-sky-blue-88524661.jpg', 'drone-fly-sky-blue-88524651.jpg', 'drone-fly-sky-blue-88524635.jpg', 'drone-fly-sky-blue-88524632.jpg', 'drone-fly-sky-blue-88524621.jpg', 'drone-fly-sky-blue-88524612.jpg', 'drone-fly-sky-blue-88524629.jpg', 'drone-fly-sky-blue-88524609.jpg', 'drone-fly-sky-blue-88524611.jpg', 'drone-fly-sky-blue-88524582.jpg', 'drone-fly-sky-blue-88524578.jpg', 'drone-k-camera-flying-close-up-73532446.jpg', 'drone-k-camera-flying-close-up-73532589.jpg', 'dron-dj-phantom-fly-blue-sky-81384606.jpg', 'drones-unmanned-vehicles-97038978.jpg', 'dji-mavic-pro-drone-flying-dark-black-background-closeup-one-most-portable-drones-market-side-97582204.jpg', 'drones-unmanned-vehicles-97039108.jpg', 'drones-unmanned-vehicles-97038577.jpg', 'drone-white-back-clipping-mask-88967278.jpg', 'drone-flying-over-meadow-66335540.jpg', 'flydeo-y-czech-drones-fly-76555088.jpg', 'flying-quad-copter-sky-mounted-digital-camera-photography-47004195.jpg', 'flying-drone-mounted-camera-quadcopter-sky-gopro-digital-video-photo-productions-48253820.jpg', 'drone-over-village-cloudy-sunset-photo-made-near-my-house-was-one-first-tests-my-52431432.jpg', 'drone-over-village-cloudy-sunset-his-pilot-photo-made-near-my-house-was-one-first-tests-my-52431099.jpg', 'drone-over-village-cloudy-sunset-photo-made-near-my-house-was-one-first-tests-my-52432846.jpg', 'drones-unmanned-vehicles-97038787.jpg', 'drone-flying-overhead-cloudy-blue-sky-over-roof-house-142445484.jpg', 'quadrocopter-flying-over-green-field-47656065.jpg', 'drone-drone-fly-blue-sky-188794450.jpg', 'drones-high-resolution-camera-flying-close-up-70460286.jpg', 'drone-spying-flying-over-field-recording-50393232.jpg', 'drone-quadrocopter-phantom-professional-st-petersburg-russia-may-high-resolution-digital-camera-designed-chinese-company-72709896.jpg', 'flight-quadrocopters-white-against-blue-sky-clouds-russia-poltavskaya-village-may-flying-dji-phantom-over-field-75029103.jpg', 'drone-sky-khaoyai-thailand-78214361.jpg', 'minsk-belarus-may-mavic-pro-drone-flies-over-ground-robot-air-close-up-mavic-pro-drone-flies-over-ground-robot-air-close-up-156696593.jpg', 'drone-flying-over-blue-sky-sparkle-sun-closeup-181365409.jpg', 'man-holds-remote-controller-his-hands-copter-flying-background-drone-hovers-behind-pilot-suset-96462740.jpg', 'drone-white-back-clipping-mask-88967237.jpg', 'flying-drone-sky-small-toy-cloudy-technology-65271901.jpg', 'drone-flying-outdoors-midflight-closeup-outdoor-181544231.jpg', 'dji-drone-mavic-pro-flying-rural-area-graz-austria-hasselblad-camera-copy-space-175954949.jpg', 'dji-drone-mavic-pro-flying-rural-area-graz-austria-hasselblad-camera-copy-space-175954949 (1).jpg', 'flying-drone-sky-camera-65108450.jpg', 'man-playing-drone-rear-view-operating-86361972.jpg', 'quadrocopter-flying-over-green-field-47656117.jpg', 'drone-flying-outdoors-budapest-hungary-circa-dji-mavic-pro-midflight-hovering-fron-forest-area-188047199.jpg', 'drone-flying-outdoors-camera-flight-closeup-outdoor-184804535.jpg', 'editorial-photo-dji-phantom-drone-flight-mounted-gopro-hero-black-edition-st-louis-missouri-december-digital-camera-53183149.jpg', 'drone-over-village-cloudy-sunset-his-pilot-photo-made-near-my-house-was-one-first-tests-my-52431485.jpg', 'flying-white-quadrocopters-over-field-wheat-gadget-video-144441845.jpg', 'flying-white-quadrocopters-over-field-wheat-gadget-video-144440015.jpg', 'flight-drons-behind-blurred-background-shot-forward-flight-drons-behind-blurred-background-shot-close-133499155.jpg', 'white-drone-equipped-high-resolution-k-video-camera-hovering-mid-air-64661388.jpg', 'graz-austria-december-dji-mavic-mini-drone-flying-countryside-above-frozen-lake-sunny-winter-day-167991852.jpg', 'drone-aka-unmanned-airborne-vehicle-taking-aerial-pictures-videos-140312612.jpg', 'drone-flying-over-plowed-field-108799256.jpg', 'drone-action-dron-flight-against-dramatic-sky-125188549.jpg', 'drone-white-four-engine-flying-camera-85192023.jpg', 'drone-black-white-four-engined-flying-camera-85227731.jpg', 'drone-white-four-engine-flying-camera-85212877.jpg', 'drone-black-white-four-engined-flying-camera-85202222.jpg', 'drone-black-white-four-engined-flying-camera-85201171.jpg', 'drone-white-four-engine-flying-camera-85194506.jpg', 'white-drone-camera-flying-blue-sky-uav-concept-117634372.jpg', 'drone-over-village-cloudy-sunset-photo-made-near-my-house-was-one-first-tests-my-52432871.jpg', 'drone-k-camera-flying-close-up-68391116.jpg', 'drone-camera-blue-sky-new-technology-bird-eye-view-photography-117615496.jpg', 'launching-small-drone-indoors-serious-indian-man-sitting-chair-orange-four-rotors-86292736.jpg', 'drone-flying-sky-drone-flying-cloudly-sky-143945017.jpg', 'drone-flying-cloudly-sky-drone-flying-sky-143944971.jpg', 'drone-flying-sky-drone-flying-cloudly-sky-143944948.jpg', 'drone-flying-cloudly-sky-drone-flying-sky-143944898.jpg', 'drone-flying-over-meadow-66334340.jpg', 'flying-drone-blue-sky-camera-85728061.jpg', 'flying-drone-blue-sky-camera-85728176.jpg', 'drone-copter-observes-construction-site-st-petersburg-russia-quadrocopter-phantom-professional-high-resolution-digital-camera-72555046.jpg', 'quadrocopter-flying-forest-unmanned-aerial-copter-flight-aeromodelling-hobby-modern-technologies-75883465.jpg', 'flying-drone-sky-camera-65108268.jpg', 'flying-drone-sky-camera-65862435.jpg', 'drone-blue-sky-flying-clouds-up-74127700.jpg', 'flying-drone-sky-camera-65862310.jpg', 'white-drone-hovering-sky-76474858.jpg', 'drone-flying-over-meadow-66335669.jpg', 'drone-flying-over-meadow-66335493.jpg', 'flying-drone-sky-camera-61885483.jpg', 'digital-unmanned-quadrocopter-camera-flying-blue-sky-drone-79028589.jpg', 'drone-flying-under-city-blue-sky-uncrewed-aerial-vehicle-making-photo-film-video-remote-command-pilot-165222836.jpg', 'drone-flying-over-meadow-66335473.jpg', 'drone-flying-over-meadow-66335236.jpg', 'drone-drohne-im-flug-über-einer-wiese-66336452.jpg', 'drone-flight-against-blue-sky-thailand-64149658.jpg', 'white-flying-drone-against-grey-cloudy-sky-131297792.jpg', 'editorial-photo-dji-phantom-drone-flight-mounted-gopro-hero-black-edition-st-louis-missouri-december-digital-camera-53166232.jpg', 'drone-over-village-cloudy-sunset-his-pilot-photo-made-near-my-house-was-one-first-tests-my-52433301.jpg', 'drone-k-camera-flying-close-up-68391359.jpg', 'modern-drone-rushing-to-explore-beautiful-iris-stretching-over-hills-sunny-day-small-rain-contemporary-white-101067098.jpg', 'flying-drone-camera-sky-summer-67337721.jpg', 'abstract-conceptual-child-playing-drone-remote-sensi-sensing-happiness-modern-dangerous-toy-108657154.jpg', 'flying-drone-sky-camera-56827886.jpg', 'flying-drone-sky-camera-56827739.jpg', 'flying-drone-sky-camera-56814262.jpg', 'flying-drone-sky-camera-56813522.jpg', 'drone-quadcopter-digital-camera-flight-drone-digital-camera-flying-over-russia-flag-97003420.jpg', 'white-drone-hovering-sky-76376357.jpg', 'drone-flying-outdoors-camera-drone-flight-closeup-outdoor-flying-166779345.jpg', 'white-drone-hovering-sky-76574294.jpg', 'drone-flying-over-field-drone-flying-104835651.jpg', 'white-drone-hovering-bright-blue-sky-bottom-view-77240198.jpg', 'white-drone-hovering-bright-blue-sky-bottom-view-77240170.jpg', 'white-drone-hovering-bright-blue-sky-bottom-view-77240158.jpg', 'white-drone-hovering-bright-blue-sky-bottom-view-77240134.jpg', 'white-drone-hovering-bright-blue-sky-bottom-view-77240124.jpg', 'white-drone-hovering-bright-blue-sky-bottom-view-77240095.jpg', 'drone-high-resolution-camera-flying-close-up-70460406.jpg', 'drone-high-resolution-camera-flying-close-up-70460239.jpg', 'drone-high-resolution-camera-flying-close-up-70460202.jpg', 'quadrocopter-sky-white-flying-blue-98869001.jpg', 'white-drone-quad-copter-k-digital-camera-flying-close-up-68256113.jpg', 'parrot-bebop-drone-flight-parrot-bebop-drone-flight-nazare-portugal-169160096.jpg', 'flying-white-quadrocopters-over-field-wheat-gadget-video-85797996.jpg', 'flying-white-quadrocopters-over-field-wheat-gadget-video-85796914.jpg', 'white-drone-motion-quadrocopter-flying-ceiling-inside-building-90816022.jpg', 'dji-mavic-pro-drone-flight-dji-mavic-pro-drone-flight-iceland-169223078.jpg', 'image-gray-drone-flight-gray-drone-flight-99633259.jpg', 'dji-mavic-pro-drone-flight-dji-mavic-pro-drone-flight-iceland-169223083.jpg', 'dji-mavic-pro-drone-flight-iceland-dji-mavic-pro-drone-flight-169223089.jpg', 'dji-mavic-pro-drone-flight-dji-mavic-pro-drone-flight-iceland-169223034.jpg', 'dji-mavic-pro-drone-flight-iceland-169223032.jpg', 'quadrocopters-silhouette-against-background-sunset-flying-drones-evening-sky-101975790.jpg', 'quadrocopters-silhouette-against-background-sunset-flying-drones-evening-sky-quadrocopters-silhouette-against-101899078.jpg', 'dji-mavic-pro-drone-flight-iceland-169222997.jpg', 'belgrade-serbia-dji-mavic-air-flying-spot-grass-background-copy-space-180125884.jpg', 'belgrade-serbia-dji-mavic-air-k-camera-drone-levitating-blue-sky-background-180125684.jpg', 'belgrade-serbia-dji-mavic-air-flying-spot-grass-background-180125779.jpg', 'dji-drone-mavic-pro-closeup-flying-against-blue-sky-graz-austria-hasselblad-camera-copy-space-175960040.jpg', 'dji-drones-mavic-mini-pro-flying-together-size-difference-graz-austria-against-blue-sky-copy-space-175960314.jpg', 'dji-drones-mavic-mini-pro-flying-together-size-difference-graz-austria-against-blue-sky-copy-space-175959807.jpg', 'dji-drones-mavic-mini-pro-flying-together-size-difference-graz-austria-against-blue-sky-copy-space-175959595.jpg', 'dji-drones-mavic-mini-pro-flying-together-size-difference-graz-austria-against-blue-sky-copy-space-175958863.jpg', 'dji-drones-mavic-mini-pro-flying-together-size-difference-graz-austria-against-blue-sky-copy-space-175958657.jpg', 'dji-drones-mavic-mini-pro-flying-together-size-difference-graz-austria-against-blue-sky-copy-space-175958631.jpg', 'dji-drones-mavic-mini-pro-flying-together-size-difference-graz-austria-against-blue-sky-copy-space-175958638.jpg', 'dji-drone-mavic-pro-flying-rural-area-graz-austria-hasselblad-camera-copy-space-175958342.jpg', 'dji-drone-mavic-pro-flying-rural-area-graz-austria-hasselblad-camera-copy-space-175957641.jpg', 'dji-drone-mavic-pro-flying-rural-area-graz-austria-hasselblad-camera-copy-space-175957189.jpg', 'dji-drone-mavic-pro-flying-against-blue-sky-graz-austria-hasselblad-camera-copy-space-175957089.jpg', 'dji-drone-mavic-pro-flying-rural-area-graz-austria-hasselblad-camera-copy-space-175956351.jpg', 'dji-drone-mavic-pro-flying-against-blue-sky-graz-austria-hasselblad-camera-copy-space-175956278.jpg', 'dji-drone-mavic-pro-flying-against-blue-sky-graz-austria-hasselblad-camera-copy-space-175956077.jpg', 'dji-drone-mavic-pro-flying-against-blue-sky-graz-austria-hasselblad-camera-copy-space-175955921.jpg', 'dji-drone-mavic-pro-flying-against-blue-sky-graz-austria-hasselblad-camera-copy-space-175955724.jpg', 'dji-drone-mavic-pro-flying-rural-area-graz-austria-hasselblad-camera-copy-space-175955385.jpg', 'dji-drone-mavic-pro-flying-rural-area-graz-austria-hasselblad-camera-copy-space-175954555.jpg', 'dji-drone-mavic-pro-flying-rural-area-graz-austria-hasselblad-camera-copy-space-175958286.jpg', 'graz-austria-dji-drone-mavic-pro-hasselblad-camera-flying-rural-area-copy-space-dji-drone-mavic-pro-flying-rural-area-175957754.jpg', 'graz-austria-dji-drone-mavic-pro-hasselblad-camera-flying-rural-area-copy-space-dji-drone-mavic-pro-flying-rural-area-175956616.jpg', 'drone-k-camera-flying-close-up-68391197.jpg', 'drone-k-camera-flying-close-up-68391133.jpg', 'dji-drone-mavic-pro-flying-against-blue-sky-graz-austria-hasselblad-camera-copy-space-176596992.jpg', 'dji-drone-mavic-pro-flying-rural-area-graz-austria-hasselblad-camera-copy-space-176594792.jpg', 'aerial-view-professional-drone-propellers-flying-camera-sunset-sky-digital-technology-concept-electronic-gadget-175443609.jpg', 'aerial-view-professional-drone-propellers-flying-camera-sunset-sky-digital-technology-concept-electronic-gadget-175444303.jpg', 'aerial-view-professional-drone-propellers-flying-camera-sunset-sky-digital-technology-concept-electronic-gadget-175444309.jpg', 'close-up-view-drone-flying-over-agricultural-field-spring-technology-innovation-agricultural-industry-drone-flying-over-176661373.jpg', 'drone-flying-over-agricultural-field-spring-technology-innovation-industry-close-up-view-176652804.jpg', 'drone-sky-knight-88900973.jpg', 'drone-flying-over-agricultural-field-spring-technology-innovation-industry-close-up-view-176652729.jpg', 'drone-flying-over-agricultural-field-spring-technology-innovation-industry-close-up-view-176652704.jpg', 'drone-flying-over-agricultural-field-spring-technology-innovation-industry-close-up-view-176652651.jpg', 'dji-phantom-pro-obsidian-edition-flight-nazare-portugal-dji-phantom-pro-obsidian-edition-flight-169160045.jpg', 'dji-phantom-pro-obsidian-edition-flight-dji-phantom-pro-obsidian-edition-flight-nazare-portugal-169160033.jpg', 'dji-phantom-pro-obsidian-edition-flight-nazare-portugal-169160014.jpg', 'dji-phantom-pro-obsidian-edition-flight-dji-phantom-pro-obsidian-edition-flight-nazare-portugal-169160011.jpg', 'dji-phantom-pro-obsidian-edition-flight-dji-phantom-pro-obsidian-edition-flight-nazare-portugal-169159971.jpg', 'dji-phantom-pro-obsidian-edition-flight-dji-phantom-pro-obsidian-edition-flight-nazare-portugal-169159974.jpg', 'dji-phantom-pro-obsidian-edition-flight-dji-phantom-pro-obsidian-edition-flight-nazare-portugal-169159964.jpg', 'dji-phantom-pro-obsidian-edition-flight-dji-phantom-pro-obsidian-edition-flight-nazare-portugal-169159928.jpg', 'dji-phantom-pro-obsidian-edition-flight-dji-phantom-pro-obsidian-edition-flight-nazare-portugal-169159868.jpg', 'dji-phantom-pro-obsidian-edition-flight-nazare-portugal-dji-phantom-pro-obsidian-edition-flight-169160179.jpg', 'dji-phantom-pro-obsidian-edition-flight-dji-phantom-pro-obsidian-edition-flight-nazare-portugal-169160135.jpg', 'dji-phantom-pro-obsidian-edition-flight-nazare-portugal-dji-phantom-pro-obsidian-edition-flight-169160104.jpg', 'flying-drone-against-sky-down-under-grey-cloudy-131435104.jpg', 'drone-over-village-cloudy-sunset-photo-made-near-my-house-was-one-first-tests-my-52432423.jpg', 'camera-drone-flying-blue-sky-81362114.jpg', 'camera-drone-flying-blue-sky-81361656.jpg', 'drone-digital-camera-flying-sky-modern-technology-aerial-video-photography-166373231.jpg', 'quadrocopter-flying-sky-modern-guarding-zone-air-camera-quadrocopter-flying-sky-modern-169108171.jpg', 'cherkasst-ukraina-june-white-drone-quad-copter-high-resolution-digital-camera-flying-trees-169108170.jpg', 'red-drone-hovering-air-small-sized-green-plants-backgrtound-135225450.jpg', 'red-drone-hovering-air-small-sized-green-plants-backgrtound-135225489.jpg', 'red-drone-hovering-air-small-sized-green-plants-backgrtound-135225458.jpg', 'red-drone-hovering-air-small-sized-green-plants-backgrtound-135225421.jpg', 'red-drone-hovering-air-small-sized-green-plants-backgrtound-135225446.jpg', 'red-drone-hovering-air-small-sized-green-plants-backgrtound-135225383.jpg', 'red-drone-hovering-air-small-sized-green-plants-backgrtound-135225437.jpg', 'red-drone-hovering-air-small-sized-green-plants-backgrtound-135225360.jpg', 'red-drone-hovering-air-small-sized-green-plants-backgrtound-135225372.jpg', 'red-drone-hovering-air-small-sized-green-plants-backgrtound-135225352.jpg', 'red-drone-hovering-air-small-sized-green-plants-backgrtound-135225323.jpg', 'red-drone-hovering-air-small-sized-green-plants-backgrtound-135225332.jpg', 'red-drone-hovering-air-small-sized-green-plants-backgrtound-135225368.jpg', 'small-sized-red-drone-hovering-air-green-plants-backgrtound-red-drone-hovering-air-135225357.jpg', 'red-drone-hovering-air-small-sized-green-plants-backgrtound-135225317.jpg', 'red-drone-hovering-air-small-sized-green-plants-backgrtound-135225280.jpg', 'red-drone-hovering-air-small-sized-green-plants-backgrtound-135225232.jpg', 'red-drone-hovering-air-small-sized-green-plants-backgrtound-135225259.jpg', 'white-drone-quad-copter-high-resolution-digital-camera-flying-trees-white-drone-quad-copter-high-resolution-169108193.jpg', 'cherkasst-ukraina-june-white-drone-landed-case-quadrocopters-represented-dji-phantom-cherkasst-ukraina-june-white-drone-169108274.jpg', 'drone-ready-flight-stands-ground-90202151.jpg', 'flying-drone-camera-blue-sky-113455660.jpg', 'white-drone-quad-copter-high-resolution-digital-camera-flying-blue-sky-cherkasst-ukraina-june-169108205.jpg', 'drone-flying-outdoors-budapest-hungary-september-dji-mavic-pro-drone-midflight-featuring-camera-major-camera-upgrade-over-143043155.jpg', 'russia-merzhanovo-august-dji-mavic-air-drone-flying-sky-smallest-foldable-drone-k-capability-russia-merzhanovo-august-dji-124670023.jpg', 'professional-drone-pilot-flying-drone-near-ocean-professional-drone-pilot-flying-drone-near-ocean-168064683.jpg', 'russia-merzhanovo-august-dji-mavic-air-drone-flying-sky-smallest-modern-foldable-drone-k-capability-russia-merzhanovo-124669933.jpg', 'white-drone-flight-image-94887396.jpg', 'white-drone-flight-image-94851022.jpg', 'white-drone-flight-image-94851038.jpg', 'white-drone-flight-image-94850969.jpg', 'white-drone-flight-image-94850906.jpg', 'white-drone-flight-image-94850865.jpg', 'white-drone-flight-image-94850830.jpg', 'white-drone-flight-image-94850837.jpg', 'first-drone-mavic-pro-model-flies-green-park-restricted-areas-photography-minsk-belarus-may-first-drone-mavic-pro-model-156696595.jpg', 'drone-takes-pictures-open-air-countryside-modern-device-shoots-footages-drone-takes-pictures-open-air-countryside-156696552.jpg', 'summer-vacation-concept-white-moder-air-drone-camera-above-ocean-deserted-coast-extreme-closeup-d-rendering-157205084.jpg', 'flying-drone-sky-camera-95806857.jpg', 'flying-drone-sky-camera-95806795.jpg', 'flying-drone-sky-camera-95806752.jpg', 'flying-drone-sky-camera-95806751.jpg', 'flying-drone-sky-camera-95806762.jpg', 'drone-flies-air-green-background-technology-surveillance-minsk-belarus-may-drone-flies-air-green-background-156696555.jpg', 'drone-camera-flying-over-sky-background-blue-159836620.jpg', 'flying-drone-cloudy-sky-background-new-technology-mavic-158747625.jpg', 'flying-drone-sky-camera-65862463.jpg', 'flying-drone-sky-mounted-digital-camera-flying-drone-sky-mounted-digital-camera-159288270.jpg', 'phantom-professional-katrineholm-sweden-august-dji-phantom-professional-warning-coloration-flight-100865796.jpg', 'katrineholm-sweden-august-dji-phantom-professional-warning-coloration-flight-phantom-professional-100865640.jpg', 'phantom-professional-katrineholm-sweden-august-dji-phantom-professional-warning-coloration-flight-100866057.jpg', 'phantom-professional-katrineholm-sweden-august-dji-phantom-professional-warning-coloration-flight-100865954.jpg', 'drone-against-sky-small-spy-quad-copter-flying-over-dramatic-blue-clouds-63191294 (1).jpg', 'phantom-professional-katrineholm-sweden-august-dji-phantom-professional-warning-coloration-flight-100866222.jpg', 'flying-helicopter-camera-over-green-field-white-drone-quadcopter-flight-small-camcorder-59783171.jpg', 'drone-flying-green-grass-background-119845174.jpg', 'drone-flying-over-plowed-field-drone-flying-over-plowed-field-technology-agriculture-158037829.jpg', 'phantom-professional-katrineholm-sweden-august-dji-warning-coloration-flight-100866504.jpg', 'drone-flying-sky-quadrocopter-camera-hovers-blue-76510198.jpg', 'phantom-professional-katrineholm-sweden-august-dji-phantom-professional-warning-coloration-flight-100866716.jpg', 'drone-flying-air-close-up-blue-sky-background-90269303.jpg', 'drone-over-village-cloudy-sunset-photo-made-near-my-house-was-one-first-tests-my-52432120.jpg', 'graz-austria-december-dji-mavic-mini-drone-flying-countryside-above-frozen-lake-sunny-winter-day-graz-austria-december-167991893.jpg', 'graz-austria-december-dji-mavic-mini-drone-flying-countryside-above-frozen-lake-sunny-winter-day-167991843.jpg', 'graz-austria-december-dji-mavic-mini-drone-flying-countryside-above-frozen-lake-sunny-winter-day-graz-austria-december-167991760.jpg', 'graz-austria-december-dji-mavic-mini-drone-flying-countryside-above-frozen-lake-sunny-winter-day-graz-austria-december-167991692.jpg', 'graz-austria-december-dji-mavic-mini-drone-flying-countryside-above-frozen-lake-sunny-winter-day-167991657.jpg', 'graz-austria-december-dji-mavic-mini-drone-flying-countryside-above-frozen-lake-sunny-winter-day-graz-austria-december-167991606.jpg', 'graz-austria-december-dji-mavic-mini-drone-flying-countryside-above-frozen-lake-sunny-winter-day-167991586.jpg', 'graz-austria-december-dji-mavic-mini-drone-flying-countryside-above-frozen-lake-sunny-winter-day-graz-austria-december-167991527.jpg', 'graz-austria-december-dji-mavic-mini-drone-flying-countryside-above-frozen-lake-sunny-winter-day-167991486.jpg', 'graz-austria-december-dji-mavic-mini-drone-flying-countryside-above-frozen-lake-sunny-winter-day-graz-austria-december-167991460.jpg', 'graz-austria-december-dji-mavic-mini-drone-flying-countryside-above-frozen-lake-sunny-winter-day-167991418.jpg', 'graz-austria-december-dji-mavic-mini-drone-flying-countryside-above-frozen-lake-sunny-winter-day-graz-austria-december-167991388.jpg', 'graz-austria-december-dji-mavic-mini-drone-flying-countryside-above-frozen-lake-sunny-winter-day-167991188.jpg', 'graz-austria-december-dji-mavic-mini-drone-flying-countryside-above-frozen-lake-sunny-winter-day-167991147.jpg', 'graz-austria-december-dji-mavic-mini-drone-flying-countryside-above-frozen-lake-sunny-winter-day-167991126.jpg', 'graz-austria-december-dji-mavic-mini-drone-flying-countryside-above-frozen-lake-sunny-winter-day-graz-austria-december-167991082.jpg', 'graz-austria-december-dji-mavic-mini-drone-flying-countryside-above-frozen-lake-sunny-winter-day-167991059.jpg', 'graz-austria-december-dji-mavic-mini-drone-flying-countryside-above-frozen-lake-sunny-winter-day-graz-austria-december-167991024.jpg', 'graz-austria-december-dji-mavic-mini-drone-flying-countryside-above-frozen-lake-sunny-winter-day-graz-austria-december-167991026.jpg', 'graz-austria-december-dji-mavic-mini-drone-flying-countryside-above-frozen-lake-sunny-winter-day-graz-austria-december-167990988.jpg', 'graz-austria-december-dji-mavic-mini-drone-flying-countryside-above-frozen-lake-sunny-winter-day-graz-austria-december-167990944.jpg', 'graz-austria-december-dji-mavic-mini-drone-flying-countryside-above-frozen-lake-sunny-winter-day-drone-flying-graz-167991925.jpg', 'st-petersburg-russia-april-dji-mavic-pro-hasselblad-camera-flight-against-blue-sky-st-petersburg-russia-april-dji-mavic-pro-148042580.jpg', 'st-petersburg-russia-april-dji-mavic-pro-hasselblad-camera-flight-against-blue-sky-st-petersburg-russia-april-dji-mavic-pro-148042510.jpg', 'st-petersburg-russia-april-dji-mavic-pro-hasselblad-camera-flight-against-blue-sky-st-petersburg-russia-april-dji-mavic-pro-148042629.jpg', 'st-petersburg-russia-april-dji-mavic-pro-hasselblad-camera-flight-against-blue-sky-st-petersburg-russia-april-dji-mavic-pro-148042612.jpg', 'st-petersburg-russia-april-dji-mavic-pro-hasselblad-camera-flight-against-blue-sky-st-petersburg-russia-april-dji-mavic-pro-148042517.jpg', 'st-petersburg-russia-april-dji-mavic-pro-hasselblad-camera-flight-against-blue-sky-st-petersburg-russia-april-dji-mavic-pro-148042542.jpg', 'st-petersburg-russia-april-dji-mavic-pro-hasselblad-camera-flight-against-blue-sky-st-petersburg-russia-april-dji-mavic-pro-148042536.jpg', 'st-petersburg-russia-april-dji-mavic-pro-hasselblad-camera-flight-against-blue-sky-park-148042487.jpg', 'st-petersburg-russia-april-dji-mavic-pro-hasselblad-camera-flight-against-blue-sky-park-148042488.jpg', 'st-petersburg-russia-april-dji-mavic-pro-hasselblad-camera-flight-against-blue-sky-st-petersburg-russia-april-dji-mavic-pro-148042473.jpg', 'white-drone-flying-over-city-cityscape-kagawa-japan-white-drone-flying-over-city-120139388.jpg', 'flying-drone-blue-sky-flying-drone-camera-blue-sky-104439341.jpg', 'drone-flying-above-sea-drone-flying-above-sea-coast-water-rocks-background-96864059.jpg', 'white-quadrocopter-flying-blue-cloudy-sky-drone-controlled-wireless-remote-72505361.jpg', 'drone-camera-takes-pictures-sky-uav-drone-copter-flying-high-resolution-digital-camera-close-up-142250532.jpg', 'drone-flying-blue-sky-professional-camera-clear-partly-clouded-96479155.jpg', 'quadrocopter-flying-over-green-field-47656089.jpg', 'drone-camera-flying-blue-sky-147152750.jpg', 'drone-camera-flying-blue-sky-147152644.jpg', 'drone-flying-overhead-cloudy-blue-sky-over-roof-house-142446198.jpg', 'drone-flying-overhead-cloudy-blue-sky-over-roof-house-142445778.jpg', 'drone-flying-air-close-up-over-field-blurred-background-90269602.jpg', 'editorial-photo-dji-phantom-drone-flight-mounted-gopro-hero-black-edition-st-louis-missouri-december-digital-camera-53176283.jpg', 'white-flying-quadrocopter-camera-green-forest-background-141836074.jpg', 'midair-drone-shot-small-spy-quad-copter-flying-over-clear-blue-sky-59314919 (1).jpg', 'drone-flying-rainforest-smal-portable-95655309.jpg', 'white-drone-flying-over-city-digital-camera-kagawa-japan-131469672.jpg', 'white-drone-flying-over-city-white-drone-flying-over-city-digital-camera-kagawa-japan-131469641.jpg', 'drone-remote-controller-monitor-concrete-jetty-114892817.jpg', 'white-drone-flying-over-city-white-drone-flying-over-city-digital-camera-kagawa-japan-132115631.jpg', 'white-drone-flying-over-city-white-drone-flying-over-city-digital-camera-kagawa-japan-132115625.jpg', 'drone-remote-controller-tool-aerial-photo-video-drone-remote-controller-115979294.jpg', 'drone-remote-controller-tool-aerial-photo-video-115979270.jpg', 'flying-drone-sky-camera-63347760.jpg', 'drone-flying-against-blue-sky-one-104388056.jpg', 'drone-video-camera-flies-sky-drone-video-camera-four-propellers-flies-sky-123779442.jpg', 'drone-video-camera-four-propellers-flies-sky-123779438.jpg', 'flying-drone-camera-sky-102896671.jpg', 'drone-flight-coming-straight-you-evergreen-trees-background-134952604.jpg', 'quadrocopter-flying-over-green-field-47656039.jpg', 'drone-flying-above-grass-view-behind-95655319.jpg', 'drone-flying-above-sea-coast-rocks-background-drone-flying-above-coast-96863903.jpg', 'drone-researching-rainbow-view-contemporary-which-flying-to-capture-video-beautiful-stretching-overgrown-101066474.jpg', 'quadrocopter-flying-sky-fortress-background-modern-guarding-zone-air-camera-132962094.jpg', 'drone-flying-front-tractor-over-field-background-innovation-agricultural-production-90430332.jpg', 'drone-flying-over-field-drone-flying-over-field-landscape-104835632.jpg', 'flying-drone-sky-camera-65862265.jpg', 'white-drone-flying-over-city-cityscape-kagawa-japan-120139363.jpg', 'white-drone-flying-over-city-white-drone-flying-over-city-cityscape-kagawa-japan-120139399.jpg', 'white-drone-flying-over-city-white-drone-flying-over-city-cityscape-kagawa-japan-120139368.jpg', 'drone-camera-flying-sky-rain-forests-background-mist-127710137.jpg', 'drone-camera-flying-sky-rain-forests-background-drone-camera-flying-sky-rain-mist-forests-127710065.jpg', 'drone-camera-flying-sky-rain-forests-background-drone-camera-flying-sky-rain-mist-forests-127710049.jpg', 'drone-blue-sky-flying-clouds-up-74127935.jpg', 'drone-blue-sky-flying-clouds-up-74127949.jpg', 'drone-blue-sky-flying-clouds-up-74127654.jpg', 'drone-camera-flying-blue-sky-130593260.jpg', 'drone-camera-flying-blue-sky-130593211.jpg', 'flying-drone-sky-camera-63346965.jpg', 'flying-drone-sky-camera-63346154.jpg', 'man-holds-remote-controller-his-hands-copter-flying-background-drone-hovers-behind-pilot-farm-no-face-123813697.jpg', 'abstract-conceptual-child-playing-drone-remote-sensing-la-felicità-di-un-bambino-con-giocattolo-moderno-e-pericoloso-138929259.jpg', 'abstract-conceptual-child-playing-drone-remote-sensing-la-felicità-di-un-bambino-con-giocattolo-moderno-e-pericoloso-138313286.jpg', 'quadrocopter-flying-over-green-field-47656076.jpg', 'quadrocopter-flying-over-green-field-47656056.jpg', 'quadrocopter-flying-over-green-field-47656055.jpg', 'quadrocopter-flying-over-green-field-47656028.jpg', 'quadrocopter-flying-over-green-field-47656110.jpg', 'flying-drone-sky-camera-61885383.jpg', 'ccopter-flying-farmyard-no-face-agricultural-new-technologies-innovations-concept-ccopter-flying-farmyard-no-face-123814595.jpg', 'ccopter-flying-farmyard-no-face-agricultural-new-technologies-innovations-concept-horizontal-view-copy-text-ccopter-123814344.jpg', 'wl-udi-toys-drone-nano-mini-quadcopter.jpg', 'maxresdefault (1).jpg', '2-4G-5MP-Fpv-Hd-Camera-Flying-Toys-Brinquedo-Professional-Mini-Quad-Copter-Quadcopter-Rc-Helicopter.jpg', 'maxresdefault (2).jpg', 'maxresdefault (3).jpg', 'maxresdefault (4).jpg', 'yuneeqq500.jpg', 'drone-flying-quadcopter-561803.jpg', '2017-Hot-X15-Mini-Drone-RC-Quadcopter-Helicopter-Aircraft-Flight-Model-RC-Quadrocopter-RC-Drone-Remote.jpg', 'Cheerson-TINY-117-Mini-FPV-Racing-Quadcopter-5-8G-700-TVL-HD-Camera-with-F3-EVO-Brushed-Flight-Controller_00.jpg', 'Free-Shipping-Super-drones-SkyTech-M61-RC-mini-Helicopter-Quadcopter-Flying-ball-Climbing-with-protective-4.jpg', 'maxresdefault (5).jpg', '56c3ce9b10338a9552435732fd0d3715_original.jpg', 'b7d85ee1c14c658fdb9837e0087afd33.jpg', 'fa464c41d775e02c905196f5dcee092440be3bcf_main_hero_image.jpg', 'nixie-wearable-camera-wristband-that-transforms-into-tiny-quadcopter-flying-drone.jpg', '6-Axis-Aerocraft-Quadcopter-Mini-UFO-Helicopter.jpg', 'maxresdefault (6).jpg', '2.4G-5.5-CH-RC-Drone-Upside-Down-Flight-3D-Mini-Quadcopter-inverted-flight-With-Light_2.jpg', 'scout-drone-wild-small-spy-quad-copter-flying-trees-forest-62197188.jpg', 'Cheerson-CX-10-Mini-Quadcopter-Flying-Toy.jpg', 'scout-drone-wilderness-small-spy-quad-copter-flying-trees-forest-59521158.jpg', 'HTB1uuZ9RVXXXXcfXFXXq6xXFXXXY.jpg', 'DJI-Mavic-Pro-Mini-Foldable-Quadcopter--20161011150719340.jpg', 'flying-star-wars-speeder-bike-quadcopter-adam-woodworth-fb.jpg', 'quadcopter-with-camera.jpg', 'drone-wild-small-spy-quad-copter-scout-flying-trees-forest-59538692.jpg', 'spy-drone-woods-small-quad-copter-scout-flying-trees-forest-62871064.jpg', 'spy-drone-wild-small-quad-copter-scout-flying-trees-forest-59314171.jpg', 'videography-wedding-ceremony-air-small-spy-quad-copter-scout-drone-flying-trees-forest-74721642.jpg', 'spy-drone-wilderness-small-quad-copter-scout-flying-trees-forest-62197114.jpg', 'videography-wedding-ceremony-air-small-spy-quad-copter-scout-drone-flying-trees-forest-videography-100102302.jpg', 'abstract-prototype-spy-drone-yellow-background-mechanical-toy-copter-camera-five-propellers-creative-design-aerial-177467426.jpg', 'micro-spy-drone-flying-inside-house-remote-controlled-nano-air-vehicle-small-camera-167622458.jpg', 'woman-spy-virtual-reality-headset-playing-game-drone-isolated-white-background-d-device-gadget-watching-woman-spy-168697462.jpg', 'female-spy-black-clothes-round-glasses-drone-isolated-white-background-168219490.jpg', 'videography-wedding-ceremony-air-small-spy-quad-copter-scout-drone-flying-trees-forest-100102170.jpg', 'drone-quad-copter-spy-flies-door-banquet-hall-cafe-drone-quad-copter-spy-flies-door-104386467.jpg', 'drone-quad-copter-spy-flies-door-banquet-hall-cafe-background-stage-nobody-helicopter-104386428.jpg', 'drone-quad-copter-spy-flies-door-banquet-hall-cafe-background-stage-nobody-helicopter-blades-motion-handle-104386271.jpg', 'drone-spy-drone-flying-dark-black-background-closeup-dark-portable-drones-view-drones-gimbal-camera-drone-169220675.jpg', 'drone-spy-drone-flying-dark-black-background-closeup-dark-portable-drones-view-drones-gimbal-camera-drone-169220651.jpg', 'drone-spy-drone-flying-dark-black-background-closeup-dark-portable-drones-view-drones-gimbal-camera-drone-169220639.jpg', 'spy-drone-helicopter-quadrupter-flies-territory-hotel-cafe-high-definition-camera-shoots-photos-videos-white-104386447.jpg', 'spy-drone-helicopter-quadrupter-flies-territory-hotel-cafe-spy-drone-helicopter-quadrupter-flies-104386402.jpg', 'spy-drone-helicopter-quadrupter-flies-territory-hotel-cafe-high-definition-camera-shoots-photos-videos-white-104386360.jpg', 'scout-drone-forest-small-spy-quad-copter-flying-trees-62871101.jpg', 'flying-scout-drone-small-spy-quad-copter-trees-forest-62533063.jpg', 'drone-flying-trees-small-spy-quad-copter-scout-forest-61857610.jpg', 'drone-flying-small-spy-quad-copter-over-dramatic-blue-sky-clouds-59534584.jpg', 'outdoor-drone-small-spy-quad-copter-scout-flying-trees-forest-59314552.jpg', 'drone-sky-small-spy-quad-copter-flying-over-dramatic-blue-clouds-59314131.jpg', 'drone-fun-small-spy-quad-copter-scout-flying-trees-forest-63191274.jpg', 'drone-trees-small-spy-quad-copter-scout-flying-forest-63071729.jpg', 'scout-drone-forest-small-spy-quad-copter-flying-trees-59314261.jpg', 'scout-drone-wild-small-spy-quad-copter-flying-trees-forest-62197188 (1).jpg', 'drone-flying-woods-small-spy-quad-copter-scout-trees-forest-62197109.jpg', 'surveillance-drone-wilderness-small-spy-quad-copter-scout-flying-trees-forest-59314580.jpg', 'drone-woods-small-spy-quad-copter-scout-flying-trees-forest-59314013.jpg', 'drone-wild-small-spy-quad-copter-scout-flying-trees-forest-59538692 (1).jpg', 'high-up-drone-small-spy-quad-copter-scout-flying-trees-forest-63071709.jpg', 'vintage-drone-shot-small-spy-quad-copter-scout-flying-trees-forest-59314102.jpg', 'drone-taking-off-small-spy-quad-copter-camouflage-hull-59314042.jpg', 'drone-against-sky-small-spy-quad-copter-flying-over-dramatic-blue-clouds-63191294.jpg', 'scout-drone-wilderness-small-spy-quad-copter-flying-trees-forest-59521158 (1).jpg', 'midair-drone-shot-small-spy-quad-copter-flying-over-clear-blue-sky-59314919.jpg', 'drone-against-blue-sky-small-spy-quad-copter-flying-over-clear-67681554.jpg', 'drone-flying-forest-small-spy-quad-copter-scout-trees-59521097.jpg', 'white-quadrocopter-flying-blue-sky-spy-drone-controlled-wireless-remote-72505279.jpg', 'russia-rostovskaya-oblast-september-dji-mavic-air-compact-drone-dji-mp-k-hdr-camera-mounted-axis-russia-rostovskaya-155065100.jpg', 'drone-quadrocopter-camera-video-shooting-flies-against-blue-sky-clouds-155832925.jpg', 'drone-quadrocopter-camera-video-shooting-flies-against-blue-sky-155832921.jpg', 'drone-quadrocopter-camera-video-shooting-flies-against-blue-sky-clouds-155832849.jpg', 'drone-quadrocopter-camera-video-shooting-flies-against-blue-sky-clouds-155832830.jpg', 'drone-quadrocopter-camera-video-shooting-flies-against-blue-sky-clouds-155832945.jpg', 'professional-aerial-drone-video-camera-shoots-footage-above-big-white-quadrocopter-aircraft-flying-high-blue-sky-122616766.jpg', 'drone-flying-over-sky-bottom-view-153237447.jpg', 'uav-drone-flying-27010794.jpg', 'flying-drone-quad-copter-air-spy-concept-122407400.jpg', 'flying-drone-quad-copter-air-spy-concept-122407429.jpg', 'flying-drone-quad-copter-air-spy-concept-179485066.jpg', 'flying-copter-autumn-yellow-forest-environment-leaves-161820766.jpg', 'flying-copter-autumn-yellow-forest-environment-leaves-161820768.jpg', 'flying-copter-autumn-yellow-forest-environment-leaves-161820773.jpg', 'old-fashioned-men-village-mastering-to-fly-drone-basics-remote-control-man-aviate-flying-technology-aircraft-propeller-142990050.jpg', 'drone-spy-camera-black-white-flying-video-spying-form-above-taken-85997217.jpg', 'flying-drone-quad-copter-air-flying-drone-quad-copter-air-spy-concept-104509335.jpg', 'small-compact-quadcopter-flies-air-sunset-drone-hovers-stays-stable-outdoors-96462847.jpg', 'small-compact-quadcopter-flies-air-sunset-drone-hovers-stays-stable-outdoors-96140829.jpg', 'small-gray-drone-flying-sky-quadcopter-cloudy-sky-background-small-gray-drone-flying-sky-quadcopter-cloudy-174044738.jpg', 'small-gray-drone-flying-sky-quadcopter-cloudy-sky-background-small-gray-drone-flying-sky-quadcopter-cloudy-174044713.jpg', 'small-gray-drone-flying-sky-quadcopter-cloudy-sky-background-small-gray-drone-flying-sky-quadcopter-cloudy-174044701.jpg', 'man-launches-removes-small-drone-quadcopter-white-background-winter-forest-170005124.jpg', 'man-launches-removes-small-drone-quadcopter-white-background-winter-winter-forest-man-launches-170005277.jpg', 'small-gray-drone-flying-sky-quadcopter-cloudy-background-175135006.jpg', 'bearded-man-launches-small-quadcopter-moscow-russia-august-holds-remote-control-171119465.jpg', 'drone-quadcopter-flying-small-hobby-class-cloudy-sky-171598556.jpg', 'small-white-quadcopter-flying-sky-drone-flight-wireless-remote-control-technology-white-quadcopter-sky-105308857.jpg', 'small-grey-drone-flying-near-green-trees-daytime-quadcopter-126165327.jpg', 'small-grey-drone-quadcopter-flying-near-green-trees-daytime-small-grey-drone-flying-near-green-trees-daytime-126165302.jpg', 'small-grey-drone-flying-near-green-trees-daytime-small-grey-drone-quadcopter-flying-near-green-trees-daytime-126165291.jpg', 'small-grey-drone-flying-near-green-trees-daytime-small-grey-drone-quadcopter-flying-near-green-trees-daytime-126165247.jpg', 'small-quadcopter-flying-indoors-bright-orange-blurred-silhouette-middle-aged-man-observed-background-86292595.jpg', 'drone-blue-sky-background-small-quadcopter-121618283.jpg', 'small-quadcopter-blue-sky-background-drone-blue-sky-background-121618285.jpg', 'modern-rc-uav-drone-quadcopter-camera-flying-clear-s-sunny-sky-sunset-background-nice-lens-flare-64355262.jpg', 'modern-rc-uav-drone-quadcopter-camera-flying-clear-s-sunny-sky-sunset-background-nice-lens-flare-64355256.jpg', 'modern-rc-uav-drone-quadcopter-camera-flying-clear-s-sunny-sky-sunset-background-nice-lens-flare-64355241.jpg', 'drone-taking-off-small-helicopter-landing-base-against-cloudy-sky-172483972.jpg', 'small-sized-red-drone-high-resolution-camera-hovering-air-aerial-photography-small-sized-red-drone-high-182183113.jpg', 'small-sized-red-drone-high-resolution-camera-hovering-air-aerial-photography-182183049.jpg', 'small-sized-red-drone-high-resolution-camera-hovering-air-aerial-photography-182183037.jpg', 'small-sized-red-drone-high-resolution-camera-hovering-air-aerial-photography-small-sized-red-drone-high-182183113 (1).jpg', 'small-sized-red-drone-high-resolution-camera-hovering-air-aerial-photography-182183171.jpg', 'quadcopter-gold-bokeh-dark-background-studio-quadcopter-gold-bokeh-dark-background-172792663.jpg', 'small-drone-fly-inside-house-room-145221938.jpg', 'small-drone-fly-inside-room-145221994.jpg', 'modern-rc-drone-quadcopter-camera-flying-sunrise-141052834.jpg', 'modern-rc-drone-quadcopter-camera-flying-sunrise-141053322.jpg', 'bordeaux-aquitaine-france-dji-phantom-drone-mid-flight-quadcopter-featuring-hd-camera-bordeaux-aquitaine-france-dji-phantom-drone-182428053.jpg', 'bordeaux-aquitaine-france-dji-phantom-drone-uprated-camera-quadcopter-flying-against-blue-sky-background-182353162.jpg', 'modern-cameras-quadcopter-modern-cameras-quadcopter-flies-against-blue-sky-shoots-video-103702954.jpg', 'modern-rc-uav-drone-quadcopter-camera-flying-clear-s-sunny-sky-sunset-background-nice-lens-flare-64355257.jpg', 'small-drone-flying-cloudy-sky-123642087.jpg', 'black-drone-quadcopter-camera-flying-over-blue-sky-angle-view-copy-space-black-drone-quadcopter-camera-flying-over-blue-118540166.jpg', 'quadcopter-drone-camera-hovering-blue-sky-149232888.jpg', 'quadcopter-drone-camera-hovering-blue-sky-149232613.jpg', 'white-quadcopter-steams-air-ukraine-kyiv-april-flies-takes-off-video-photo-92357082.jpg', 'quadcopter-drone-cloudy-sky-background-71361722.jpg', 'drone-carrying-island-cottage-quadcopter-small-boathouse-85328988.jpg', 'flying-quadcopter-blue-sky-camera-108583299.jpg', 'flying-drone-quadcopter-dji-phantom-high-resolution-digital-camera-rostov-don-russia-january-83544929.jpg', 'flying-drone-quadcopter-dji-phantom-high-resolution-digital-camera-rostov-don-russia-january-83617291.jpg', 'flying-drone-quadcopter-dji-phantom-high-resolution-digital-camera-rostov-don-russia-january-83544794.jpg', 'flying-drone-quadcopter-dji-phantom-high-resolution-digital-camera-rostov-don-russia-january-83544777.jpg', 'flying-drone-quadcopter-dji-phantom-high-resolution-digital-camera-rostov-don-russia-january-83544178.jpg', 'flying-drone-quadcopter-dji-phantom-high-resolution-digital-camera-rostov-don-russia-january-83616900.jpg', 'flying-drone-quadcopter-dji-phantom-high-resolution-digital-camera-rostov-don-russia-january-83616890.jpg', 'flying-drone-quadcopter-dji-phantom-high-resolution-digital-camera-rostov-don-russia-january-83616410.jpg', 'white-quadcopter-drone-sesimbra-portugal-july-white-quadcopter-drone-photo-camera-over-sea-close-up-white-quadcopter-136272860.jpg', 'sesimbra-portugal-july-white-quadcopter-drone-photo-camera-over-sea-close-up-white-quadcopter-drone-kind-136272861.jpg', 'sesimbra-portugal-july-white-quadcopter-drone-photo-camera-over-sea-close-up-white-quadcopter-drone-hovering-136273033.jpg', 'white-quadcopter-drone-photo-camera-sesimbra-portugal-july-white-quadcopter-drone-photo-camera-over-sea-close-up-136272312.jpg', 'small-white-drone-hover-blue-sky-background-68079740.jpg', 'quadcopter-drone-digital-camera-flight-blue-sky-background-quadcopter-drone-digital-camera-flight-blue-190767487.jpg', 'small-drone-flying-blue-sky-169259558.jpg', 'small-white-drone-flying-over-city-68079772.jpg', 'quadcopter-drone-digital-camera-flight-landscape-blue-sky-background-quadcopter-drone-digital-camera-190767470.jpg', 'small-white-drone-flying-over-city-68079788.jpg', 'small-modern-unmanned-aerial-vehicle-drone-flight-showing-telegraph-wires-landscape-views-country-scenery-looking-west-154687543.jpg', 'small-modern-unmanned-aerial-vehicle-drone-flight-showing-telegraph-wires-landscape-views-country-scenery-looking-west-154687411.jpg', 'small-modern-unmanned-aerial-vehicle-drone-flight-showing-telegraph-wires-landscape-views-country-scenery-looking-west-154687268.jpg', 'small-modern-unmanned-aerial-vehicle-drone-flight-showing-landscape-views-country-scenery-looking-west-canberra-154687228.jpg', 'quadcopter-drone-camera-hovering-blue-sky-135859235.jpg', 'small-white-drone-hover-blue-sky-background-68079765.jpg', 'small-sized-red-drone-high-resolution-camera-hovering-air-aerial-photography-182183153.jpg', 'small-sized-red-drone-high-resolution-camera-hovering-air-aerial-photography-182183170.jpg', 'small-sized-red-drone-high-resolution-camera-hovering-air-aerial-photography-182183156.jpg', 'small-sized-red-drone-high-resolution-camera-hovering-air-aerial-photography-182183166.jpg', 'small-sized-red-drone-high-resolution-camera-hovering-air-aerial-photography-182183161.jpg', 'small-sized-red-drone-high-resolution-camera-hovering-air-aerial-photography-182183134.jpg', 'small-sized-red-drone-high-resolution-camera-hovering-air-aerial-photography-182183135.jpg', 'small-sized-red-drone-high-resolution-camera-hovering-air-aerial-photography-182183131.jpg', 'small-sized-red-drone-high-resolution-camera-hovering-air-aerial-photography-182183142.jpg', 'small-sized-red-drone-high-resolution-camera-hovering-air-aerial-photography-182183130.jpg', 'small-sized-red-drone-high-resolution-camera-hovering-air-aerial-photography-182183102.jpg', 'small-sized-red-drone-high-resolution-camera-hovering-air-aerial-photography-182183115.jpg', 'small-sized-red-drone-high-resolution-camera-hovering-air-aerial-photography-182183056.jpg', 'small-sized-red-drone-high-resolution-camera-hovering-air-aerial-photography-182183052.jpg', 'small-sized-red-drone-high-resolution-camera-hovering-air-aerial-photography-182183045.jpg', 'small-sized-red-drone-high-resolution-camera-hovering-air-aerial-photography-182183043.jpg', 'small-sized-red-drone-high-resolution-camera-hovering-air-aerial-photography-182183034.jpg', 'small-sized-red-drone-high-resolution-camera-hovering-air-aerial-photography-182183168.jpg', 'small-sized-red-drone-high-resolution-camera-hovering-air-aerial-photography-182183147.jpg', 'small-sized-red-drone-high-resolution-camera-hovering-air-aerial-photography-182183119.jpg', 'small-sized-red-drone-high-resolution-camera-hovering-air-aerial-photography-182183118.jpg', 'small-sized-red-drone-high-resolution-camera-hovering-air-aerial-photography-182183039.jpg', 'close-up-shoot-dji-quadcopter-drone-mavic-mini-g-flying-sunny-forest-market-leader-drones-graz-austria-aerial-181065136.jpg', 'farmer-holds-remote-controller-his-hands-quadcopter-flying-background-drone-hovers-behind-farmer-holds-remote-168959219.jpg', 'small-drone-sky-white-blue-55080415.jpg', 'farmer-holds-remote-controller-his-hands-quadcopter-flying-background-drone-hovers-behind-farmer-holds-remote-168959135.jpg', 'compact-drone-hovers-front-man-remote-controller-his-hands-quadcopter-flies-near-pilot-guy-taking-aerial-photos-96312316.jpg', 'drone-hovers-front-man-remote-controller-his-hands-quadcopter-flies-near-pilot-guy-taking-aerial-photos-videos-96140571.jpg', 'ddrone-quadcopter-hoovers-over-lake-merritt-oakland-california-drone-64012047.jpg', 'flying-quadcopter-blue-sky-camera-78530449.jpg', 'flying-quadcopter-blue-sky-camera-77736914.jpg', 'flying-quadcopter-blue-sky-camera-77347323.jpg', 'small-red-quadrocopter-air-176850025.jpg', 'quadcopter-flies-blue-sky-aerial-survey-165624349.jpg', 'carvalhal-portugal-june-white-quadcopter-drone-photo-camera-over-dunes-close-up-white-quadcopter-drone-kind-138179730.jpg', 'close-up-small-modern-drone-close-up-small-modern-drone-object-178441567.jpg', 'close-up-small-modern-drone-object-close-up-small-modern-drone-178441711.jpg', 'small-portable-drone-flying-over-beach-capturing-sunset-as-tide-comes-long-island-new-york-186610340.jpg', 'graz-austria-close-up-shoot-dji-quadcopter-drone-mavic-mini-g-flying-against-sun-background-market-leader-drones-168251050.jpg', 'quadcopter-drone-camera-hovering-blue-sky-179586578.jpg', 'quadcopter-drone-camera-hovering-blue-sky-179586570.jpg', 'graz-austria-close-up-shoot-dji-quadcopter-drone-mavic-mini-g-drone-flying-against-blue-sky-background-dji-market-168250752.jpg', 'graz-austria-close-up-shoot-dji-quadcopter-drone-mavic-mini-g-flying-against-blue-sky-background-market-leader-168250854.jpg', 'graz-austria-close-up-shoot-dji-quadcopter-drone-mavic-mini-g-drone-flying-against-blue-sky-background-graz-austria-close-up-168251000.jpg', 'graz-austria-close-up-shoot-dji-quadcopter-drone-mavic-mini-g-drone-flying-against-blue-sky-background-graz-austria-close-up-168250965.jpg', 'graz-austria-close-up-shoot-dji-quadcopter-drone-mavic-mini-g-flying-against-blue-sky-background-market-leader-168250815.jpg', 'graz-austria-close-up-shoot-dji-quadcopter-drone-mavic-mini-g-drone-flying-sunny-forest-graz-austria-close-up-shoot-168250516.jpg', 'graz-austria-close-up-shoot-dji-quadcopter-drone-mavic-mini-g-drone-flying-sunny-forest-graz-austria-close-up-shoot-168250732.jpg', 'graz-austria-close-up-shoot-dji-quadcopter-drone-mavic-mini-g-flying-sunny-forest-market-leader-drones-aerial-168250466.jpg', 'graz-austria-close-up-shoot-dji-quadcopter-drone-mavic-mini-g-drone-flying-sunny-forest-graz-austria-close-up-shoot-168250436.jpg', 'graz-austria-close-up-shoot-dji-quadcopter-drone-mavic-mini-g-drone-flying-sunny-forest-dji-market-leader-drones-168250518.jpg', 'graz-austria-close-up-shoot-dji-quadcopter-drone-mavic-mini-g-flying-sunny-forest-market-leader-drones-aerial-168250678.jpg', 'flying-copter-autumn-yellow-forest-environment-leaves-161820766 (1).jpg', 'flying-copter-autumn-yellow-forest-environment-leaves-161820768 (1).jpg', 'flying-copter-autumn-yellow-forest-environment-leaves-161820773 (1).jpg', 'compact-drone-hovers-front-two-hipster-men-quadcopter-flies-near-farmer-agronomist-exploring-harvest-pilot-vith-97086813.jpg', 'drone-quadcopter-blue-sky-background-drone-quadcopter-digital-camera-blue-sky-background-159662717.jpg', 'quadcopter-drone-hovering-clear-blue-sky-landing-ground-video-photo-shooting-concept-clip-black-small-quadrotor-155211007.jpg', 'quadcopter-drone-blue-sky-background-152143194.jpg', 'quadcopter-drone-camera-against-blue-sky-153995445.jpg', 'quadcopter-drone-camera-against-blue-sky-153995224.jpg', 'quadcopter-drone-camera-against-blue-sky-153995072.jpg', 'quadcopter-drone-camera-against-blue-sky-153995005.jpg', 'quadcopter-drone-camera-against-blue-sky-153995237.jpg', 'quadcopter-drone-camera-against-blue-sky-153995235.jpg', 'quadcopter-drone-camera-against-blue-sky-153994842.jpg', 'milan-italy-august-drone-small-camera-red-green-lights-flying-white-sky-145313417.jpg', 'drone-quadcopter-nature-background-copy-space-top-view-flat-lay-composition-drone-quadcopter-digital-camera-148007259.jpg', 'drone-quadcopter-nature-background-copy-space-top-view-flat-lay-composition-drone-quadcopter-digital-camera-148007237.jpg', 'drone-quadcopter-moscow-october-dji-phantom-professional-high-resolution-digital-camera-conducts-filming-sporting-events-60888320.jpg', 'quadcopter-drone-camera-against-blue-sky-flight-copter-95714029.jpg', 'drone-flying-air-park-alley-131338376.jpg', 'closeup-small-drone-video-appllcation-outdoor-blue-sky-background-closeup-small-drone-video-appllcation-127550300.jpg', 'closeup-small-drone-video-appllcation-outdoor-blue-sky-background-127613627.jpg', 'small-white-drone-hover-blue-sky-background-68079764.jpg', 'small-smart-drone-quadrocopter-flying-white-sky-green-trees-technology-photo-video-shooting-oe-future-124290222.jpg', 'small-smart-drone-quadrocopter-flying-white-sky-green-trees-small-smart-drone-quadrocopter-flying-white-sky-green-124290211.jpg', 'modern-rc-drone-quadcopter-camera-flying-108364403.jpg', 'small-red-grey-drone-landing-gear-attached-battery-half-charge-flying-against-blurred-background-sky-106745658.jpg', 'small-white-drone-hover-blue-sky-background-68079754.jpg', 'flying-quadcopter-blue-sky-camera-90325996.jpg', 'ddrone-quadcopter-hoovers-over-lake-merritt-oakland-california-drone-64012053.jpg', 'quadcopter-drone-camera-hovering-blue-sky-quadcopter-drone-camera-hovering-blue-sky-106734760.jpg', 'quadcopter-drone-camera-hovering-blue-sky-quadcopter-drone-camera-hovering-blue-sky-106734733.jpg', 'quadcopter-drone-camera-against-blue-sky-flight-copter-95713924.jpg', 'inspector-traffic-police-services-monitors-route-using-quadcopter-moscow-region-russia-may-90363879.jpg', 'quadcopter-drone-camera-hovering-blue-sky-quadcopter-drone-camera-hovering-blue-sky-100801226.jpg', 'quadcopter-drone-camera-hovering-blue-sky-quadcopter-drone-camera-hovering-blue-sky-100800857.jpg', 'flying-quadcopter-blue-sky-camera-76553781.jpg', 'flying-quadcopter-blue-sky-camera-75743568.jpg', 'flying-quadcopter-camera-blue-sky-85639907.jpg', 'white-quadcopter-compact-drone-controlled-wireless-remote-black-photo-86334145.jpg', 'white-quadrocopter-small-drone-sky-controlled-wireless-remote-black-photo-86334105.jpg', 'inspector-traffic-police-services-monitors-route-using-quadcopter-moscow-region-russia-may-90488979.jpg', 'inspector-traffic-police-services-monitors-route-using-quadcopter-moscow-region-russia-may-90488887.jpg', 'inspector-traffic-police-services-monitors-route-using-quadcopter-moscow-region-russia-may-90363929.jpg', 'inspector-traffic-police-services-monitors-route-using-quadcopter-istra-russia-may-90728619.jpg', 'inspector-traffic-police-services-monitors-route-using-quadcopter-istra-russia-may-istra-russia-may-90808068.jpg', 'funny-picture-modern-rc-drone-quadcopter-camera-flying-green-field-front-curious-cow-72313586.jpg', 'single-small-drones-overcast-drone-aircraft-used-aerial-photography-clouds-can-be-dangerous-59012237.jpg', 'quadcopter-camera-flying-clear-sunny-sky-sunset-backgr-background-nice-lens-flare-72299006.jpg', 'quadcopter-camera-flying-clear-sunny-sky-sunset-backgr-background-nice-lens-flare-72299023.jpg', 'black-drone-sky-bright-picture-quadcopter-flying-making-photos-video-high-61710804.jpg', 'drone-flying-camera-small-quadcopter-over-lake-colorado-foothills-45134540.jpg', 'drone-flying-above-city-sunset-drone-flying-above-city-sunset-quadcopter-digital-camera-118650289.jpg', 'dron-dji-inspire-quadcopter-fly-sky-53048168.jpg', 'dron-dji-inspire-quadcopter-fly-sky-49673236.jpg', 'small-herd-cows-grazing-mountain-pasture-drone-flying-above-switzerland-134038953.jpg', 'small-herd-cows-grazing-mountain-pasture-drone-flying-above-switzerland-134038987.jpg', 'dron-dji-inspire-quadcopter-fly-sky-77759294.jpg', 'drone-flight-quadcopter-makes-landing-city-safety-banner-92164763.jpg', 'small-drone-flies-sky-flying-such-drones-hobby-181471045.jpg', 'drone-camera-attached-remotely-controlled-rc-quadcopter-gopro-aerial-photography-video-taken-michigan-50717886.jpg', 'dron-dji-inspire-quadcopter-fly-sky-77759303.jpg', 'dynjandi-waterfall-little-quadcopter-fliyng-around-westfjords-iceland-49559195.jpg', 'drone-flight-quadcopter-makes-landing-town-safety-92107838.jpg', 'small-camera-drone-flying-cloudy-sunset-close-up-small-camera-drone-flying-cloudy-sunset-190954109.jpg', 'dji-phantom-quadcopter-drone-flight-gopro-camera-photo-quadrocopter-hero-black-attached-to-gimbal-49972694.jpg', 'drone-sky-small-spy-quad-copter-flying-over-dramatic-blue-clouds-59314131 (1).jpg', 'yuneeqq500 (1).jpg', 'd47d0d488255887bb3fd0c0a24927fd7.jpg', '76713cb54c7734dc4a84a406570bbbaf.jpg', '8ec781d2d38da58ba5a4b143c17e0c9b.jpg', '1aaf9167d485a5aada8e91cc4bbbf3b2.jpg', 'garching-germany-january-dji-mavic-pro-small-powerful-drone-landing-its-pad-snow-136424071.jpg', 'drone-flight-small-commercial-drone-flight-168392926.jpg', 'small-consumer-drone-flying-dji-innovations-phantom-small-consumer-drone-launch-hand-117165538.jpg', 'silhouette-small-drone-flying-sky-silhouette-small-drone-flying-sky-117703144.jpg', 'drone-flight-small-red-toy-quadrotor-helicopter-flying-seen-below-clear-blue-sky-as-background-124180976.jpg', 'drone-flight-tullgarn-sweden-may-one-dji-phantom-quadcopter-against-blue-sky-119659887.jpg', 'drone-flight-quadcopter-against-background-city-skyline-92164743.jpg', 'drone-flight-quadcopter-against-background-city-skyline-92164745.jpg', 'drone-flight-quadcopter-against-background-city-skyline-92164837.jpg', 'drone-flight-quadcopter-against-background-city-skyline-92164711.jpg', 'drone-flight-quadcopter-against-background-city-skyline-92164700.jpg', 'drone-flight-quadcopter-against-background-city-skyline-92164710.jpg', 'drone-flight-quadcopter-against-background-city-skyline-92164665.jpg', 'drone-flight-quadcopter-against-background-city-skyline-92164674.jpg', 'drone-flight-quadcopter-high-blue-sky-background-92164636.jpg', 'drone-flight-quadcopter-against-background-city-skyline-92164643.jpg', 'drone-flight-quadcopter-against-background-city-skyline-92107922.jpg', 'drone-flight-quadcopter-makes-landing-city-lot-people-safety-92107875.jpg', 'drone-flight-quadcopter-against-background-city-skyline-92107847.jpg', 'drone-flight-quadcopter-makes-landing-city-background-buildings-92107834.jpg', 'drone-flight-quadcopter-flying-city-background-buildings-92107806.jpg', 'drone-flight-quadcopter-against-background-city-skyline-92107766.jpg', 'drone-flight-quadcopter-against-background-city-skyline-92107764.jpg', 'drone-flight-quadcopter-against-background-city-skyline-92107716.jpg', 'drone-flight-quadcopter-high-blue-sky-background-92107686.jpg', 'drone-flight-quadcopter-flying-city-background-buildings-ahead-man-manages-92107679.jpg', 'drone-flight-quadcopter-high-blue-sky-background-92107669.jpg', 'small-modern-drone-hovering-taking-picture-sunrise-mountai-mountain-autumn-130119063.jpg', 'man-remote-controller-operating-flying-drone-quad-copter-modern-small-aircraft-aerial-video-making-toned-128027219.jpg', 'flying-drone-camera-small-55467629.jpg', 'boy-playing-small-quadrocopter-drone-close-up-smartphone-doing-homework-learning-concept-young-student-smartphone-86538204.jpg', 'dji-phantom-quadcopter-drone-flight-gopro-camera-photo-quadrocopter-hero-black-attached-to-gimbal-49972698.jpg', 'drone-camera-small-flying-over-wooden-pier-unmanned-aerial-vehicle-flight-radio-control-helicopter-54212115.jpg', 'white-drone-hovering-bright-blue-sky-hand-ready-to-cat-guatape-colombia-march-flying-radio-controlled-dji-phantom-59201461.jpg', 'modern-rc-drone-quadcopter-camera-flying-108221606.jpg', 'small-drone-fly-air-cloudy-sky-background-small-drone-air-107608077.jpg', 'tullgarn-sweden-may-one-white-dji-phantom-quadcopter-its-camera-pointing-forward-hovering-near-ground-level-white-drone-119659923.jpg', 'black-compact-flying-drone-quadcopter-camera-169186177.jpg', 'small-drone-flies-sky-above-chapel-church-perast-montenegro-small-drone-flies-sky-above-chapel-189026979.jpg', 'drone-flying-above-green-rural-fields-small-drone-flying-above-green-rural-fields-189392766.jpg', 'small-unmanned-drone-hovering-grey-quadcopter-sunset-mountain-landscape-176166236.jpg', 'drone-quadrocopter-white-quadcopter-flight-small-camcorder-59782645.jpg', 'small-drone-quadrocopter-flies-background-red-rocky-mountains-174415987.jpg', 'small-modern-unmanned-aerial-vehicle-drone-flight-showing-telegraph-wires-landscape-views-country-scenery-looking-west-154687460.jpg', 'flying-drone-camera-quadcopter-indoor-professional-small-video-hanging-air-concept-88457327.jpg', 'grey-flying-drone-not-high-small-hight-making-low-shoots-some-place-159879562.jpg'] to the folder \"Small QuadCopters\" inside zip file<zipfile.ZipFile filename='ThumbnailData_AnilBhatt.zip' mode='a'>\n"
          ],
          "name": "stdout"
        },
        {
          "output_type": "display_data",
          "data": {
            "application/vnd.jupyter.widget-view+json": {
              "model_id": "44a0cede2c8f48fe853fc925d4e604bf",
              "version_minor": 0,
              "version_major": 2
            },
            "text/plain": [
              "HBox(children=(FloatProgress(value=0.0, max=2823.0), HTML(value='')))"
            ]
          },
          "metadata": {
            "tags": []
          }
        },
        {
          "output_type": "stream",
          "text": [
            "\n",
            "Time took: 1596628752.9359748 - 1596627564.49245 = 19.81 secs\n"
          ],
          "name": "stdout"
        }
      ]
    },
    {
      "cell_type": "code",
      "metadata": {
        "id": "sOj4nPaDfyvc",
        "colab_type": "code",
        "colab": {}
      },
      "source": [
        "zip_out.close()\n",
        "zip_out = ZipFile('ThumbnailData_AnilBhatt.zip', mode = 'a')"
      ],
      "execution_count": 34,
      "outputs": []
    },
    {
      "cell_type": "code",
      "metadata": {
        "id": "rsJvy0_janUQ",
        "colab_type": "code",
        "colab": {
          "base_uri": "https://localhost:8080/",
          "height": 156,
          "referenced_widgets": [
            "25cb558a5d1b4e76b6193102c64151d0",
            "d3e37337c89a407f89ff611ae628abae",
            "9e49a5d3283f4d74b76aaf94dcc19f56",
            "e8eb16ff97a344deb6303259ad281fb0",
            "dec19170dc44496d8bb84a63dccd5019",
            "fdb851720c0340f5a3bfb7afcf559744",
            "39b7340198e1401dabada7ee36962ea2",
            "b47efdceeb7b452985faa24c8970bb70"
          ]
        },
        "outputId": "68c00eb4-ff46-46db-eaab-e2f06ec1cabb"
      },
      "source": [
        "print(f'Writing images from {wingdronepath} to the folder \"Winged Drones\" inside zip file{zip_out}')\n",
        "t1 = time()\n",
        "resize_and_writetozip(str(wingdronepath), wingdronelist, 'Winged Drones', zip_out)\n",
        "t2 = time()\n",
        "print(f'Time took: {t2} - {t1} = {(t2-t1)/60:.2f} mins')"
      ],
      "execution_count": 35,
      "outputs": [
        {
          "output_type": "stream",
          "text": [
            "Writing images from /content/gdrive/My Drive/Session 2 Dataset/Winged Drones to the folder \"Winged Drones\" inside zip file<zipfile.ZipFile filename='ThumbnailData_AnilBhatt.zip' mode='a'>\n"
          ],
          "name": "stdout"
        },
        {
          "output_type": "display_data",
          "data": {
            "application/vnd.jupyter.widget-view+json": {
              "model_id": "25cb558a5d1b4e76b6193102c64151d0",
              "version_minor": 0,
              "version_major": 2
            },
            "text/plain": [
              "HBox(children=(FloatProgress(value=0.0, max=3828.0), HTML(value='')))"
            ]
          },
          "metadata": {
            "tags": []
          }
        },
        {
          "output_type": "stream",
          "text": [
            "/usr/local/lib/python3.6/dist-packages/PIL/Image.py:932: UserWarning: Palette images with Transparency expressed in bytes should be converted to RGBA images\n",
            "  \"Palette images with Transparency expressed in bytes should be \"\n"
          ],
          "name": "stderr"
        },
        {
          "output_type": "stream",
          "text": [
            "\n",
            "Time took: 1596630586.7548647 - 1596628939.8874576 = 27.45 mins\n"
          ],
          "name": "stdout"
        }
      ]
    },
    {
      "cell_type": "markdown",
      "metadata": {
        "id": "O0McvYW_n9DI",
        "colab_type": "text"
      },
      "source": [
        "#### Copying the zip file from colab to gdrive folder"
      ]
    },
    {
      "cell_type": "code",
      "metadata": {
        "id": "oDSaWSdWf3HG",
        "colab_type": "code",
        "colab": {}
      },
      "source": [
        "!cp '/content/ThumbnailData_AnilBhatt.zip' '/content/gdrive/My Drive/EVA4P2_S2_Zipdataset/'"
      ],
      "execution_count": 38,
      "outputs": []
    },
    {
      "cell_type": "code",
      "metadata": {
        "id": "Pt58jj_zncPp",
        "colab_type": "code",
        "colab": {}
      },
      "source": [
        ""
      ],
      "execution_count": null,
      "outputs": []
    }
  ]
}